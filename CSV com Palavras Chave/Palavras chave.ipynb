{
 "cells": [
  {
   "cell_type": "markdown",
   "metadata": {},
   "source": [
    "# Identificando frequência das palavras-chave"
   ]
  },
  {
   "cell_type": "code",
   "execution_count": 1,
   "metadata": {},
   "outputs": [],
   "source": [
    "# Imports\n",
    "import pandas as pd\n",
    "import datetime\n",
    "import matplotlib.pyplot as plt\n",
    "from IPython.display import clear_output\n",
    "import nltk\n",
    "import re\n",
    "from collections import defaultdict, Counter\n",
    "from string import punctuation\n",
    "\n",
    "#stopwords em portugues\n",
    "from nltk.corpus import stopwords\n",
    "stopwords = set(stopwords.words('portuguese') + list(punctuation) + ['“','”'])\n",
    "\n",
    "#funçao pra limpeza de texto\n",
    "from nltk.tokenize import TweetTokenizer\n",
    "tweet_tokenizer = TweetTokenizer(strip_handles=True, reduce_len=True, preserve_case=False)"
   ]
  },
  {
   "cell_type": "markdown",
   "metadata": {},
   "source": [
    "#### Lendo CSV e limpando colunas"
   ]
  },
  {
   "cell_type": "code",
   "execution_count": 2,
   "metadata": {},
   "outputs": [],
   "source": [
    "tweetsDF = pd.read_csv('out.csv')"
   ]
  },
  {
   "cell_type": "code",
   "execution_count": 3,
   "metadata": {},
   "outputs": [],
   "source": [
    "tweetsDF = tweetsDF[['text', 'Day']]"
   ]
  },
  {
   "cell_type": "code",
   "execution_count": 4,
   "metadata": {},
   "outputs": [],
   "source": [
    "tweetsDF.to_csv('clean.csv', index=True)"
   ]
  },
  {
   "cell_type": "code",
   "execution_count": 5,
   "metadata": {},
   "outputs": [],
   "source": [
    "tweets = tweetsDF"
   ]
  },
  {
   "cell_type": "markdown",
   "metadata": {},
   "source": [
    "#### Função para tokenizar strings"
   ]
  },
  {
   "cell_type": "code",
   "execution_count": 6,
   "metadata": {},
   "outputs": [],
   "source": [
    "# funçao pra limpar texto e retirar stopwords\n",
    "def tokenizar_texto(texto_tweet):\n",
    "    texto_tokenizado = tweet_tokenizer.tokenize(texto_tweet)\n",
    "\n",
    "    if texto_tokenizado[0] == \"rt\" and texto_tokenizado[1] == \":\":\n",
    "        del texto_tokenizado[0]\n",
    "    \n",
    "    palavras_sem_stopwords = [palavra for palavra in texto_tokenizado if palavra not in stopwords] \n",
    "    return palavras_sem_stopwords"
   ]
  },
  {
   "cell_type": "markdown",
   "metadata": {},
   "source": [
    "#### Tokenizando a coluna 'text'"
   ]
  },
  {
   "cell_type": "code",
   "execution_count": 7,
   "metadata": {},
   "outputs": [],
   "source": [
    "tweets['text'] = tweets['text'].apply(lambda x: tokenizar_texto(x))"
   ]
  },
  {
   "cell_type": "code",
   "execution_count": 8,
   "metadata": {},
   "outputs": [],
   "source": [
    "tweets = tweets.groupby('Day').sum()"
   ]
  },
  {
   "cell_type": "code",
   "execution_count": 9,
   "metadata": {},
   "outputs": [
    {
     "data": {
      "text/html": [
       "<div>\n",
       "<style scoped>\n",
       "    .dataframe tbody tr th:only-of-type {\n",
       "        vertical-align: middle;\n",
       "    }\n",
       "\n",
       "    .dataframe tbody tr th {\n",
       "        vertical-align: top;\n",
       "    }\n",
       "\n",
       "    .dataframe thead th {\n",
       "        text-align: right;\n",
       "    }\n",
       "</style>\n",
       "<table border=\"1\" class=\"dataframe\">\n",
       "  <thead>\n",
       "    <tr style=\"text-align: right;\">\n",
       "      <th></th>\n",
       "      <th>text</th>\n",
       "    </tr>\n",
       "    <tr>\n",
       "      <th>Day</th>\n",
       "      <th></th>\n",
       "    </tr>\n",
       "  </thead>\n",
       "  <tbody>\n",
       "    <tr>\n",
       "      <th>2020-04-11</th>\n",
       "      <td>[efeitos, quarentena, kkk, quarentena, acabou,...</td>\n",
       "    </tr>\n",
       "    <tr>\n",
       "      <th>2020-04-12</th>\n",
       "      <td>[existem, 5, opções, vc, vai, sair, dessa, qua...</td>\n",
       "    </tr>\n",
       "    <tr>\n",
       "      <th>2020-04-13</th>\n",
       "      <td>[nunca, imaginei, acompanharia, bbb, tanto, af...</td>\n",
       "    </tr>\n",
       "    <tr>\n",
       "      <th>2020-04-14</th>\n",
       "      <td>[dizia, deus, maior, vírus, queria, lote, igre...</td>\n",
       "    </tr>\n",
       "    <tr>\n",
       "      <th>2020-04-15</th>\n",
       "      <td>[olá, venho, meio, deste, pedir, vc, 41,33, vo...</td>\n",
       "    </tr>\n",
       "  </tbody>\n",
       "</table>\n",
       "</div>"
      ],
      "text/plain": [
       "                                                         text\n",
       "Day                                                          \n",
       "2020-04-11  [efeitos, quarentena, kkk, quarentena, acabou,...\n",
       "2020-04-12  [existem, 5, opções, vc, vai, sair, dessa, qua...\n",
       "2020-04-13  [nunca, imaginei, acompanharia, bbb, tanto, af...\n",
       "2020-04-14  [dizia, deus, maior, vírus, queria, lote, igre...\n",
       "2020-04-15  [olá, venho, meio, deste, pedir, vc, 41,33, vo..."
      ]
     },
     "execution_count": 9,
     "metadata": {},
     "output_type": "execute_result"
    }
   ],
   "source": [
    "tweets.head()"
   ]
  },
  {
   "cell_type": "markdown",
   "metadata": {},
   "source": [
    "# Avaliando frequência das palavras-chave escolhidas em cada dia"
   ]
  },
  {
   "cell_type": "code",
   "execution_count": 10,
   "metadata": {},
   "outputs": [],
   "source": [
    "days = tweets.index.tolist()"
   ]
  },
  {
   "cell_type": "code",
   "execution_count": 11,
   "metadata": {},
   "outputs": [
    {
     "data": {
      "image/png": "[encoded data removed]",
      "text/plain": [
       "<Figure size 432x288 with 1 Axes>"
      ]
     },
     "metadata": {
      "needs_background": "light"
     },
     "output_type": "display_data"
    },
    {
     "data": {
      "image/png": "[encoded data removed]",
      "text/plain": [
       "<Figure size 432x288 with 1 Axes>"
      ]
     },
     "metadata": {
      "needs_background": "light"
     },
     "output_type": "display_data"
    },
    {
     "data": {
      "image/png": "[encoded data removed]",
      "text/plain": [
       "<Figure size 432x288 with 1 Axes>"
      ]
     },
     "metadata": {
      "needs_background": "light"
     },
     "output_type": "display_data"
    },
    {
     "data": {
      "image/png": "[encoded data removed]",
      "text/plain": [
       "<Figure size 432x288 with 1 Axes>"
      ]
     },
     "metadata": {
      "needs_background": "light"
     },
     "output_type": "display_data"
    },
    {
     "data": {
      "image/png": "[encoded data removed]",
      "text/plain": [
       "<Figure size 432x288 with 1 Axes>"
      ]
     },
     "metadata": {
      "needs_background": "light"
     },
     "output_type": "display_data"
    },
    {
     "data": {
      "image/png": "[encoded data removed]",
      "text/plain": [
       "<Figure size 432x288 with 1 Axes>"
      ]
     },
     "metadata": {
      "needs_background": "light"
     },
     "output_type": "display_data"
    },
    {
     "data": {
      "image/png": "[encoded data removed]",
      "text/plain": [
       "<Figure size 432x288 with 1 Axes>"
      ]
     },
     "metadata": {
      "needs_background": "light"
     },
     "output_type": "display_data"
    }
   ],
   "source": [
    "for day in days:\n",
    "    keywords = ['corona', 'covid', 'coronavirus', 'covid19', 'covid-19', 'sars', 'coronavírus']\n",
    "    i = days.index(day)\n",
    "    frequency = Counter(tweets['text'][i])\n",
    "    frequency = {k: v for k, v in frequency.items() if k in keywords}\n",
    "    frequency['coronavirus'] += frequency.get('coronavírus')\n",
    "    del frequency['coronavírus']\n",
    "    \n",
    "    frequency = pd.DataFrame.from_dict(frequency, orient='index')\n",
    "    \n",
    "    frequency['freq'] = frequency[0]\n",
    "    frequency = frequency.drop(columns = 0)\n",
    "    frequency = frequency.sort_values(by='freq', ascending = False)\n",
    "    \n",
    "    top5 = frequency.index[:5].tolist() # Lista com as 10 palavras mais frequentes\n",
    "    freq_top5 = frequency['freq'][:5].tolist() # Lista com a frequência dessas palavras\n",
    "    \n",
    "    plt.barh(top5, freq_top5, color=(129/255, 203/255, 223/255, 1))\n",
    "    plt.title('Frequência das palavras-chave no dia ' + day)\n",
    "    plt.xlabel('Frequência')\n",
    "    plt.ylabel('Palavra')\n",
    "    plt.show()"
   ]
  },
  {
   "cell_type": "code",
   "execution_count": 12,
   "metadata": {},
   "outputs": [
    {
     "data": {
      "text/html": [
       "<div>\n",
       "<style scoped>\n",
       "    .dataframe tbody tr th:only-of-type {\n",
       "        vertical-align: middle;\n",
       "    }\n",
       "\n",
       "    .dataframe tbody tr th {\n",
       "        vertical-align: top;\n",
       "    }\n",
       "\n",
       "    .dataframe thead th {\n",
       "        text-align: right;\n",
       "    }\n",
       "</style>\n",
       "<table border=\"1\" class=\"dataframe\">\n",
       "  <thead>\n",
       "    <tr style=\"text-align: right;\">\n",
       "      <th></th>\n",
       "      <th>text</th>\n",
       "    </tr>\n",
       "    <tr>\n",
       "      <th>Day</th>\n",
       "      <th></th>\n",
       "    </tr>\n",
       "  </thead>\n",
       "  <tbody>\n",
       "    <tr>\n",
       "      <th>2020-04-11</th>\n",
       "      <td>[efeitos, quarentena, kkk, quarentena, acabou,...</td>\n",
       "    </tr>\n",
       "    <tr>\n",
       "      <th>2020-04-12</th>\n",
       "      <td>[existem, 5, opções, vc, vai, sair, dessa, qua...</td>\n",
       "    </tr>\n",
       "    <tr>\n",
       "      <th>2020-04-13</th>\n",
       "      <td>[nunca, imaginei, acompanharia, bbb, tanto, af...</td>\n",
       "    </tr>\n",
       "    <tr>\n",
       "      <th>2020-04-14</th>\n",
       "      <td>[dizia, deus, maior, vírus, queria, lote, igre...</td>\n",
       "    </tr>\n",
       "    <tr>\n",
       "      <th>2020-04-15</th>\n",
       "      <td>[olá, venho, meio, deste, pedir, vc, 41,33, vo...</td>\n",
       "    </tr>\n",
       "  </tbody>\n",
       "</table>\n",
       "</div>"
      ],
      "text/plain": [
       "                                                         text\n",
       "Day                                                          \n",
       "2020-04-11  [efeitos, quarentena, kkk, quarentena, acabou,...\n",
       "2020-04-12  [existem, 5, opções, vc, vai, sair, dessa, qua...\n",
       "2020-04-13  [nunca, imaginei, acompanharia, bbb, tanto, af...\n",
       "2020-04-14  [dizia, deus, maior, vírus, queria, lote, igre...\n",
       "2020-04-15  [olá, venho, meio, deste, pedir, vc, 41,33, vo..."
      ]
     },
     "execution_count": 12,
     "metadata": {},
     "output_type": "execute_result"
    }
   ],
   "source": [
    "tweets.head()"
   ]
  },
  {
   "cell_type": "code",
   "execution_count": 13,
   "metadata": {},
   "outputs": [],
   "source": [
    "def freq(wordlist):\n",
    "    wordlist = Counter(wordlist)\n",
    "    wordlist = {k: v for k, v in wordlist.items() if k in keywords}\n",
    "    wordlist['coronavirus'] += wordlist.get('coronavírus')\n",
    "    del wordlist['coronavírus']\n",
    "    \n",
    "    return wordlist"
   ]
  },
  {
   "cell_type": "code",
   "execution_count": 14,
   "metadata": {},
   "outputs": [],
   "source": [
    "tweets['text'] = tweets['text'].apply(lambda x: freq(x))"
   ]
  },
  {
   "cell_type": "code",
   "execution_count": 15,
   "metadata": {},
   "outputs": [
    {
     "data": {
      "text/html": [
       "<div>\n",
       "<style scoped>\n",
       "    .dataframe tbody tr th:only-of-type {\n",
       "        vertical-align: middle;\n",
       "    }\n",
       "\n",
       "    .dataframe tbody tr th {\n",
       "        vertical-align: top;\n",
       "    }\n",
       "\n",
       "    .dataframe thead th {\n",
       "        text-align: right;\n",
       "    }\n",
       "</style>\n",
       "<table border=\"1\" class=\"dataframe\">\n",
       "  <thead>\n",
       "    <tr style=\"text-align: right;\">\n",
       "      <th></th>\n",
       "      <th>text</th>\n",
       "    </tr>\n",
       "    <tr>\n",
       "      <th>Day</th>\n",
       "      <th></th>\n",
       "    </tr>\n",
       "  </thead>\n",
       "  <tbody>\n",
       "    <tr>\n",
       "      <th>2020-04-11</th>\n",
       "      <td>{'corona': 132, 'covid': 258, 'coronavirus': 103}</td>\n",
       "    </tr>\n",
       "    <tr>\n",
       "      <th>2020-04-12</th>\n",
       "      <td>{'corona': 359, 'covid': 627, 'coronavirus': 2...</td>\n",
       "    </tr>\n",
       "    <tr>\n",
       "      <th>2020-04-13</th>\n",
       "      <td>{'covid': 669, 'corona': 455, 'coronavirus': 245}</td>\n",
       "    </tr>\n",
       "    <tr>\n",
       "      <th>2020-04-14</th>\n",
       "      <td>{'corona': 691, 'covid': 818, 'coronavirus': 4...</td>\n",
       "    </tr>\n",
       "    <tr>\n",
       "      <th>2020-04-15</th>\n",
       "      <td>{'covid': 784, 'coronavirus': 436, 'corona': 3...</td>\n",
       "    </tr>\n",
       "  </tbody>\n",
       "</table>\n",
       "</div>"
      ],
      "text/plain": [
       "                                                         text\n",
       "Day                                                          \n",
       "2020-04-11  {'corona': 132, 'covid': 258, 'coronavirus': 103}\n",
       "2020-04-12  {'corona': 359, 'covid': 627, 'coronavirus': 2...\n",
       "2020-04-13  {'covid': 669, 'corona': 455, 'coronavirus': 245}\n",
       "2020-04-14  {'corona': 691, 'covid': 818, 'coronavirus': 4...\n",
       "2020-04-15  {'covid': 784, 'coronavirus': 436, 'corona': 3..."
      ]
     },
     "execution_count": 15,
     "metadata": {},
     "output_type": "execute_result"
    }
   ],
   "source": [
    "tweets.head()"
   ]
  },
  {
   "cell_type": "code",
   "execution_count": 16,
   "metadata": {},
   "outputs": [
    {
     "name": "stdout",
     "output_type": "stream",
     "text": [
      "corona\n",
      "covid\n",
      "coronavirus\n",
      "corona\n",
      "covid\n",
      "coronavirus\n",
      "sars\n",
      "covid\n",
      "corona\n",
      "coronavirus\n",
      "corona\n",
      "covid\n",
      "coronavirus\n",
      "sars\n",
      "covid\n",
      "coronavirus\n",
      "corona\n",
      "sars\n",
      "covid\n",
      "corona\n",
      "coronavirus\n",
      "sars\n",
      "covid\n",
      "coronavirus\n",
      "corona\n",
      "sars\n"
     ]
    }
   ],
   "source": [
    "for i in range(len(tweets)):\n",
    "    lista = []\n",
    "    for key in tweets['text'][i]:\n",
    "        if key not in lista:\n",
    "            print(key)\n",
    "            lista.append(key)\n",
    "            tweets[key] = 0\n",
    "    "
   ]
  },
  {
   "cell_type": "code",
   "execution_count": 17,
   "metadata": {},
   "outputs": [
    {
     "data": {
      "text/html": [
       "<div>\n",
       "<style scoped>\n",
       "    .dataframe tbody tr th:only-of-type {\n",
       "        vertical-align: middle;\n",
       "    }\n",
       "\n",
       "    .dataframe tbody tr th {\n",
       "        vertical-align: top;\n",
       "    }\n",
       "\n",
       "    .dataframe thead th {\n",
       "        text-align: right;\n",
       "    }\n",
       "</style>\n",
       "<table border=\"1\" class=\"dataframe\">\n",
       "  <thead>\n",
       "    <tr style=\"text-align: right;\">\n",
       "      <th></th>\n",
       "      <th>text</th>\n",
       "      <th>corona</th>\n",
       "      <th>covid</th>\n",
       "      <th>coronavirus</th>\n",
       "      <th>sars</th>\n",
       "    </tr>\n",
       "    <tr>\n",
       "      <th>Day</th>\n",
       "      <th></th>\n",
       "      <th></th>\n",
       "      <th></th>\n",
       "      <th></th>\n",
       "      <th></th>\n",
       "    </tr>\n",
       "  </thead>\n",
       "  <tbody>\n",
       "    <tr>\n",
       "      <th>2020-04-11</th>\n",
       "      <td>{'corona': 132, 'covid': 258, 'coronavirus': 103}</td>\n",
       "      <td>0</td>\n",
       "      <td>0</td>\n",
       "      <td>0</td>\n",
       "      <td>0</td>\n",
       "    </tr>\n",
       "    <tr>\n",
       "      <th>2020-04-12</th>\n",
       "      <td>{'corona': 359, 'covid': 627, 'coronavirus': 2...</td>\n",
       "      <td>0</td>\n",
       "      <td>0</td>\n",
       "      <td>0</td>\n",
       "      <td>0</td>\n",
       "    </tr>\n",
       "    <tr>\n",
       "      <th>2020-04-13</th>\n",
       "      <td>{'covid': 669, 'corona': 455, 'coronavirus': 245}</td>\n",
       "      <td>0</td>\n",
       "      <td>0</td>\n",
       "      <td>0</td>\n",
       "      <td>0</td>\n",
       "    </tr>\n",
       "    <tr>\n",
       "      <th>2020-04-14</th>\n",
       "      <td>{'corona': 691, 'covid': 818, 'coronavirus': 4...</td>\n",
       "      <td>0</td>\n",
       "      <td>0</td>\n",
       "      <td>0</td>\n",
       "      <td>0</td>\n",
       "    </tr>\n",
       "    <tr>\n",
       "      <th>2020-04-15</th>\n",
       "      <td>{'covid': 784, 'coronavirus': 436, 'corona': 3...</td>\n",
       "      <td>0</td>\n",
       "      <td>0</td>\n",
       "      <td>0</td>\n",
       "      <td>0</td>\n",
       "    </tr>\n",
       "  </tbody>\n",
       "</table>\n",
       "</div>"
      ],
      "text/plain": [
       "                                                         text  corona  covid  \\\n",
       "Day                                                                            \n",
       "2020-04-11  {'corona': 132, 'covid': 258, 'coronavirus': 103}       0      0   \n",
       "2020-04-12  {'corona': 359, 'covid': 627, 'coronavirus': 2...       0      0   \n",
       "2020-04-13  {'covid': 669, 'corona': 455, 'coronavirus': 245}       0      0   \n",
       "2020-04-14  {'corona': 691, 'covid': 818, 'coronavirus': 4...       0      0   \n",
       "2020-04-15  {'covid': 784, 'coronavirus': 436, 'corona': 3...       0      0   \n",
       "\n",
       "            coronavirus  sars  \n",
       "Day                            \n",
       "2020-04-11            0     0  \n",
       "2020-04-12            0     0  \n",
       "2020-04-13            0     0  \n",
       "2020-04-14            0     0  \n",
       "2020-04-15            0     0  "
      ]
     },
     "execution_count": 17,
     "metadata": {},
     "output_type": "execute_result"
    }
   ],
   "source": [
    "tweets.head()"
   ]
  },
  {
   "cell_type": "code",
   "execution_count": 18,
   "metadata": {},
   "outputs": [
    {
     "name": "stderr",
     "output_type": "stream",
     "text": [
      "<ipython-input-18-406fd4c06bb3>:4: SettingWithCopyWarning: \n",
      "A value is trying to be set on a copy of a slice from a DataFrame\n",
      "\n",
      "See the caveats in the documentation: https://pandas.pydata.org/pandas-docs/stable/user_guide/indexing.html#returning-a-view-versus-a-copy\n",
      "  tweets[key][i] = tweets['text'][i][key]\n"
     ]
    }
   ],
   "source": [
    "for column in tweets.columns:\n",
    "    for i in range(len(tweets)):\n",
    "        for key in tweets['text'][i]:\n",
    "            tweets[key][i] = tweets['text'][i][key]"
   ]
  },
  {
   "cell_type": "code",
   "execution_count": 19,
   "metadata": {},
   "outputs": [],
   "source": [
    "tweets = tweets.drop(columns='text')"
   ]
  },
  {
   "cell_type": "code",
   "execution_count": 20,
   "metadata": {},
   "outputs": [
    {
     "data": {
      "text/html": [
       "<div>\n",
       "<style scoped>\n",
       "    .dataframe tbody tr th:only-of-type {\n",
       "        vertical-align: middle;\n",
       "    }\n",
       "\n",
       "    .dataframe tbody tr th {\n",
       "        vertical-align: top;\n",
       "    }\n",
       "\n",
       "    .dataframe thead th {\n",
       "        text-align: right;\n",
       "    }\n",
       "</style>\n",
       "<table border=\"1\" class=\"dataframe\">\n",
       "  <thead>\n",
       "    <tr style=\"text-align: right;\">\n",
       "      <th></th>\n",
       "      <th>corona</th>\n",
       "      <th>covid</th>\n",
       "      <th>coronavirus</th>\n",
       "      <th>sars</th>\n",
       "    </tr>\n",
       "    <tr>\n",
       "      <th>Day</th>\n",
       "      <th></th>\n",
       "      <th></th>\n",
       "      <th></th>\n",
       "      <th></th>\n",
       "    </tr>\n",
       "  </thead>\n",
       "  <tbody>\n",
       "    <tr>\n",
       "      <th>2020-04-11</th>\n",
       "      <td>132</td>\n",
       "      <td>258</td>\n",
       "      <td>103</td>\n",
       "      <td>0</td>\n",
       "    </tr>\n",
       "    <tr>\n",
       "      <th>2020-04-12</th>\n",
       "      <td>359</td>\n",
       "      <td>627</td>\n",
       "      <td>260</td>\n",
       "      <td>3</td>\n",
       "    </tr>\n",
       "    <tr>\n",
       "      <th>2020-04-13</th>\n",
       "      <td>455</td>\n",
       "      <td>669</td>\n",
       "      <td>245</td>\n",
       "      <td>0</td>\n",
       "    </tr>\n",
       "    <tr>\n",
       "      <th>2020-04-14</th>\n",
       "      <td>691</td>\n",
       "      <td>818</td>\n",
       "      <td>419</td>\n",
       "      <td>5</td>\n",
       "    </tr>\n",
       "    <tr>\n",
       "      <th>2020-04-15</th>\n",
       "      <td>391</td>\n",
       "      <td>784</td>\n",
       "      <td>436</td>\n",
       "      <td>15</td>\n",
       "    </tr>\n",
       "  </tbody>\n",
       "</table>\n",
       "</div>"
      ],
      "text/plain": [
       "            corona  covid  coronavirus  sars\n",
       "Day                                         \n",
       "2020-04-11     132    258          103     0\n",
       "2020-04-12     359    627          260     3\n",
       "2020-04-13     455    669          245     0\n",
       "2020-04-14     691    818          419     5\n",
       "2020-04-15     391    784          436    15"
      ]
     },
     "execution_count": 20,
     "metadata": {},
     "output_type": "execute_result"
    }
   ],
   "source": [
    "tweets.head()"
   ]
  },
  {
   "cell_type": "code",
   "execution_count": 21,
   "metadata": {},
   "outputs": [],
   "source": [
    "tweets.to_csv('frequency.csv', sep=';')"
   ]
  },
  {
   "cell_type": "code",
   "execution_count": null,
   "metadata": {},
   "outputs": [],
   "source": []
  }
 ],
 "metadata": {
  "kernelspec": {
   "display_name": "Python 3",
   "language": "python",
   "name": "python3"
  },
  "language_info": {
   "codemirror_mode": {
    "name": "ipython",
    "version": 3
   },
   "file_extension": ".py",
   "mimetype": "text/x-python",
   "name": "python",
   "nbconvert_exporter": "python",
   "pygments_lexer": "ipython3",
   "version": "3.8.3"
  }
 },
 "nbformat": 4,
 "nbformat_minor": 4
}
