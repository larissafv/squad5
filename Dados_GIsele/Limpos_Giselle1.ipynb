{
 "cells": [
  {
   "cell_type": "code",
   "execution_count": 89,
   "metadata": {},
   "outputs": [],
   "source": [
    "import nltk\n",
    "import re\n",
    "import pandas as pd\n",
    "from IPython.display import clear_output\n",
    "from collections import defaultdict\n",
    "from string import punctuation\n",
    "import matplotlib.pyplot as plt\n",
    "import numpy as np\n",
    "\n",
    "#stopwords em portugues\n",
    "from nltk.corpus import stopwords\n",
    "stopwords = set(stopwords.words('portuguese') + list(punctuation) + ['“','”'])\n",
    "\n",
    "#funçao pra limpeza de texto\n",
    "from nltk.tokenize import TweetTokenizer\n",
    "tweet_tokenizer = TweetTokenizer(strip_handles=True, reduce_len=True, preserve_case=False)"
   ]
  },
  {
   "cell_type": "code",
   "execution_count": 7,
   "metadata": {},
   "outputs": [],
   "source": [
    "#funçao pra leitura de dados e criaçao de dataframe\n",
    "def json_to_dataframe(nome_json, colunas, chunk=30):\n",
    "    dados = pd.read_json(nome_json, convert_dates = False, lines = True, chunksize = chunk)    \n",
    "    \n",
    "    for df_tweets_retweets in dados:\n",
    "        yield df_tweets_retweets[colunas]"
   ]
  },
  {
   "cell_type": "code",
   "execution_count": 8,
   "metadata": {},
   "outputs": [],
   "source": [
    "#funçao pra limpar texto e retirar stopwords\n",
    "def tokenizar_texto(texto_tweet):\n",
    "    texto_tokenizado = tweet_tokenizer.tokenize(texto_tweet)\n",
    "\n",
    "    if texto_tokenizado[0] == \"rt\" and texto_tokenizado[1] == \":\":\n",
    "        del texto_tokenizado[0]\n",
    "    \n",
    "    palavras_sem_stopwords = [palavra for palavra in texto_tokenizado if palavra not in stopwords] \n",
    "    return palavras_sem_stopwords"
   ]
  },
  {
   "cell_type": "code",
   "execution_count": 9,
   "metadata": {},
   "outputs": [],
   "source": [
    "#funçao pra criar dicionario com a data e quantidade dos tweets por usuario\n",
    "def contagem_usuarios_data(gerador,destino):\n",
    "    \n",
    "    dict_datas_usuarios = defaultdict(dict)            \n",
    "    \n",
    "    for dataframe in gerador:        \n",
    "        for linha in dataframe.values:            \n",
    "            usuario = linha[0]['screen_name']\n",
    "\n",
    "            data = linha[1]['$date'][:10]\n",
    "            if data not in dict_datas_usuarios or usuario not in dict_datas_usuarios[data]:\n",
    "                dict_datas_usuarios[data][usuario] = 0\n",
    "            dict_datas_usuarios[data][usuario] += 1\n",
    "            clear_output()\n",
    "            \n",
    "    escrever_arq_csv(dict_datas_usuarios,destino)"
   ]
  },
  {
   "cell_type": "code",
   "execution_count": 10,
   "metadata": {},
   "outputs": [],
   "source": [
    "#funçao pra escrever os resultados no arquivo csv\n",
    "def escrever_arq_csv(dict_datas_usuarios,destino):\n",
    "    with open(destino, 'w', encoding=\"utf-8\") as f:\n",
    "        f.write(\"Datas;Usuários;Tweets\\n\")\n",
    "\n",
    "        for key in dict_datas_usuarios.keys():\n",
    "            for user in dict_datas_usuarios[key].keys():\n",
    "                f.write(\"%s;%s;%s\\n\"%(key, user, dict_datas_usuarios[key][user]))\n",
    "            \n",
    "    print('A contagem de tweets por usuario por data foi salva com sucesso no arquivo')"
   ]
  },
  {
   "cell_type": "code",
   "execution_count": 11,
   "metadata": {},
   "outputs": [
    {
     "name": "stdout",
     "output_type": "stream",
     "text": [
      "A contagem de tweets por usuario por data foi salva com sucesso no arquivo\n"
     ]
    }
   ],
   "source": [
    "#execuçao do codigo\n",
    "#1k\n",
    "gerador = json_to_dataframe('1k_origin.json',[\"user\",\"created_at\"])\n",
    "\n",
    "contagem_usuarios_data(gerador,'cont_usuarios_data_1k.csv')"
   ]
  },
  {
   "cell_type": "code",
   "execution_count": 86,
   "metadata": {},
   "outputs": [
    {
     "data": {
      "text/plain": [
       "1000"
      ]
     },
     "execution_count": 86,
     "metadata": {},
     "output_type": "execute_result"
    }
   ],
   "source": [
    "cont_usuarios_data = pd.read_csv('cont_usuarios_data_1k.csv', sep = \";\")\n",
    "sum(cont_usuarios_data.Tweets)"
   ]
  },
  {
   "cell_type": "code",
   "execution_count": 84,
   "metadata": {},
   "outputs": [
    {
     "data": {
      "text/plain": [
       "949"
      ]
     },
     "execution_count": 84,
     "metadata": {},
     "output_type": "execute_result"
    }
   ],
   "source": [
    "cont_usuarios_data.Usuários.size"
   ]
  },
  {
   "cell_type": "code",
   "execution_count": 83,
   "metadata": {},
   "outputs": [],
   "source": [
    "cont_usuarios_data.head()\n",
    "cont_usuarios_data.set_index('Datas', inplace=True)"
   ]
  },
  {
   "cell_type": "code",
   "execution_count": 92,
   "metadata": {},
   "outputs": [
    {
     "ename": "SpecificationError",
     "evalue": "nested renamer is not supported",
     "output_type": "error",
     "traceback": [
      "\u001b[1;31m---------------------------------------------------------------------------\u001b[0m",
      "\u001b[1;31mSpecificationError\u001b[0m                        Traceback (most recent call last)",
      "\u001b[1;32m<ipython-input-92-42b840ead245>\u001b[0m in \u001b[0;36m<module>\u001b[1;34m\u001b[0m\n\u001b[1;32m----> 1\u001b[1;33m \u001b[0mcont_usuarios_data\u001b[0m\u001b[1;33m.\u001b[0m\u001b[0mgroupby\u001b[0m\u001b[1;33m(\u001b[0m\u001b[1;34m'Datas'\u001b[0m\u001b[1;33m)\u001b[0m\u001b[1;33m.\u001b[0m\u001b[0magg\u001b[0m\u001b[1;33m(\u001b[0m\u001b[1;33m{\u001b[0m\u001b[1;34m'numusuarios'\u001b[0m\u001b[1;33m:\u001b[0m\u001b[0mlen\u001b[0m\u001b[1;33m}\u001b[0m\u001b[1;33m)\u001b[0m\u001b[1;33m\u001b[0m\u001b[1;33m\u001b[0m\u001b[0m\n\u001b[0m",
      "\u001b[1;32m~\\anaconda3\\lib\\site-packages\\pandas\\core\\groupby\\generic.py\u001b[0m in \u001b[0;36maggregate\u001b[1;34m(self, func, *args, **kwargs)\u001b[0m\n\u001b[0;32m    938\u001b[0m         \u001b[0mfunc\u001b[0m \u001b[1;33m=\u001b[0m \u001b[0m_maybe_mangle_lambdas\u001b[0m\u001b[1;33m(\u001b[0m\u001b[0mfunc\u001b[0m\u001b[1;33m)\u001b[0m\u001b[1;33m\u001b[0m\u001b[1;33m\u001b[0m\u001b[0m\n\u001b[0;32m    939\u001b[0m \u001b[1;33m\u001b[0m\u001b[0m\n\u001b[1;32m--> 940\u001b[1;33m         \u001b[0mresult\u001b[0m\u001b[1;33m,\u001b[0m \u001b[0mhow\u001b[0m \u001b[1;33m=\u001b[0m \u001b[0mself\u001b[0m\u001b[1;33m.\u001b[0m\u001b[0m_aggregate\u001b[0m\u001b[1;33m(\u001b[0m\u001b[0mfunc\u001b[0m\u001b[1;33m,\u001b[0m \u001b[1;33m*\u001b[0m\u001b[0margs\u001b[0m\u001b[1;33m,\u001b[0m \u001b[1;33m**\u001b[0m\u001b[0mkwargs\u001b[0m\u001b[1;33m)\u001b[0m\u001b[1;33m\u001b[0m\u001b[1;33m\u001b[0m\u001b[0m\n\u001b[0m\u001b[0;32m    941\u001b[0m         \u001b[1;32mif\u001b[0m \u001b[0mhow\u001b[0m \u001b[1;32mis\u001b[0m \u001b[1;32mNone\u001b[0m\u001b[1;33m:\u001b[0m\u001b[1;33m\u001b[0m\u001b[1;33m\u001b[0m\u001b[0m\n\u001b[0;32m    942\u001b[0m             \u001b[1;32mreturn\u001b[0m \u001b[0mresult\u001b[0m\u001b[1;33m\u001b[0m\u001b[1;33m\u001b[0m\u001b[0m\n",
      "\u001b[1;32m~\\anaconda3\\lib\\site-packages\\pandas\\core\\base.py\u001b[0m in \u001b[0;36m_aggregate\u001b[1;34m(self, arg, *args, **kwargs)\u001b[0m\n\u001b[0;32m    364\u001b[0m                     \u001b[0mobj\u001b[0m\u001b[1;33m.\u001b[0m\u001b[0mcolumns\u001b[0m\u001b[1;33m.\u001b[0m\u001b[0mintersection\u001b[0m\u001b[1;33m(\u001b[0m\u001b[0mkeys\u001b[0m\u001b[1;33m)\u001b[0m\u001b[1;33m\u001b[0m\u001b[1;33m\u001b[0m\u001b[0m\n\u001b[0;32m    365\u001b[0m                 ) != len(keys):\n\u001b[1;32m--> 366\u001b[1;33m                     \u001b[1;32mraise\u001b[0m \u001b[0mSpecificationError\u001b[0m\u001b[1;33m(\u001b[0m\u001b[1;34m\"nested renamer is not supported\"\u001b[0m\u001b[1;33m)\u001b[0m\u001b[1;33m\u001b[0m\u001b[1;33m\u001b[0m\u001b[0m\n\u001b[0m\u001b[0;32m    367\u001b[0m \u001b[1;33m\u001b[0m\u001b[0m\n\u001b[0;32m    368\u001b[0m             \u001b[1;32mfrom\u001b[0m \u001b[0mpandas\u001b[0m\u001b[1;33m.\u001b[0m\u001b[0mcore\u001b[0m\u001b[1;33m.\u001b[0m\u001b[0mreshape\u001b[0m\u001b[1;33m.\u001b[0m\u001b[0mconcat\u001b[0m \u001b[1;32mimport\u001b[0m \u001b[0mconcat\u001b[0m\u001b[1;33m\u001b[0m\u001b[1;33m\u001b[0m\u001b[0m\n",
      "\u001b[1;31mSpecificationError\u001b[0m: nested renamer is not supported"
     ]
    }
   ],
   "source": [
    "cont_usuarios_data.groupby('Datas').agg({'numusuarios':len})"
   ]
  },
  {
   "cell_type": "code",
   "execution_count": 97,
   "metadata": {},
   "outputs": [
    {
     "data": {
      "text/plain": [
       "[Text(0, 0, 'Naaclara0'),\n",
       " Text(0, 0, 'arcanjoOficial'),\n",
       " Text(0, 0, 'R_Ramba09'),\n",
       " Text(0, 0, 'RhysandAaron'),\n",
       " Text(0, 0, 'capartensucette'),\n",
       " Text(0, 0, 'hellenmgf'),\n",
       " Text(0, 0, 'Stupid_Pansder'),\n",
       " Text(0, 0, 'ItsCotovia'),\n",
       " Text(0, 0, 'marciov01210938'),\n",
       " Text(0, 0, 'mavdarctic'),\n",
       " Text(0, 0, 'selecoesbrasil'),\n",
       " Text(0, 0, 'alrenators'),\n",
       " Text(0, 0, 'chanel_n515'),\n",
       " Text(0, 0, 'Vincenzo7D'),\n",
       " Text(0, 0, 'AdsCria'),\n",
       " Text(0, 0, 'tbnaomateijoana'),\n",
       " Text(0, 0, 'jordao_v18'),\n",
       " Text(0, 0, '_millyds'),\n",
       " Text(0, 0, 'mmarinhomkt'),\n",
       " Text(0, 0, 'richtozz'),\n",
       " Text(0, 0, 'farias_leonidas'),\n",
       " Text(0, 0, 'ptribeirao'),\n",
       " Text(0, 0, 'PocMenLgbt'),\n",
       " Text(0, 0, 'as_dobr'),\n",
       " Text(0, 0, 'domingosdamota'),\n",
       " Text(0, 0, 'ravenagarai')]"
      ]
     },
     "execution_count": 97,
     "metadata": {},
     "output_type": "execute_result"
    },
    {
     "data": {
      "image/png": "[encoded data removed]",
      "text/plain": [
       "<Figure size 576x360 with 1 Axes>"
      ]
     },
     "metadata": {
      "needs_background": "light"
     },
     "output_type": "display_data"
    }
   ],
   "source": [
    "#faz gráfico tweets/usuário\n",
    "cont_usuarios_data = pd.read_csv('cont_usuarios_data_1k.csv', sep = \";\")\n",
    "cont_usuarios_data = cont_usuarios_data.sort_values(by = 'Tweets',  ascending = False)[:26]\n",
    "\n",
    "ax = cont_usuarios_data['Tweets'].plot(figsize = (8,5), kind='bar')\n",
    "ax.set_xticklabels(data [\"Usuários\"])\n",
    "\n",
    "#plt.savefig('tweets_usuarios_1k.jpg', format='jpg', transparent=True, dpi=300, bbox_inches='tight')"
   ]
  },
  {
   "cell_type": "code",
   "execution_count": 98,
   "metadata": {},
   "outputs": [
    {
     "data": {
      "text/plain": [
       "[Text(0, 0, 'Naaclara0'),\n",
       " Text(0, 0, 'arcanjoOficial'),\n",
       " Text(0, 0, 'R_Ramba09'),\n",
       " Text(0, 0, 'RhysandAaron'),\n",
       " Text(0, 0, 'capartensucette'),\n",
       " Text(0, 0, 'hellenmgf'),\n",
       " Text(0, 0, 'Stupid_Pansder'),\n",
       " Text(0, 0, 'ItsCotovia'),\n",
       " Text(0, 0, 'marciov01210938'),\n",
       " Text(0, 0, 'mavdarctic'),\n",
       " Text(0, 0, 'selecoesbrasil'),\n",
       " Text(0, 0, 'alrenators'),\n",
       " Text(0, 0, 'chanel_n515'),\n",
       " Text(0, 0, 'Vincenzo7D'),\n",
       " Text(0, 0, 'AdsCria'),\n",
       " Text(0, 0, 'tbnaomateijoana'),\n",
       " Text(0, 0, 'jordao_v18'),\n",
       " Text(0, 0, '_millyds'),\n",
       " Text(0, 0, 'mmarinhomkt'),\n",
       " Text(0, 0, 'richtozz'),\n",
       " Text(0, 0, 'farias_leonidas'),\n",
       " Text(0, 0, 'ptribeirao'),\n",
       " Text(0, 0, 'PocMenLgbt'),\n",
       " Text(0, 0, 'as_dobr'),\n",
       " Text(0, 0, 'domingosdamota'),\n",
       " Text(0, 0, 'ravenagarai')]"
      ]
     },
     "execution_count": 98,
     "metadata": {},
     "output_type": "execute_result"
    },
    {
     "data": {
      "image/png": "[encoded data removed]",
      "text/plain": [
       "<Figure size 576x360 with 1 Axes>"
      ]
     },
     "metadata": {
      "needs_background": "light"
     },
     "output_type": "display_data"
    }
   ],
   "source": [
    "ax = cont_usuarios_data['Tweets'].plot(figsize = (8,5), kind='bar')\n",
    "ax.set_xticklabels(data [\"Usuários\"])"
   ]
  },
  {
   "cell_type": "code",
   "execution_count": null,
   "metadata": {},
   "outputs": [],
   "source": [
    "#5k\n",
    "gerador = json_to_dataframe('5k_origin.json',[\"user\",\"created_at\"])\n",
    "\n",
    "contagem_usuarios_data(gerador,'cont_usuarios_data_5k.csv')"
   ]
  },
  {
   "cell_type": "code",
   "execution_count": null,
   "metadata": {},
   "outputs": [],
   "source": [
    "#100k\n",
    "gerador = json_to_dataframe('100k_origin.json',[\"user\",\"created_at\"])\n",
    "\n",
    "contagem_usuarios_data(gerador,'cont_usuarios_data_100k.csv')"
   ]
  },
  {
   "cell_type": "code",
   "execution_count": null,
   "metadata": {},
   "outputs": [],
   "source": []
  }
 ],
 "metadata": {
  "kernelspec": {
   "display_name": "Python 3",
   "language": "python",
   "name": "python3"
  },
  "language_info": {
   "codemirror_mode": {
    "name": "ipython",
    "version": 3
   },
   "file_extension": ".py",
   "mimetype": "text/x-python",
   "name": "python",
   "nbconvert_exporter": "python",
   "pygments_lexer": "ipython3",
   "version": "3.7.6"
  }
 },
 "nbformat": 4,
 "nbformat_minor": 4
}
