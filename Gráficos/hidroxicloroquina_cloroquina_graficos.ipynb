{
 "cells": [
  {
   "cell_type": "markdown",
   "metadata": {},
   "source": [
    "# Análise Gráfica das Palavras Hidroxicloroquina e Cloroquina\n",
    "#### (Daniel)"
   ]
  },
  {
   "cell_type": "markdown",
   "metadata": {},
   "source": [
    "## Implementando Funções"
   ]
  },
  {
   "cell_type": "code",
   "execution_count": 141,
   "metadata": {},
   "outputs": [],
   "source": [
    "import nltk\n",
    "import re\n",
    "import pandas as pd\n",
    "from IPython.display import clear_output\n",
    "from collections import defaultdict\n",
    "from string import punctuation\n",
    "import numpy as np\n",
    "#stopwords em portugues\n",
    "from nltk.corpus import stopwords\n",
    "stopwords = set(stopwords.words('portuguese') + list(punctuation) + ['“','”'])\n",
    "\n",
    "#funçao pra limpeza de texto\n",
    "from nltk.tokenize import TweetTokenizer\n",
    "tweet_tokenizer = TweetTokenizer(strip_handles=True, reduce_len=True, preserve_case=False)"
   ]
  },
  {
   "cell_type": "code",
   "execution_count": 218,
   "metadata": {},
   "outputs": [],
   "source": [
    "#funçao pra leitura de dados e criaçao de dataframe\n",
    "def json_to_dataframe(nome_json, colunas, chunk):\n",
    "    dados = pd.read_json(nome_json, convert_dates = False, lines = True, chunksize = chunk)    \n",
    "    \n",
    "    for df_tweets_retweets in dados:\n",
    "        yield df_tweets_retweets[colunas]"
   ]
  },
  {
   "cell_type": "code",
   "execution_count": 4,
   "metadata": {},
   "outputs": [],
   "source": [
    "#funçao pra leitura de dados e criaçao de dataframe\n",
    "def json_to_dataframe_retweets(nome_json, colunas, chunk):\n",
    "    dados = pd.read_json(nome_json, convert_dates = False, lines = True, chunksize = chunk)    \n",
    "    \n",
    "    for df_tweets_retweets in dados:\n",
    "        yield df_tweets_retweets.dropna(subset=['retweeted_status'])[colunas]"
   ]
  },
  {
   "cell_type": "code",
   "execution_count": 5,
   "metadata": {},
   "outputs": [],
   "source": [
    "#funçao pra limpar texto e retirar stopwords\n",
    "def tokenizar_texto(texto_tweet):\n",
    "    texto_tokenizado = tweet_tokenizer.tokenize(texto_tweet)\n",
    "\n",
    "    if texto_tokenizado[0] == \"rt\" and texto_tokenizado[1] == \":\":\n",
    "        del texto_tokenizado[0]\n",
    "    \n",
    "    palavras_sem_stopwords = [palavra for palavra in texto_tokenizado if palavra not in stopwords] \n",
    "    return palavras_sem_stopwords"
   ]
  },
  {
   "cell_type": "code",
   "execution_count": 8,
   "metadata": {},
   "outputs": [],
   "source": [
    "#funçao pra criar dicionario com a data e quantidade das palavras chaves\n",
    "def contagem_pchaves_data(pchaves_lista, gerador,destino):\n",
    "    \n",
    "    dict_datas_pchaves = defaultdict(dict)            \n",
    "    \n",
    "    for dataframe in gerador:        \n",
    "        for linha in dataframe.values:            \n",
    "            texto_tweet = list(tokenizar_texto(linha[0]))\n",
    "\n",
    "            for palavra in texto_tweet:                \n",
    "                if palavra in pchaves_lista:\n",
    "                    data = linha[1]['$date'][:10]\n",
    "                    if data not in dict_datas_pchaves or palavra not in dict_datas_pchaves[data]:\n",
    "                        dict_datas_pchaves[data][palavra] = 0\n",
    "                    dict_datas_pchaves[data][palavra] += 1 \n",
    "            clear_output()\n",
    "            \n",
    "    escrever_arq_csv(dict_datas_pchaves,destino)"
   ]
  },
  {
   "cell_type": "code",
   "execution_count": 230,
   "metadata": {},
   "outputs": [],
   "source": [
    "#funcao que conta a quantidade e proporção de retweets nos tweets\n",
    "def prop_retweets(arquivo):\n",
    "    retweets=0\n",
    "    tweets=0\n",
    "    gerador = json_to_dataframe(arquivo,['retweeted_status'],2000)\n",
    "    for dataframe in gerador:\n",
    "        for linha in dataframe.values:\n",
    "            if type(linha[0])==dict:\n",
    "                retweets+=1\n",
    "            tweets+=1\n",
    "    return retweets,retweets/tweets"
   ]
  },
  {
   "cell_type": "code",
   "execution_count": 204,
   "metadata": {},
   "outputs": [],
   "source": [
    "#funcao que conta a quantidade e proporção de DIAS nos tweets\n",
    "def prop_dias(arquivo):\n",
    "    datas = {}\n",
    "    tweets = 0\n",
    "    gerador = json_to_dataframe(arquivo,['created_at'],2000)\n",
    "    for dataframe in gerador:\n",
    "        for linha in dataframe.values:\n",
    "            data = linha[0]['$date'].split('T')[0]\n",
    "            if data not in datas:#[:2] == 'RT':\n",
    "                datas[data] =0\n",
    "            datas[data] += 1\n",
    "            tweets+=1\n",
    "    return datas,tweets"
   ]
  },
  {
   "cell_type": "code",
   "execution_count": 6,
   "metadata": {},
   "outputs": [],
   "source": [
    "#funçao pra escrever os resultados no arquivo csv\n",
    "def escrever_arq_csv(dict_datas_pchaves,destino):\n",
    "    with open(destino, 'w', encoding=\"utf-8\") as f:\n",
    "        f.write(\"Data;Palavra;Ocorrencias\\n\")\n",
    "    \n",
    "        for key in dict_datas_pchaves.keys():\n",
    "            for palavra in dict_datas_pchaves[key].keys():\n",
    "                f.write(\"%s;%s;%s\\n\"%(key, palavra, dict_datas_pchaves[key][palavra]))\n",
    "            \n",
    "    print('A contagem de palavras chaves por data foi salva com sucesso no arquivo')"
   ]
  },
  {
   "cell_type": "code",
   "execution_count": 235,
   "metadata": {},
   "outputs": [],
   "source": [
    "def escrever_datas_arq(datas,destino):\n",
    "    with open(destino, 'w', encoding=\"utf-8\") as f:\n",
    "        f.write(\"Data;Ocorrencias\\n\")\n",
    "        for data in datas:\n",
    "            f.write(\"%s;%s\\n\"%(data,datas[data]))"
   ]
  },
  {
   "cell_type": "markdown",
   "metadata": {},
   "source": [
    "## Execução"
   ]
  },
  {
   "cell_type": "markdown",
   "metadata": {},
   "source": [
    "### Gerar csv's com os dados das palavras em tweets e retweets"
   ]
  },
  {
   "cell_type": "code",
   "execution_count": 10,
   "metadata": {},
   "outputs": [
    {
     "name": "stdout",
     "output_type": "stream",
     "text": [
      "A contagem de palavras chaves por data foi salva com sucesso no arquivo\n"
     ]
    }
   ],
   "source": [
    "#execuçao do codigo para tweets\n",
    "gerador = json_to_dataframe('tweets_222_23abr2020.json',[\"text\",\"created_at\"], 30)\n",
    "\n",
    "contagem_pchaves_data(['hidroxicloroquina', 'cloroquina'], gerador,'cont_hidro_cloro_data.csv')"
   ]
  },
  {
   "cell_type": "code",
   "execution_count": 105,
   "metadata": {},
   "outputs": [
    {
     "name": "stdout",
     "output_type": "stream",
     "text": [
      "A contagem de palavras chaves por data foi salva com sucesso no arquivo\n"
     ]
    }
   ],
   "source": [
    "#execuçao do codigo para retweets\n",
    "gerador = json_to_dataframe_retweets('tweets_222_23abr2020.json',[\"text\",\"created_at\"], 30)\n",
    "\n",
    "contagem_pchaves_data(['hidroxicloroquina', 'cloroquina'], gerador,'cont_hidro_cloro_data_retweets.csv')"
   ]
  },
  {
   "cell_type": "markdown",
   "metadata": {},
   "source": [
    "### Calcular proporções de retweets e datas no arquivo analisado"
   ]
  },
  {
   "cell_type": "code",
   "execution_count": 231,
   "metadata": {},
   "outputs": [
    {
     "data": {
      "text/plain": [
       "(4457829, 0.6378437878099341)"
      ]
     },
     "execution_count": 231,
     "metadata": {},
     "output_type": "execute_result"
    }
   ],
   "source": [
    "#execução prop_retweets\n",
    "rtts,prop = prop_retweets(\"tweets_222_23abr2020.json\")\n",
    "rtts,prop"
   ]
  },
  {
   "cell_type": "code",
   "execution_count": 208,
   "metadata": {},
   "outputs": [
    {
     "data": {
      "text/plain": [
       "({'2020-04-11': 260502,\n",
       "  '2020-04-12': 1316303,\n",
       "  '2020-04-13': 1157405,\n",
       "  '2020-04-14': 1361567,\n",
       "  '2020-04-15': 1396492,\n",
       "  '2020-04-16': 383271,\n",
       "  '2020-04-22': 832755,\n",
       "  '2020-04-23': 280609},\n",
       " 6988904)"
      ]
     },
     "execution_count": 208,
     "metadata": {},
     "output_type": "execute_result"
    }
   ],
   "source": [
    "#execução prop_retweets\n",
    "datas,tweets = prop_dias(\"tweets_222_23abr2020.json\")\n",
    "datas,tweets"
   ]
  },
  {
   "cell_type": "markdown",
   "metadata": {},
   "source": [
    "### Escevendo ocoências das datas no arquivo"
   ]
  },
  {
   "cell_type": "code",
   "execution_count": 236,
   "metadata": {},
   "outputs": [],
   "source": [
    "escrever_datas_arq(datas,'datas_23abr.csv')"
   ]
  },
  {
   "cell_type": "markdown",
   "metadata": {},
   "source": [
    "### Ler csv's e gerar DataFrame agregado com todos os valores para análise"
   ]
  },
  {
   "cell_type": "code",
   "execution_count": 243,
   "metadata": {
    "scrolled": false
   },
   "outputs": [
    {
     "data": {
      "text/html": [
       "<div>\n",
       "<style scoped>\n",
       "    .dataframe tbody tr th:only-of-type {\n",
       "        vertical-align: middle;\n",
       "    }\n",
       "\n",
       "    .dataframe tbody tr th {\n",
       "        vertical-align: top;\n",
       "    }\n",
       "\n",
       "    .dataframe thead th {\n",
       "        text-align: right;\n",
       "    }\n",
       "</style>\n",
       "<table border=\"1\" class=\"dataframe\">\n",
       "  <thead>\n",
       "    <tr style=\"text-align: right;\">\n",
       "      <th></th>\n",
       "      <th></th>\n",
       "      <th>Ocorrencias</th>\n",
       "    </tr>\n",
       "    <tr>\n",
       "      <th>Data</th>\n",
       "      <th>Palavra</th>\n",
       "      <th></th>\n",
       "    </tr>\n",
       "  </thead>\n",
       "  <tbody>\n",
       "    <tr>\n",
       "      <th rowspan=\"2\" valign=\"top\">2020-04-11</th>\n",
       "      <th>cloroquina</th>\n",
       "      <td>11520</td>\n",
       "    </tr>\n",
       "    <tr>\n",
       "      <th>hidroxicloroquina</th>\n",
       "      <td>3486</td>\n",
       "    </tr>\n",
       "    <tr>\n",
       "      <th rowspan=\"2\" valign=\"top\">2020-04-12</th>\n",
       "      <th>cloroquina</th>\n",
       "      <td>65272</td>\n",
       "    </tr>\n",
       "    <tr>\n",
       "      <th>hidroxicloroquina</th>\n",
       "      <td>14723</td>\n",
       "    </tr>\n",
       "    <tr>\n",
       "      <th rowspan=\"2\" valign=\"top\">2020-04-13</th>\n",
       "      <th>cloroquina</th>\n",
       "      <td>45901</td>\n",
       "    </tr>\n",
       "    <tr>\n",
       "      <th>hidroxicloroquina</th>\n",
       "      <td>13897</td>\n",
       "    </tr>\n",
       "    <tr>\n",
       "      <th rowspan=\"2\" valign=\"top\">2020-04-14</th>\n",
       "      <th>cloroquina</th>\n",
       "      <td>64621</td>\n",
       "    </tr>\n",
       "    <tr>\n",
       "      <th>hidroxicloroquina</th>\n",
       "      <td>24931</td>\n",
       "    </tr>\n",
       "    <tr>\n",
       "      <th rowspan=\"2\" valign=\"top\">2020-04-15</th>\n",
       "      <th>hidroxicloroquina</th>\n",
       "      <td>16042</td>\n",
       "    </tr>\n",
       "    <tr>\n",
       "      <th>cloroquina</th>\n",
       "      <td>62765</td>\n",
       "    </tr>\n",
       "    <tr>\n",
       "      <th rowspan=\"2\" valign=\"top\">2020-04-16</th>\n",
       "      <th>cloroquina</th>\n",
       "      <td>24653</td>\n",
       "    </tr>\n",
       "    <tr>\n",
       "      <th>hidroxicloroquina</th>\n",
       "      <td>4933</td>\n",
       "    </tr>\n",
       "    <tr>\n",
       "      <th rowspan=\"2\" valign=\"top\">2020-04-22</th>\n",
       "      <th>hidroxicloroquina</th>\n",
       "      <td>10195</td>\n",
       "    </tr>\n",
       "    <tr>\n",
       "      <th>cloroquina</th>\n",
       "      <td>14953</td>\n",
       "    </tr>\n",
       "    <tr>\n",
       "      <th rowspan=\"2\" valign=\"top\">2020-04-23</th>\n",
       "      <th>cloroquina</th>\n",
       "      <td>8376</td>\n",
       "    </tr>\n",
       "    <tr>\n",
       "      <th>hidroxicloroquina</th>\n",
       "      <td>5523</td>\n",
       "    </tr>\n",
       "  </tbody>\n",
       "</table>\n",
       "</div>"
      ],
      "text/plain": [
       "                              Ocorrencias\n",
       "Data       Palavra                       \n",
       "2020-04-11 cloroquina               11520\n",
       "           hidroxicloroquina         3486\n",
       "2020-04-12 cloroquina               65272\n",
       "           hidroxicloroquina        14723\n",
       "2020-04-13 cloroquina               45901\n",
       "           hidroxicloroquina        13897\n",
       "2020-04-14 cloroquina               64621\n",
       "           hidroxicloroquina        24931\n",
       "2020-04-15 hidroxicloroquina        16042\n",
       "           cloroquina               62765\n",
       "2020-04-16 cloroquina               24653\n",
       "           hidroxicloroquina         4933\n",
       "2020-04-22 hidroxicloroquina        10195\n",
       "           cloroquina               14953\n",
       "2020-04-23 cloroquina                8376\n",
       "           hidroxicloroquina         5523"
      ]
     },
     "execution_count": 243,
     "metadata": {},
     "output_type": "execute_result"
    }
   ],
   "source": [
    "import matplotlib.pyplot as plt\n",
    "\n",
    "pd.set_option('display.max_colwidth', None)\n",
    "cont_tweets = pd.read_csv('cont_hidro_cloro_data.csv',sep=';') # Ler dados coletados dos tweets\n",
    "cont_tweets = cont_tweets.sort_values(by='Data').set_index(['Data','Palavra']) # Indexação para garantir correta associação dos DataFrames\n",
    "cont_retweets = pd.read_csv('cont_hidro_cloro_data_retweets.csv',sep=';') # ler dados coletados dos retweets\n",
    "cont_retweets = cont_retweets.sort_values(by='Data').set_index(['Data','Palavra']) # Indexação para garantir correta associação dos DataFrames\n",
    "cont_tweets # Visualizar DataFrame com os valores de tweets"
   ]
  },
  {
   "cell_type": "code",
   "execution_count": 244,
   "metadata": {},
   "outputs": [
    {
     "data": {
      "text/html": [
       "<div>\n",
       "<style scoped>\n",
       "    .dataframe tbody tr th:only-of-type {\n",
       "        vertical-align: middle;\n",
       "    }\n",
       "\n",
       "    .dataframe tbody tr th {\n",
       "        vertical-align: top;\n",
       "    }\n",
       "\n",
       "    .dataframe thead th {\n",
       "        text-align: right;\n",
       "    }\n",
       "</style>\n",
       "<table border=\"1\" class=\"dataframe\">\n",
       "  <thead>\n",
       "    <tr style=\"text-align: right;\">\n",
       "      <th></th>\n",
       "      <th></th>\n",
       "      <th>Ocorrencias</th>\n",
       "    </tr>\n",
       "    <tr>\n",
       "      <th>Data</th>\n",
       "      <th>Palavra</th>\n",
       "      <th></th>\n",
       "    </tr>\n",
       "  </thead>\n",
       "  <tbody>\n",
       "    <tr>\n",
       "      <th rowspan=\"2\" valign=\"top\">2020-04-11</th>\n",
       "      <th>cloroquina</th>\n",
       "      <td>10036</td>\n",
       "    </tr>\n",
       "    <tr>\n",
       "      <th>hidroxicloroquina</th>\n",
       "      <td>3208</td>\n",
       "    </tr>\n",
       "    <tr>\n",
       "      <th rowspan=\"2\" valign=\"top\">2020-04-12</th>\n",
       "      <th>cloroquina</th>\n",
       "      <td>57391</td>\n",
       "    </tr>\n",
       "    <tr>\n",
       "      <th>hidroxicloroquina</th>\n",
       "      <td>13042</td>\n",
       "    </tr>\n",
       "    <tr>\n",
       "      <th rowspan=\"2\" valign=\"top\">2020-04-13</th>\n",
       "      <th>cloroquina</th>\n",
       "      <td>38490</td>\n",
       "    </tr>\n",
       "    <tr>\n",
       "      <th>hidroxicloroquina</th>\n",
       "      <td>12486</td>\n",
       "    </tr>\n",
       "    <tr>\n",
       "      <th rowspan=\"2\" valign=\"top\">2020-04-14</th>\n",
       "      <th>cloroquina</th>\n",
       "      <td>52449</td>\n",
       "    </tr>\n",
       "    <tr>\n",
       "      <th>hidroxicloroquina</th>\n",
       "      <td>22117</td>\n",
       "    </tr>\n",
       "    <tr>\n",
       "      <th rowspan=\"2\" valign=\"top\">2020-04-15</th>\n",
       "      <th>cloroquina</th>\n",
       "      <td>51051</td>\n",
       "    </tr>\n",
       "    <tr>\n",
       "      <th>hidroxicloroquina</th>\n",
       "      <td>14051</td>\n",
       "    </tr>\n",
       "    <tr>\n",
       "      <th rowspan=\"2\" valign=\"top\">2020-04-16</th>\n",
       "      <th>cloroquina</th>\n",
       "      <td>21995</td>\n",
       "    </tr>\n",
       "    <tr>\n",
       "      <th>hidroxicloroquina</th>\n",
       "      <td>4604</td>\n",
       "    </tr>\n",
       "    <tr>\n",
       "      <th rowspan=\"2\" valign=\"top\">2020-04-22</th>\n",
       "      <th>hidroxicloroquina</th>\n",
       "      <td>9058</td>\n",
       "    </tr>\n",
       "    <tr>\n",
       "      <th>cloroquina</th>\n",
       "      <td>11937</td>\n",
       "    </tr>\n",
       "    <tr>\n",
       "      <th rowspan=\"2\" valign=\"top\">2020-04-23</th>\n",
       "      <th>cloroquina</th>\n",
       "      <td>7157</td>\n",
       "    </tr>\n",
       "    <tr>\n",
       "      <th>hidroxicloroquina</th>\n",
       "      <td>5009</td>\n",
       "    </tr>\n",
       "  </tbody>\n",
       "</table>\n",
       "</div>"
      ],
      "text/plain": [
       "                              Ocorrencias\n",
       "Data       Palavra                       \n",
       "2020-04-11 cloroquina               10036\n",
       "           hidroxicloroquina         3208\n",
       "2020-04-12 cloroquina               57391\n",
       "           hidroxicloroquina        13042\n",
       "2020-04-13 cloroquina               38490\n",
       "           hidroxicloroquina        12486\n",
       "2020-04-14 cloroquina               52449\n",
       "           hidroxicloroquina        22117\n",
       "2020-04-15 cloroquina               51051\n",
       "           hidroxicloroquina        14051\n",
       "2020-04-16 cloroquina               21995\n",
       "           hidroxicloroquina         4604\n",
       "2020-04-22 hidroxicloroquina         9058\n",
       "           cloroquina               11937\n",
       "2020-04-23 cloroquina                7157\n",
       "           hidroxicloroquina         5009"
      ]
     },
     "execution_count": 244,
     "metadata": {},
     "output_type": "execute_result"
    }
   ],
   "source": [
    "cont_retweets"
   ]
  },
  {
   "cell_type": "code",
   "execution_count": 248,
   "metadata": {},
   "outputs": [
    {
     "data": {
      "text/html": [
       "<div>\n",
       "<style scoped>\n",
       "    .dataframe tbody tr th:only-of-type {\n",
       "        vertical-align: middle;\n",
       "    }\n",
       "\n",
       "    .dataframe tbody tr th {\n",
       "        vertical-align: top;\n",
       "    }\n",
       "\n",
       "    .dataframe thead th {\n",
       "        text-align: right;\n",
       "    }\n",
       "</style>\n",
       "<table border=\"1\" class=\"dataframe\">\n",
       "  <thead>\n",
       "    <tr style=\"text-align: right;\">\n",
       "      <th></th>\n",
       "      <th>Data</th>\n",
       "      <th>Palavra</th>\n",
       "      <th>Tweets</th>\n",
       "      <th>Retweets</th>\n",
       "    </tr>\n",
       "  </thead>\n",
       "  <tbody>\n",
       "    <tr>\n",
       "      <th>0</th>\n",
       "      <td>2020-04-11</td>\n",
       "      <td>cloroquina</td>\n",
       "      <td>11520</td>\n",
       "      <td>10036</td>\n",
       "    </tr>\n",
       "    <tr>\n",
       "      <th>1</th>\n",
       "      <td>2020-04-11</td>\n",
       "      <td>hidroxicloroquina</td>\n",
       "      <td>3486</td>\n",
       "      <td>3208</td>\n",
       "    </tr>\n",
       "    <tr>\n",
       "      <th>2</th>\n",
       "      <td>2020-04-12</td>\n",
       "      <td>cloroquina</td>\n",
       "      <td>65272</td>\n",
       "      <td>57391</td>\n",
       "    </tr>\n",
       "    <tr>\n",
       "      <th>3</th>\n",
       "      <td>2020-04-12</td>\n",
       "      <td>hidroxicloroquina</td>\n",
       "      <td>14723</td>\n",
       "      <td>13042</td>\n",
       "    </tr>\n",
       "    <tr>\n",
       "      <th>4</th>\n",
       "      <td>2020-04-13</td>\n",
       "      <td>cloroquina</td>\n",
       "      <td>45901</td>\n",
       "      <td>38490</td>\n",
       "    </tr>\n",
       "    <tr>\n",
       "      <th>5</th>\n",
       "      <td>2020-04-13</td>\n",
       "      <td>hidroxicloroquina</td>\n",
       "      <td>13897</td>\n",
       "      <td>12486</td>\n",
       "    </tr>\n",
       "    <tr>\n",
       "      <th>6</th>\n",
       "      <td>2020-04-14</td>\n",
       "      <td>cloroquina</td>\n",
       "      <td>64621</td>\n",
       "      <td>52449</td>\n",
       "    </tr>\n",
       "    <tr>\n",
       "      <th>7</th>\n",
       "      <td>2020-04-14</td>\n",
       "      <td>hidroxicloroquina</td>\n",
       "      <td>24931</td>\n",
       "      <td>22117</td>\n",
       "    </tr>\n",
       "    <tr>\n",
       "      <th>8</th>\n",
       "      <td>2020-04-15</td>\n",
       "      <td>hidroxicloroquina</td>\n",
       "      <td>16042</td>\n",
       "      <td>14051</td>\n",
       "    </tr>\n",
       "    <tr>\n",
       "      <th>9</th>\n",
       "      <td>2020-04-15</td>\n",
       "      <td>cloroquina</td>\n",
       "      <td>62765</td>\n",
       "      <td>51051</td>\n",
       "    </tr>\n",
       "    <tr>\n",
       "      <th>10</th>\n",
       "      <td>2020-04-16</td>\n",
       "      <td>cloroquina</td>\n",
       "      <td>24653</td>\n",
       "      <td>21995</td>\n",
       "    </tr>\n",
       "    <tr>\n",
       "      <th>11</th>\n",
       "      <td>2020-04-16</td>\n",
       "      <td>hidroxicloroquina</td>\n",
       "      <td>4933</td>\n",
       "      <td>4604</td>\n",
       "    </tr>\n",
       "    <tr>\n",
       "      <th>12</th>\n",
       "      <td>2020-04-22</td>\n",
       "      <td>hidroxicloroquina</td>\n",
       "      <td>10195</td>\n",
       "      <td>9058</td>\n",
       "    </tr>\n",
       "    <tr>\n",
       "      <th>13</th>\n",
       "      <td>2020-04-22</td>\n",
       "      <td>cloroquina</td>\n",
       "      <td>14953</td>\n",
       "      <td>11937</td>\n",
       "    </tr>\n",
       "    <tr>\n",
       "      <th>14</th>\n",
       "      <td>2020-04-23</td>\n",
       "      <td>cloroquina</td>\n",
       "      <td>8376</td>\n",
       "      <td>7157</td>\n",
       "    </tr>\n",
       "    <tr>\n",
       "      <th>15</th>\n",
       "      <td>2020-04-23</td>\n",
       "      <td>hidroxicloroquina</td>\n",
       "      <td>5523</td>\n",
       "      <td>5009</td>\n",
       "    </tr>\n",
       "  </tbody>\n",
       "</table>\n",
       "</div>"
      ],
      "text/plain": [
       "          Data            Palavra  Tweets  Retweets\n",
       "0   2020-04-11         cloroquina   11520     10036\n",
       "1   2020-04-11  hidroxicloroquina    3486      3208\n",
       "2   2020-04-12         cloroquina   65272     57391\n",
       "3   2020-04-12  hidroxicloroquina   14723     13042\n",
       "4   2020-04-13         cloroquina   45901     38490\n",
       "5   2020-04-13  hidroxicloroquina   13897     12486\n",
       "6   2020-04-14         cloroquina   64621     52449\n",
       "7   2020-04-14  hidroxicloroquina   24931     22117\n",
       "8   2020-04-15  hidroxicloroquina   16042     14051\n",
       "9   2020-04-15         cloroquina   62765     51051\n",
       "10  2020-04-16         cloroquina   24653     21995\n",
       "11  2020-04-16  hidroxicloroquina    4933      4604\n",
       "12  2020-04-22  hidroxicloroquina   10195      9058\n",
       "13  2020-04-22         cloroquina   14953     11937\n",
       "14  2020-04-23         cloroquina    8376      7157\n",
       "15  2020-04-23  hidroxicloroquina    5523      5009"
      ]
     },
     "execution_count": 248,
     "metadata": {},
     "output_type": "execute_result"
    }
   ],
   "source": [
    "cont = cont_tweets.copy()\n",
    "cont[\"Retweets\"] = cont_retweets.Ocorrencias\n",
    "cont.rename(columns={'Ocorrencias':'Tweets'},inplace=True)\n",
    "cont = cont.reset_index()\n",
    "cont # Visualizar DataFrame gerado com os valores de retweets e tweets"
   ]
  },
  {
   "cell_type": "markdown",
   "metadata": {},
   "source": [
    "### Reestruturação dos Dados para geração dos Gráficos"
   ]
  },
  {
   "cell_type": "code",
   "execution_count": 249,
   "metadata": {},
   "outputs": [
    {
     "data": {
      "text/plain": [
       "['cloroquina-Tweet',\n",
       " 'cloroquina-Retweet',\n",
       " 'hidroxicloroquina-Tweet',\n",
       " 'hidroxicloroquina-Retweet']"
      ]
     },
     "execution_count": 249,
     "metadata": {},
     "output_type": "execute_result"
    }
   ],
   "source": [
    "index = []\n",
    "for i in cont.Palavra[:2].values:\n",
    "    i_t = i+'-Tweet'\n",
    "    i_r = i+'-Retweet'\n",
    "    index.append(i_t)\n",
    "    index.append(i_r)\n",
    "index"
   ]
  },
  {
   "cell_type": "code",
   "execution_count": 250,
   "metadata": {},
   "outputs": [
    {
     "data": {
      "text/plain": [
       "Tweets      11520\n",
       "Retweets    10036\n",
       "Name: (2020-04-11, cloroquina), dtype: int64"
      ]
     },
     "execution_count": 250,
     "metadata": {},
     "output_type": "execute_result"
    }
   ],
   "source": [
    "new = pd.DataFrame(index=index,columns=cont.Data[::2].values)\n",
    "df = cont.set_index(['Data','Palavra']).T.copy()\n",
    "df[('2020-04-11', 'cloroquina')]"
   ]
  },
  {
   "cell_type": "code",
   "execution_count": 251,
   "metadata": {},
   "outputs": [
    {
     "data": {
      "text/html": [
       "<div>\n",
       "<style scoped>\n",
       "    .dataframe tbody tr th:only-of-type {\n",
       "        vertical-align: middle;\n",
       "    }\n",
       "\n",
       "    .dataframe tbody tr th {\n",
       "        vertical-align: top;\n",
       "    }\n",
       "\n",
       "    .dataframe thead th {\n",
       "        text-align: right;\n",
       "    }\n",
       "</style>\n",
       "<table border=\"1\" class=\"dataframe\">\n",
       "  <thead>\n",
       "    <tr style=\"text-align: right;\">\n",
       "      <th></th>\n",
       "      <th>2020-04-11</th>\n",
       "      <th>2020-04-12</th>\n",
       "      <th>2020-04-13</th>\n",
       "      <th>2020-04-14</th>\n",
       "      <th>2020-04-15</th>\n",
       "      <th>2020-04-16</th>\n",
       "      <th>2020-04-22</th>\n",
       "      <th>2020-04-23</th>\n",
       "    </tr>\n",
       "  </thead>\n",
       "  <tbody>\n",
       "    <tr>\n",
       "      <th>cloroquina-Tweet</th>\n",
       "      <td>11520</td>\n",
       "      <td>65272</td>\n",
       "      <td>45901</td>\n",
       "      <td>64621</td>\n",
       "      <td>62765</td>\n",
       "      <td>24653</td>\n",
       "      <td>14953</td>\n",
       "      <td>8376</td>\n",
       "    </tr>\n",
       "    <tr>\n",
       "      <th>cloroquina-Retweet</th>\n",
       "      <td>10036</td>\n",
       "      <td>57391</td>\n",
       "      <td>38490</td>\n",
       "      <td>52449</td>\n",
       "      <td>51051</td>\n",
       "      <td>21995</td>\n",
       "      <td>11937</td>\n",
       "      <td>7157</td>\n",
       "    </tr>\n",
       "    <tr>\n",
       "      <th>hidroxicloroquina-Tweet</th>\n",
       "      <td>3486</td>\n",
       "      <td>14723</td>\n",
       "      <td>13897</td>\n",
       "      <td>24931</td>\n",
       "      <td>16042</td>\n",
       "      <td>4933</td>\n",
       "      <td>10195</td>\n",
       "      <td>5523</td>\n",
       "    </tr>\n",
       "    <tr>\n",
       "      <th>hidroxicloroquina-Retweet</th>\n",
       "      <td>3208</td>\n",
       "      <td>13042</td>\n",
       "      <td>12486</td>\n",
       "      <td>22117</td>\n",
       "      <td>14051</td>\n",
       "      <td>4604</td>\n",
       "      <td>9058</td>\n",
       "      <td>5009</td>\n",
       "    </tr>\n",
       "  </tbody>\n",
       "</table>\n",
       "</div>"
      ],
      "text/plain": [
       "                          2020-04-11 2020-04-12 2020-04-13 2020-04-14  \\\n",
       "cloroquina-Tweet               11520      65272      45901      64621   \n",
       "cloroquina-Retweet             10036      57391      38490      52449   \n",
       "hidroxicloroquina-Tweet         3486      14723      13897      24931   \n",
       "hidroxicloroquina-Retweet       3208      13042      12486      22117   \n",
       "\n",
       "                          2020-04-15 2020-04-16 2020-04-22 2020-04-23  \n",
       "cloroquina-Tweet               62765      24653      14953       8376  \n",
       "cloroquina-Retweet             51051      21995      11937       7157  \n",
       "hidroxicloroquina-Tweet        16042       4933      10195       5523  \n",
       "hidroxicloroquina-Retweet      14051       4604       9058       5009  "
      ]
     },
     "execution_count": 251,
     "metadata": {},
     "output_type": "execute_result"
    }
   ],
   "source": [
    "for data_palavra in df.columns:\n",
    "    new[data_palavra[0]][data_palavra[1]+'-Tweet'] = df[data_palavra]['Tweets']\n",
    "    new[data_palavra[0]][data_palavra[1]+'-Retweet'] = df[data_palavra]['Retweets']    \n",
    "new # Visualização dos Dados após Reestruturação"
   ]
  },
  {
   "cell_type": "markdown",
   "metadata": {},
   "source": [
    "## Gráficos"
   ]
  },
  {
   "cell_type": "markdown",
   "metadata": {},
   "source": [
    "### Gráfico de pizza da proporção de retweets em tweets"
   ]
  },
  {
   "cell_type": "code",
   "execution_count": 232,
   "metadata": {},
   "outputs": [
    {
     "data": {
      "text/plain": [
       "<matplotlib.axes._subplots.AxesSubplot at 0x2a5ba4f4ef0>"
      ]
     },
     "execution_count": 232,
     "metadata": {},
     "output_type": "execute_result"
    },
    {
     "data": {
      "image/png": "[encoded data removed]",
      "text/plain": [
       "<Figure size 432x288 with 1 Axes>"
      ]
     },
     "metadata": {},
     "output_type": "display_data"
    }
   ],
   "source": [
    "proporcao = pd.Series({'retweets':rtts,'não retweets':rtts/prop-rtts},name='Tweets')\n",
    "proporcao.plot(kind='pie',autopct='%1.1f%%',startangle=90,legend=False)#,xticks=[(str(prop*100)+'%'),(str((1-prop)*100)+'%')]"
   ]
  },
  {
   "cell_type": "markdown",
   "metadata": {},
   "source": [
    "### Gráfico de pizza da proporção de datas dos tweets no arquivo"
   ]
  },
  {
   "cell_type": "code",
   "execution_count": 239,
   "metadata": {},
   "outputs": [
    {
     "data": {
      "text/plain": [
       "<matplotlib.axes._subplots.AxesSubplot at 0x2a5a68295c0>"
      ]
     },
     "execution_count": 239,
     "metadata": {},
     "output_type": "execute_result"
    },
    {
     "data": {
      "image/png": "[encoded data removed]",
      "text/plain": [
       "<Figure size 432x288 with 1 Axes>"
      ]
     },
     "metadata": {},
     "output_type": "display_data"
    }
   ],
   "source": [
    "prop_dts = pd.Series(datas,name='Tweets')\n",
    "prop_dts.plot(kind='pie',autopct='%1.1f%%',startangle=50,legend=False,)"
   ]
  },
  {
   "cell_type": "markdown",
   "metadata": {},
   "source": [
    "### Gráfico de linhas da ocorrência das palavras no tempo decorrido no arquivo"
   ]
  },
  {
   "cell_type": "code",
   "execution_count": 252,
   "metadata": {},
   "outputs": [
    {
     "data": {
      "image/png": "[encoded data removed]",
      "text/plain": [
       "<Figure size 720x360 with 1 Axes>"
      ]
     },
     "metadata": {
      "needs_background": "light"
     },
     "output_type": "display_data"
    }
   ],
   "source": [
    "grafico_barras = new.T.plot(kind='line', title =\"Ocorrências no arquivo tweet_222_23abr2020.json\",figsize=(10,5),legend=True, fontsize=12)\n",
    "grafico_barras.set_xlabel(\"Tempo\",fontsize=18)\n",
    "grafico_barras.set_ylabel(\"Ocorrências\",fontsize=18)\n",
    "\n",
    "plt.show()\n"
   ]
  },
  {
   "cell_type": "markdown",
   "metadata": {},
   "source": [
    "### Gráfico de barras da ocorrência das palavras no tempo decorrido no arquivo"
   ]
  },
  {
   "cell_type": "code",
   "execution_count": 253,
   "metadata": {},
   "outputs": [
    {
     "data": {
      "image/png": "[encoded data removed]",
      "text/plain": [
       "<Figure size 720x360 with 1 Axes>"
      ]
     },
     "metadata": {
      "needs_background": "light"
     },
     "output_type": "display_data"
    }
   ],
   "source": [
    "grafico_barras = new.T.plot( kind='bar', title =\"Ocorrências no arquivo tweet_222_23abr2020.json\",figsize=(10,5),legend=True, fontsize=12)\n",
    "grafico_barras.set_xlabel(\"Tempo\",fontsize=18)\n",
    "grafico_barras.set_ylabel(\"Ocorrências\",fontsize=18)\n",
    "\n",
    "plt.show()\n"
   ]
  }
 ],
 "metadata": {
  "kernelspec": {
   "display_name": "Python 3",
   "language": "python",
   "name": "python3"
  }
 },
 "nbformat": 4,
 "nbformat_minor": 4
}
