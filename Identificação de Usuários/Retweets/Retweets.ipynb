{
 "cells": [
  {
   "cell_type": "markdown",
   "metadata": {},
   "source": [
    "# Identificando usuários que mais retweetam"
   ]
  },
  {
   "cell_type": "code",
   "execution_count": 2,
   "metadata": {},
   "outputs": [],
   "source": [
    "# Imports\n",
    "import pandas as pd"
   ]
  },
  {
   "cell_type": "code",
   "execution_count": 3,
   "metadata": {},
   "outputs": [
    {
     "name": "stderr",
     "output_type": "stream",
     "text": [
      "<ipython-input-3-1256338302a7>:2: DeprecationWarning: The default dtype for empty Series will be 'object' instead of 'float64' in a future version. Specify a dtype explicitly to silence this warning.\n",
      "  retweets = pd.Series(name = 'ID')\n"
     ]
    },
    {
     "data": {
      "text/plain": [
       "15003"
      ]
     },
     "execution_count": 3,
     "metadata": {},
     "output_type": "execute_result"
    }
   ],
   "source": [
    "data = pd.read_json('tweets_222_23abr2020.json', convert_dates=False, lines = True, chunksize = 1) # ABRINDO O ARQUIVO JSON NO MESMO DIRETÓRIO QUE O IPYNB\n",
    "retweets = pd.Series(name = 'ID')\n",
    "\n",
    "num = 0\n",
    "for i in data:\n",
    "    if(num<=5000): # NÚMERO DE TWEETS A SEREM LIDOS\n",
    "        if i['text'].values[0].startswith('RT'): # REPASSANDO PARA \"retweets\" APENAS OS QUE SE INICIAM COM \"RT\"\n",
    "            retweets = retweets.append(i[['user', 'created_at']])\n",
    "            num += 1\n",
    "    else:\n",
    "        break\n",
    "    \n",
    "retweets.drop(columns=0)\n",
    "retweets.size"
   ]
  },
  {
   "cell_type": "code",
   "execution_count": 4,
   "metadata": {},
   "outputs": [
    {
     "data": {
      "text/html": [
       "<div>\n",
       "<style scoped>\n",
       "    .dataframe tbody tr th:only-of-type {\n",
       "        vertical-align: middle;\n",
       "    }\n",
       "\n",
       "    .dataframe tbody tr th {\n",
       "        vertical-align: top;\n",
       "    }\n",
       "\n",
       "    .dataframe thead th {\n",
       "        text-align: right;\n",
       "    }\n",
       "</style>\n",
       "<table border=\"1\" class=\"dataframe\">\n",
       "  <thead>\n",
       "    <tr style=\"text-align: right;\">\n",
       "      <th></th>\n",
       "      <th>0</th>\n",
       "      <th>created_at</th>\n",
       "      <th>user</th>\n",
       "    </tr>\n",
       "  </thead>\n",
       "  <tbody>\n",
       "    <tr>\n",
       "      <th>1</th>\n",
       "      <td>NaN</td>\n",
       "      <td>{'$date': '2020-04-11T20:40:10.000-0300'}</td>\n",
       "      <td>{'follow_request_sent': None, 'profile_use_bac...</td>\n",
       "    </tr>\n",
       "    <tr>\n",
       "      <th>2</th>\n",
       "      <td>NaN</td>\n",
       "      <td>{'$date': '2020-04-11T20:40:10.000-0300'}</td>\n",
       "      <td>{'follow_request_sent': None, 'profile_use_bac...</td>\n",
       "    </tr>\n",
       "    <tr>\n",
       "      <th>4</th>\n",
       "      <td>NaN</td>\n",
       "      <td>{'$date': '2020-04-11T20:40:10.000-0300'}</td>\n",
       "      <td>{'follow_request_sent': None, 'profile_use_bac...</td>\n",
       "    </tr>\n",
       "    <tr>\n",
       "      <th>5</th>\n",
       "      <td>NaN</td>\n",
       "      <td>{'$date': '2020-04-11T20:40:10.000-0300'}</td>\n",
       "      <td>{'follow_request_sent': None, 'profile_use_bac...</td>\n",
       "    </tr>\n",
       "    <tr>\n",
       "      <th>8</th>\n",
       "      <td>NaN</td>\n",
       "      <td>{'$date': '2020-04-11T20:40:11.000-0300'}</td>\n",
       "      <td>{'follow_request_sent': None, 'profile_use_bac...</td>\n",
       "    </tr>\n",
       "  </tbody>\n",
       "</table>\n",
       "</div>"
      ],
      "text/plain": [
       "    0                                 created_at  \\\n",
       "1 NaN  {'$date': '2020-04-11T20:40:10.000-0300'}   \n",
       "2 NaN  {'$date': '2020-04-11T20:40:10.000-0300'}   \n",
       "4 NaN  {'$date': '2020-04-11T20:40:10.000-0300'}   \n",
       "5 NaN  {'$date': '2020-04-11T20:40:10.000-0300'}   \n",
       "8 NaN  {'$date': '2020-04-11T20:40:11.000-0300'}   \n",
       "\n",
       "                                                user  \n",
       "1  {'follow_request_sent': None, 'profile_use_bac...  \n",
       "2  {'follow_request_sent': None, 'profile_use_bac...  \n",
       "4  {'follow_request_sent': None, 'profile_use_bac...  \n",
       "5  {'follow_request_sent': None, 'profile_use_bac...  \n",
       "8  {'follow_request_sent': None, 'profile_use_bac...  "
      ]
     },
     "execution_count": 4,
     "metadata": {},
     "output_type": "execute_result"
    }
   ],
   "source": [
    "retweets.head()"
   ]
  },
  {
   "cell_type": "markdown",
   "metadata": {},
   "source": [
    "### Criando a coluna \"Day\""
   ]
  },
  {
   "cell_type": "code",
   "execution_count": 5,
   "metadata": {},
   "outputs": [],
   "source": [
    "retweets['Day'] = \"\""
   ]
  },
  {
   "cell_type": "code",
   "execution_count": 8,
   "metadata": {},
   "outputs": [],
   "source": [
    "retweets = retweets.reset_index() # RESETANDO OS INDEXES (INICIANDO EM 0)"
   ]
  },
  {
   "cell_type": "code",
   "execution_count": 9,
   "metadata": {},
   "outputs": [],
   "source": [
    "num = 0\n",
    "for i in range(len(retweets.index)):\n",
    "    retweets.at[num, 'Day'] = retweets['created_at'][num]['$date'].split('T')[0]\n",
    "    num += 1"
   ]
  },
  {
   "cell_type": "code",
   "execution_count": 12,
   "metadata": {},
   "outputs": [
    {
     "data": {
      "text/html": [
       "<div>\n",
       "<style scoped>\n",
       "    .dataframe tbody tr th:only-of-type {\n",
       "        vertical-align: middle;\n",
       "    }\n",
       "\n",
       "    .dataframe tbody tr th {\n",
       "        vertical-align: top;\n",
       "    }\n",
       "\n",
       "    .dataframe thead th {\n",
       "        text-align: right;\n",
       "    }\n",
       "</style>\n",
       "<table border=\"1\" class=\"dataframe\">\n",
       "  <thead>\n",
       "    <tr style=\"text-align: right;\">\n",
       "      <th></th>\n",
       "      <th>index</th>\n",
       "      <th>0</th>\n",
       "      <th>created_at</th>\n",
       "      <th>user</th>\n",
       "      <th>Day</th>\n",
       "    </tr>\n",
       "  </thead>\n",
       "  <tbody>\n",
       "    <tr>\n",
       "      <th>0</th>\n",
       "      <td>1</td>\n",
       "      <td>NaN</td>\n",
       "      <td>{'$date': '2020-04-11T20:40:10.000-0300'}</td>\n",
       "      <td>{'follow_request_sent': None, 'profile_use_bac...</td>\n",
       "      <td>2020-04-11</td>\n",
       "    </tr>\n",
       "    <tr>\n",
       "      <th>1</th>\n",
       "      <td>2</td>\n",
       "      <td>NaN</td>\n",
       "      <td>{'$date': '2020-04-11T20:40:10.000-0300'}</td>\n",
       "      <td>{'follow_request_sent': None, 'profile_use_bac...</td>\n",
       "      <td>2020-04-11</td>\n",
       "    </tr>\n",
       "    <tr>\n",
       "      <th>2</th>\n",
       "      <td>4</td>\n",
       "      <td>NaN</td>\n",
       "      <td>{'$date': '2020-04-11T20:40:10.000-0300'}</td>\n",
       "      <td>{'follow_request_sent': None, 'profile_use_bac...</td>\n",
       "      <td>2020-04-11</td>\n",
       "    </tr>\n",
       "    <tr>\n",
       "      <th>3</th>\n",
       "      <td>5</td>\n",
       "      <td>NaN</td>\n",
       "      <td>{'$date': '2020-04-11T20:40:10.000-0300'}</td>\n",
       "      <td>{'follow_request_sent': None, 'profile_use_bac...</td>\n",
       "      <td>2020-04-11</td>\n",
       "    </tr>\n",
       "    <tr>\n",
       "      <th>4</th>\n",
       "      <td>8</td>\n",
       "      <td>NaN</td>\n",
       "      <td>{'$date': '2020-04-11T20:40:11.000-0300'}</td>\n",
       "      <td>{'follow_request_sent': None, 'profile_use_bac...</td>\n",
       "      <td>2020-04-11</td>\n",
       "    </tr>\n",
       "  </tbody>\n",
       "</table>\n",
       "</div>"
      ],
      "text/plain": [
       "   index   0                                 created_at  \\\n",
       "0      1 NaN  {'$date': '2020-04-11T20:40:10.000-0300'}   \n",
       "1      2 NaN  {'$date': '2020-04-11T20:40:10.000-0300'}   \n",
       "2      4 NaN  {'$date': '2020-04-11T20:40:10.000-0300'}   \n",
       "3      5 NaN  {'$date': '2020-04-11T20:40:10.000-0300'}   \n",
       "4      8 NaN  {'$date': '2020-04-11T20:40:11.000-0300'}   \n",
       "\n",
       "                                                user         Day  \n",
       "0  {'follow_request_sent': None, 'profile_use_bac...  2020-04-11  \n",
       "1  {'follow_request_sent': None, 'profile_use_bac...  2020-04-11  \n",
       "2  {'follow_request_sent': None, 'profile_use_bac...  2020-04-11  \n",
       "3  {'follow_request_sent': None, 'profile_use_bac...  2020-04-11  \n",
       "4  {'follow_request_sent': None, 'profile_use_bac...  2020-04-11  "
      ]
     },
     "execution_count": 12,
     "metadata": {},
     "output_type": "execute_result"
    }
   ],
   "source": [
    "retweets.head()"
   ]
  },
  {
   "cell_type": "markdown",
   "metadata": {},
   "source": [
    "### Criando a coluna \"Username\""
   ]
  },
  {
   "cell_type": "code",
   "execution_count": 14,
   "metadata": {},
   "outputs": [],
   "source": [
    "retweets['Username'] = \"\""
   ]
  },
  {
   "cell_type": "code",
   "execution_count": 19,
   "metadata": {},
   "outputs": [],
   "source": [
    "# POPULANDO A COLUNA \"Username\" CONFORME O DICIONÁRIO \"user\"\n",
    "num = 0\n",
    "for i in range(len(retweets.index)):\n",
    "    retweets.at[num, 'Username'] = retweets['user'][num]['screen_name']\n",
    "    num += 1"
   ]
  },
  {
   "cell_type": "markdown",
   "metadata": {},
   "source": [
    "### Coletando dias disponíveis no conjunto de dados"
   ]
  },
  {
   "cell_type": "code",
   "execution_count": 20,
   "metadata": {},
   "outputs": [
    {
     "name": "stdout",
     "output_type": "stream",
     "text": [
      "['2020-04-11']\n"
     ]
    }
   ],
   "source": [
    "days = retweets['Day'].unique()\n",
    "print(days)"
   ]
  },
  {
   "cell_type": "markdown",
   "metadata": {},
   "source": [
    "# Obtendo X usuários que mais tweetaram em um dia Y"
   ]
  },
  {
   "cell_type": "code",
   "execution_count": 21,
   "metadata": {},
   "outputs": [
    {
     "name": "stdout",
     "output_type": "stream",
     "text": [
      "2020-04-12 não está disponível no conjunto de tweets analisados.\n",
      "Definindo y como o primeiro dia disponível no banco de dados: 2020-04-11\n"
     ]
    }
   ],
   "source": [
    "x = 3\n",
    "y = \"2020-04-12\"\n",
    "\n",
    "# AVISANDO CASO UM DIA NÃO ESTEJA DISPONÍVEL NO CONJUNTO CARREGADO\n",
    "if y not in days:\n",
    "    print(y + ' não está disponível no conjunto de tweets analisados.')\n",
    "    y = days[0]\n",
    "    print('Definindo y como o primeiro dia disponível no banco de dados: ' + y)"
   ]
  },
  {
   "cell_type": "code",
   "execution_count": 24,
   "metadata": {},
   "outputs": [
    {
     "name": "stdout",
     "output_type": "stream",
     "text": [
      "                 index  0  created_at  user  Day\n",
      "Username                                        \n",
      "IvaniseShakira      14  0          14    14   14\n",
      "BrisaBot             9  0           9     9    9\n",
      "ac7cbf7867e6429      8  0           8     8    8\n",
      "Andrew_Spartano      8  0           8     8    8\n",
      "nuncaabandona        7  0           7     7    7\n",
      "...                ... ..         ...   ...  ...\n",
      "Tales_Quina          1  0           1     1    1\n",
      "Tamirandaa1          1  0           1     1    1\n",
      "Tata_nasc1           1  0           1     1    1\n",
      "TatiPampy            1  0           1     1    1\n",
      "zzzzxxxxccccaa       1  0           1     1    1\n",
      "\n",
      "[4262 rows x 5 columns]\n"
     ]
    }
   ],
   "source": [
    "results = retweets.loc[retweets['Day'] == y].groupby('Username').count().sort_values(by='user', ascending = False)\n",
    "print(results)"
   ]
  },
  {
   "cell_type": "markdown",
   "metadata": {},
   "source": [
    "#### Resultado:"
   ]
  },
  {
   "cell_type": "code",
   "execution_count": 25,
   "metadata": {},
   "outputs": [
    {
     "data": {
      "text/html": [
       "<div>\n",
       "<style scoped>\n",
       "    .dataframe tbody tr th:only-of-type {\n",
       "        vertical-align: middle;\n",
       "    }\n",
       "\n",
       "    .dataframe tbody tr th {\n",
       "        vertical-align: top;\n",
       "    }\n",
       "\n",
       "    .dataframe thead th {\n",
       "        text-align: right;\n",
       "    }\n",
       "</style>\n",
       "<table border=\"1\" class=\"dataframe\">\n",
       "  <thead>\n",
       "    <tr style=\"text-align: right;\">\n",
       "      <th></th>\n",
       "      <th>index</th>\n",
       "      <th>0</th>\n",
       "      <th>created_at</th>\n",
       "      <th>user</th>\n",
       "      <th>Day</th>\n",
       "    </tr>\n",
       "    <tr>\n",
       "      <th>Username</th>\n",
       "      <th></th>\n",
       "      <th></th>\n",
       "      <th></th>\n",
       "      <th></th>\n",
       "      <th></th>\n",
       "    </tr>\n",
       "  </thead>\n",
       "  <tbody>\n",
       "    <tr>\n",
       "      <th>IvaniseShakira</th>\n",
       "      <td>14</td>\n",
       "      <td>0</td>\n",
       "      <td>14</td>\n",
       "      <td>14</td>\n",
       "      <td>14</td>\n",
       "    </tr>\n",
       "    <tr>\n",
       "      <th>BrisaBot</th>\n",
       "      <td>9</td>\n",
       "      <td>0</td>\n",
       "      <td>9</td>\n",
       "      <td>9</td>\n",
       "      <td>9</td>\n",
       "    </tr>\n",
       "    <tr>\n",
       "      <th>ac7cbf7867e6429</th>\n",
       "      <td>8</td>\n",
       "      <td>0</td>\n",
       "      <td>8</td>\n",
       "      <td>8</td>\n",
       "      <td>8</td>\n",
       "    </tr>\n",
       "  </tbody>\n",
       "</table>\n",
       "</div>"
      ],
      "text/plain": [
       "                 index  0  created_at  user  Day\n",
       "Username                                        \n",
       "IvaniseShakira      14  0          14    14   14\n",
       "BrisaBot             9  0           9     9    9\n",
       "ac7cbf7867e6429      8  0           8     8    8"
      ]
     },
     "execution_count": 25,
     "metadata": {},
     "output_type": "execute_result"
    }
   ],
   "source": [
    "results.head(x)"
   ]
  },
  {
   "cell_type": "markdown",
   "metadata": {},
   "source": [
    "### Obtendo o usuário que mais retweetou nesse dia Y"
   ]
  },
  {
   "cell_type": "code",
   "execution_count": 26,
   "metadata": {},
   "outputs": [
    {
     "data": {
      "text/plain": [
       "'IvaniseShakira'"
      ]
     },
     "execution_count": 26,
     "metadata": {},
     "output_type": "execute_result"
    }
   ],
   "source": [
    "results['user'].idxmax()"
   ]
  }
 ],
 "metadata": {
  "kernelspec": {
   "display_name": "Python 3",
   "language": "python",
   "name": "python3"
  },
  "language_info": {
   "codemirror_mode": {
    "name": "ipython",
    "version": 3
   },
   "file_extension": ".py",
   "mimetype": "text/x-python",
   "name": "python",
   "nbconvert_exporter": "python",
   "pygments_lexer": "ipython3",
   "version": "3.8.3"
  }
 },
 "nbformat": 4,
 "nbformat_minor": 4
}
