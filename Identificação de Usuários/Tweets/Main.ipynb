{
 "cells": [
  {
   "cell_type": "markdown",
   "metadata": {},
   "source": [
    "# Identificando usuários que mais tweetam"
   ]
  },
  {
   "cell_type": "code",
   "execution_count": 16,
   "metadata": {},
   "outputs": [],
   "source": [
    "# Imports\n",
    "import pandas as pd\n",
    "import datetime"
   ]
  },
  {
   "cell_type": "code",
   "execution_count": 35,
   "metadata": {},
   "outputs": [
    {
     "name": "stderr",
     "output_type": "stream",
     "text": [
      "<ipython-input-35-393e854e1dd9>:2: DeprecationWarning: The default dtype for empty Series will be 'object' instead of 'float64' in a future version. Specify a dtype explicitly to silence this warning.\n",
      "  tweets = pd.Series(name = 'ID')\n"
     ]
    },
    {
     "data": {
      "text/plain": [
       "14997"
      ]
     },
     "execution_count": 35,
     "metadata": {},
     "output_type": "execute_result"
    }
   ],
   "source": [
    "data = pd.read_json('tweets_222_23abr2020.json', convert_dates=False, lines = True, chunksize = 1) # ABRINDO O ARQUIVO JSON NO MESMO DIRETÓRIO QUE O IPYNB\n",
    "tweets = pd.Series(name = 'ID')\n",
    "\n",
    "num = 0\n",
    "for i in data:\n",
    "    if(num<5000): # NÚMERO DE TWEETS A SEREM LIDOS\n",
    "        tweets = tweets.append(i[['user', 'created_at']])\n",
    "    else:\n",
    "        break\n",
    "    num += 1\n",
    "\n",
    "tweets.drop(columns=0)\n",
    "tweets.size"
   ]
  },
  {
   "cell_type": "code",
   "execution_count": 36,
   "metadata": {},
   "outputs": [
    {
     "data": {
      "text/html": [
       "<div>\n",
       "<style scoped>\n",
       "    .dataframe tbody tr th:only-of-type {\n",
       "        vertical-align: middle;\n",
       "    }\n",
       "\n",
       "    .dataframe tbody tr th {\n",
       "        vertical-align: top;\n",
       "    }\n",
       "\n",
       "    .dataframe thead th {\n",
       "        text-align: right;\n",
       "    }\n",
       "</style>\n",
       "<table border=\"1\" class=\"dataframe\">\n",
       "  <thead>\n",
       "    <tr style=\"text-align: right;\">\n",
       "      <th></th>\n",
       "      <th>0</th>\n",
       "      <th>created_at</th>\n",
       "      <th>user</th>\n",
       "    </tr>\n",
       "  </thead>\n",
       "  <tbody>\n",
       "    <tr>\n",
       "      <th>0</th>\n",
       "      <td>NaN</td>\n",
       "      <td>{'$date': '2020-04-11T20:40:10.000-0300'}</td>\n",
       "      <td>{'follow_request_sent': None, 'profile_use_bac...</td>\n",
       "    </tr>\n",
       "    <tr>\n",
       "      <th>1</th>\n",
       "      <td>NaN</td>\n",
       "      <td>{'$date': '2020-04-11T20:40:10.000-0300'}</td>\n",
       "      <td>{'follow_request_sent': None, 'profile_use_bac...</td>\n",
       "    </tr>\n",
       "    <tr>\n",
       "      <th>2</th>\n",
       "      <td>NaN</td>\n",
       "      <td>{'$date': '2020-04-11T20:40:10.000-0300'}</td>\n",
       "      <td>{'follow_request_sent': None, 'profile_use_bac...</td>\n",
       "    </tr>\n",
       "    <tr>\n",
       "      <th>3</th>\n",
       "      <td>NaN</td>\n",
       "      <td>{'$date': '2020-04-11T20:40:10.000-0300'}</td>\n",
       "      <td>{'follow_request_sent': None, 'profile_use_bac...</td>\n",
       "    </tr>\n",
       "    <tr>\n",
       "      <th>4</th>\n",
       "      <td>NaN</td>\n",
       "      <td>{'$date': '2020-04-11T20:40:10.000-0300'}</td>\n",
       "      <td>{'follow_request_sent': None, 'profile_use_bac...</td>\n",
       "    </tr>\n",
       "  </tbody>\n",
       "</table>\n",
       "</div>"
      ],
      "text/plain": [
       "    0                                 created_at  \\\n",
       "0 NaN  {'$date': '2020-04-11T20:40:10.000-0300'}   \n",
       "1 NaN  {'$date': '2020-04-11T20:40:10.000-0300'}   \n",
       "2 NaN  {'$date': '2020-04-11T20:40:10.000-0300'}   \n",
       "3 NaN  {'$date': '2020-04-11T20:40:10.000-0300'}   \n",
       "4 NaN  {'$date': '2020-04-11T20:40:10.000-0300'}   \n",
       "\n",
       "                                                user  \n",
       "0  {'follow_request_sent': None, 'profile_use_bac...  \n",
       "1  {'follow_request_sent': None, 'profile_use_bac...  \n",
       "2  {'follow_request_sent': None, 'profile_use_bac...  \n",
       "3  {'follow_request_sent': None, 'profile_use_bac...  \n",
       "4  {'follow_request_sent': None, 'profile_use_bac...  "
      ]
     },
     "execution_count": 36,
     "metadata": {},
     "output_type": "execute_result"
    }
   ],
   "source": [
    "tweets.head()"
   ]
  },
  {
   "cell_type": "markdown",
   "metadata": {},
   "source": [
    "### Criando a coluna \"Day\""
   ]
  },
  {
   "cell_type": "code",
   "execution_count": 37,
   "metadata": {},
   "outputs": [],
   "source": [
    "tweets['Day'] = \"\""
   ]
  },
  {
   "cell_type": "code",
   "execution_count": 57,
   "metadata": {},
   "outputs": [],
   "source": [
    "num = 0\n",
    "for i in range(len(tweets.index)):\n",
    "    tweets.at[num, 'Day'] = tweets['created_at'][num]['$date'].split('T')[0]\n",
    "    num += 1"
   ]
  },
  {
   "cell_type": "code",
   "execution_count": 58,
   "metadata": {},
   "outputs": [
    {
     "data": {
      "text/plain": [
       "'2020-04-11T20:40:10.000-0300'"
      ]
     },
     "execution_count": 58,
     "metadata": {},
     "output_type": "execute_result"
    }
   ],
   "source": [
    "tweets['created_at'][1]['$date']"
   ]
  },
  {
   "cell_type": "code",
   "execution_count": 59,
   "metadata": {},
   "outputs": [
    {
     "data": {
      "text/html": [
       "<div>\n",
       "<style scoped>\n",
       "    .dataframe tbody tr th:only-of-type {\n",
       "        vertical-align: middle;\n",
       "    }\n",
       "\n",
       "    .dataframe tbody tr th {\n",
       "        vertical-align: top;\n",
       "    }\n",
       "\n",
       "    .dataframe thead th {\n",
       "        text-align: right;\n",
       "    }\n",
       "</style>\n",
       "<table border=\"1\" class=\"dataframe\">\n",
       "  <thead>\n",
       "    <tr style=\"text-align: right;\">\n",
       "      <th></th>\n",
       "      <th>0</th>\n",
       "      <th>created_at</th>\n",
       "      <th>user</th>\n",
       "      <th>Day</th>\n",
       "      <th>Username</th>\n",
       "    </tr>\n",
       "  </thead>\n",
       "  <tbody>\n",
       "    <tr>\n",
       "      <th>0</th>\n",
       "      <td>NaN</td>\n",
       "      <td>{'$date': '2020-04-11T20:40:10.000-0300'}</td>\n",
       "      <td>{'follow_request_sent': None, 'profile_use_bac...</td>\n",
       "      <td>2020-04-11</td>\n",
       "      <td>andreeyreiis</td>\n",
       "    </tr>\n",
       "    <tr>\n",
       "      <th>1</th>\n",
       "      <td>NaN</td>\n",
       "      <td>{'$date': '2020-04-11T20:40:10.000-0300'}</td>\n",
       "      <td>{'follow_request_sent': None, 'profile_use_bac...</td>\n",
       "      <td>2020-04-11</td>\n",
       "      <td>madutargino</td>\n",
       "    </tr>\n",
       "    <tr>\n",
       "      <th>2</th>\n",
       "      <td>NaN</td>\n",
       "      <td>{'$date': '2020-04-11T20:40:10.000-0300'}</td>\n",
       "      <td>{'follow_request_sent': None, 'profile_use_bac...</td>\n",
       "      <td>2020-04-11</td>\n",
       "      <td>jbonif4cio</td>\n",
       "    </tr>\n",
       "    <tr>\n",
       "      <th>3</th>\n",
       "      <td>NaN</td>\n",
       "      <td>{'$date': '2020-04-11T20:40:10.000-0300'}</td>\n",
       "      <td>{'follow_request_sent': None, 'profile_use_bac...</td>\n",
       "      <td>2020-04-11</td>\n",
       "      <td>jorge_wam</td>\n",
       "    </tr>\n",
       "    <tr>\n",
       "      <th>4</th>\n",
       "      <td>NaN</td>\n",
       "      <td>{'$date': '2020-04-11T20:40:10.000-0300'}</td>\n",
       "      <td>{'follow_request_sent': None, 'profile_use_bac...</td>\n",
       "      <td>2020-04-11</td>\n",
       "      <td>naoehamamae</td>\n",
       "    </tr>\n",
       "  </tbody>\n",
       "</table>\n",
       "</div>"
      ],
      "text/plain": [
       "    0                                 created_at  \\\n",
       "0 NaN  {'$date': '2020-04-11T20:40:10.000-0300'}   \n",
       "1 NaN  {'$date': '2020-04-11T20:40:10.000-0300'}   \n",
       "2 NaN  {'$date': '2020-04-11T20:40:10.000-0300'}   \n",
       "3 NaN  {'$date': '2020-04-11T20:40:10.000-0300'}   \n",
       "4 NaN  {'$date': '2020-04-11T20:40:10.000-0300'}   \n",
       "\n",
       "                                                user         Day      Username  \n",
       "0  {'follow_request_sent': None, 'profile_use_bac...  2020-04-11  andreeyreiis  \n",
       "1  {'follow_request_sent': None, 'profile_use_bac...  2020-04-11   madutargino  \n",
       "2  {'follow_request_sent': None, 'profile_use_bac...  2020-04-11    jbonif4cio  \n",
       "3  {'follow_request_sent': None, 'profile_use_bac...  2020-04-11     jorge_wam  \n",
       "4  {'follow_request_sent': None, 'profile_use_bac...  2020-04-11   naoehamamae  "
      ]
     },
     "execution_count": 59,
     "metadata": {},
     "output_type": "execute_result"
    }
   ],
   "source": [
    "tweets.head()"
   ]
  },
  {
   "cell_type": "markdown",
   "metadata": {},
   "source": [
    "### Criando a coluna \"Username\""
   ]
  },
  {
   "cell_type": "code",
   "execution_count": 41,
   "metadata": {},
   "outputs": [],
   "source": [
    "tweets['Username'] = \"\""
   ]
  },
  {
   "cell_type": "code",
   "execution_count": 42,
   "metadata": {},
   "outputs": [],
   "source": [
    "# POPULANDO A COLUNA \"Username\" CONFORME O DICIONÁRIO \"user\"\n",
    "num = 0\n",
    "for i in range(len(tweets.index)):\n",
    "    tweets.at[num, 'Username'] = tweets['user'][num]['screen_name']\n",
    "    num += 1"
   ]
  },
  {
   "cell_type": "code",
   "execution_count": 60,
   "metadata": {
    "collapsed": true,
    "jupyter": {
     "outputs_hidden": true
    }
   },
   "outputs": [
    {
     "data": {
      "text/html": [
       "<div>\n",
       "<style scoped>\n",
       "    .dataframe tbody tr th:only-of-type {\n",
       "        vertical-align: middle;\n",
       "    }\n",
       "\n",
       "    .dataframe tbody tr th {\n",
       "        vertical-align: top;\n",
       "    }\n",
       "\n",
       "    .dataframe thead th {\n",
       "        text-align: right;\n",
       "    }\n",
       "</style>\n",
       "<table border=\"1\" class=\"dataframe\">\n",
       "  <thead>\n",
       "    <tr style=\"text-align: right;\">\n",
       "      <th></th>\n",
       "      <th>0</th>\n",
       "      <th>created_at</th>\n",
       "      <th>user</th>\n",
       "      <th>Day</th>\n",
       "      <th>Username</th>\n",
       "    </tr>\n",
       "  </thead>\n",
       "  <tbody>\n",
       "    <tr>\n",
       "      <th>0</th>\n",
       "      <td>NaN</td>\n",
       "      <td>{'$date': '2020-04-11T20:40:10.000-0300'}</td>\n",
       "      <td>{'follow_request_sent': None, 'profile_use_bac...</td>\n",
       "      <td>2020-04-11</td>\n",
       "      <td>andreeyreiis</td>\n",
       "    </tr>\n",
       "    <tr>\n",
       "      <th>1</th>\n",
       "      <td>NaN</td>\n",
       "      <td>{'$date': '2020-04-11T20:40:10.000-0300'}</td>\n",
       "      <td>{'follow_request_sent': None, 'profile_use_bac...</td>\n",
       "      <td>2020-04-11</td>\n",
       "      <td>madutargino</td>\n",
       "    </tr>\n",
       "    <tr>\n",
       "      <th>2</th>\n",
       "      <td>NaN</td>\n",
       "      <td>{'$date': '2020-04-11T20:40:10.000-0300'}</td>\n",
       "      <td>{'follow_request_sent': None, 'profile_use_bac...</td>\n",
       "      <td>2020-04-11</td>\n",
       "      <td>jbonif4cio</td>\n",
       "    </tr>\n",
       "    <tr>\n",
       "      <th>3</th>\n",
       "      <td>NaN</td>\n",
       "      <td>{'$date': '2020-04-11T20:40:10.000-0300'}</td>\n",
       "      <td>{'follow_request_sent': None, 'profile_use_bac...</td>\n",
       "      <td>2020-04-11</td>\n",
       "      <td>jorge_wam</td>\n",
       "    </tr>\n",
       "    <tr>\n",
       "      <th>4</th>\n",
       "      <td>NaN</td>\n",
       "      <td>{'$date': '2020-04-11T20:40:10.000-0300'}</td>\n",
       "      <td>{'follow_request_sent': None, 'profile_use_bac...</td>\n",
       "      <td>2020-04-11</td>\n",
       "      <td>naoehamamae</td>\n",
       "    </tr>\n",
       "    <tr>\n",
       "      <th>5</th>\n",
       "      <td>NaN</td>\n",
       "      <td>{'$date': '2020-04-11T20:40:10.000-0300'}</td>\n",
       "      <td>{'follow_request_sent': None, 'profile_use_bac...</td>\n",
       "      <td>2020-04-11</td>\n",
       "      <td>JhinWP</td>\n",
       "    </tr>\n",
       "    <tr>\n",
       "      <th>6</th>\n",
       "      <td>NaN</td>\n",
       "      <td>{'$date': '2020-04-11T20:40:11.000-0300'}</td>\n",
       "      <td>{'follow_request_sent': None, 'profile_use_bac...</td>\n",
       "      <td>2020-04-11</td>\n",
       "      <td>falavc_dn</td>\n",
       "    </tr>\n",
       "    <tr>\n",
       "      <th>7</th>\n",
       "      <td>NaN</td>\n",
       "      <td>{'$date': '2020-04-11T20:40:11.000-0300'}</td>\n",
       "      <td>{'follow_request_sent': None, 'profile_use_bac...</td>\n",
       "      <td>2020-04-11</td>\n",
       "      <td>DOPEPAYN</td>\n",
       "    </tr>\n",
       "    <tr>\n",
       "      <th>8</th>\n",
       "      <td>NaN</td>\n",
       "      <td>{'$date': '2020-04-11T20:40:11.000-0300'}</td>\n",
       "      <td>{'follow_request_sent': None, 'profile_use_bac...</td>\n",
       "      <td>2020-04-11</td>\n",
       "      <td>Anderson2512</td>\n",
       "    </tr>\n",
       "    <tr>\n",
       "      <th>9</th>\n",
       "      <td>NaN</td>\n",
       "      <td>{'$date': '2020-04-11T20:40:11.000-0300'}</td>\n",
       "      <td>{'follow_request_sent': None, 'profile_use_bac...</td>\n",
       "      <td>2020-04-11</td>\n",
       "      <td>AureaAp</td>\n",
       "    </tr>\n",
       "    <tr>\n",
       "      <th>10</th>\n",
       "      <td>NaN</td>\n",
       "      <td>{'$date': '2020-04-11T20:40:11.000-0300'}</td>\n",
       "      <td>{'follow_request_sent': None, 'profile_use_bac...</td>\n",
       "      <td>2020-04-11</td>\n",
       "      <td>petvergette</td>\n",
       "    </tr>\n",
       "    <tr>\n",
       "      <th>11</th>\n",
       "      <td>NaN</td>\n",
       "      <td>{'$date': '2020-04-11T20:40:11.000-0300'}</td>\n",
       "      <td>{'follow_request_sent': None, 'profile_use_bac...</td>\n",
       "      <td>2020-04-11</td>\n",
       "      <td>thaizamacedo</td>\n",
       "    </tr>\n",
       "    <tr>\n",
       "      <th>12</th>\n",
       "      <td>NaN</td>\n",
       "      <td>{'$date': '2020-04-11T20:40:11.000-0300'}</td>\n",
       "      <td>{'follow_request_sent': None, 'profile_use_bac...</td>\n",
       "      <td>2020-04-11</td>\n",
       "      <td>estevocp</td>\n",
       "    </tr>\n",
       "    <tr>\n",
       "      <th>13</th>\n",
       "      <td>NaN</td>\n",
       "      <td>{'$date': '2020-04-11T20:40:11.000-0300'}</td>\n",
       "      <td>{'follow_request_sent': None, 'profile_use_bac...</td>\n",
       "      <td>2020-04-11</td>\n",
       "      <td>lucas_michelini</td>\n",
       "    </tr>\n",
       "    <tr>\n",
       "      <th>14</th>\n",
       "      <td>NaN</td>\n",
       "      <td>{'$date': '2020-04-11T20:40:11.000-0300'}</td>\n",
       "      <td>{'follow_request_sent': None, 'profile_use_bac...</td>\n",
       "      <td>2020-04-11</td>\n",
       "      <td>Andrew_Spartano</td>\n",
       "    </tr>\n",
       "    <tr>\n",
       "      <th>15</th>\n",
       "      <td>NaN</td>\n",
       "      <td>{'$date': '2020-04-11T20:40:11.000-0300'}</td>\n",
       "      <td>{'follow_request_sent': None, 'profile_use_bac...</td>\n",
       "      <td>2020-04-11</td>\n",
       "      <td>monica_sofiaa</td>\n",
       "    </tr>\n",
       "    <tr>\n",
       "      <th>16</th>\n",
       "      <td>NaN</td>\n",
       "      <td>{'$date': '2020-04-11T20:40:11.000-0300'}</td>\n",
       "      <td>{'follow_request_sent': None, 'profile_use_bac...</td>\n",
       "      <td>2020-04-11</td>\n",
       "      <td>malysz_anna</td>\n",
       "    </tr>\n",
       "    <tr>\n",
       "      <th>17</th>\n",
       "      <td>NaN</td>\n",
       "      <td>{'$date': '2020-04-11T20:40:11.000-0300'}</td>\n",
       "      <td>{'follow_request_sent': None, 'profile_use_bac...</td>\n",
       "      <td>2020-04-11</td>\n",
       "      <td>maedoluccas</td>\n",
       "    </tr>\n",
       "    <tr>\n",
       "      <th>18</th>\n",
       "      <td>NaN</td>\n",
       "      <td>{'$date': '2020-04-11T20:40:11.000-0300'}</td>\n",
       "      <td>{'follow_request_sent': None, 'profile_use_bac...</td>\n",
       "      <td>2020-04-11</td>\n",
       "      <td>tratebemgestao1</td>\n",
       "    </tr>\n",
       "    <tr>\n",
       "      <th>19</th>\n",
       "      <td>NaN</td>\n",
       "      <td>{'$date': '2020-04-11T20:40:12.000-0300'}</td>\n",
       "      <td>{'follow_request_sent': None, 'profile_use_bac...</td>\n",
       "      <td>2020-04-11</td>\n",
       "      <td>luquinhassss02</td>\n",
       "    </tr>\n",
       "  </tbody>\n",
       "</table>\n",
       "</div>"
      ],
      "text/plain": [
       "     0                                 created_at  \\\n",
       "0  NaN  {'$date': '2020-04-11T20:40:10.000-0300'}   \n",
       "1  NaN  {'$date': '2020-04-11T20:40:10.000-0300'}   \n",
       "2  NaN  {'$date': '2020-04-11T20:40:10.000-0300'}   \n",
       "3  NaN  {'$date': '2020-04-11T20:40:10.000-0300'}   \n",
       "4  NaN  {'$date': '2020-04-11T20:40:10.000-0300'}   \n",
       "5  NaN  {'$date': '2020-04-11T20:40:10.000-0300'}   \n",
       "6  NaN  {'$date': '2020-04-11T20:40:11.000-0300'}   \n",
       "7  NaN  {'$date': '2020-04-11T20:40:11.000-0300'}   \n",
       "8  NaN  {'$date': '2020-04-11T20:40:11.000-0300'}   \n",
       "9  NaN  {'$date': '2020-04-11T20:40:11.000-0300'}   \n",
       "10 NaN  {'$date': '2020-04-11T20:40:11.000-0300'}   \n",
       "11 NaN  {'$date': '2020-04-11T20:40:11.000-0300'}   \n",
       "12 NaN  {'$date': '2020-04-11T20:40:11.000-0300'}   \n",
       "13 NaN  {'$date': '2020-04-11T20:40:11.000-0300'}   \n",
       "14 NaN  {'$date': '2020-04-11T20:40:11.000-0300'}   \n",
       "15 NaN  {'$date': '2020-04-11T20:40:11.000-0300'}   \n",
       "16 NaN  {'$date': '2020-04-11T20:40:11.000-0300'}   \n",
       "17 NaN  {'$date': '2020-04-11T20:40:11.000-0300'}   \n",
       "18 NaN  {'$date': '2020-04-11T20:40:11.000-0300'}   \n",
       "19 NaN  {'$date': '2020-04-11T20:40:12.000-0300'}   \n",
       "\n",
       "                                                 user         Day  \\\n",
       "0   {'follow_request_sent': None, 'profile_use_bac...  2020-04-11   \n",
       "1   {'follow_request_sent': None, 'profile_use_bac...  2020-04-11   \n",
       "2   {'follow_request_sent': None, 'profile_use_bac...  2020-04-11   \n",
       "3   {'follow_request_sent': None, 'profile_use_bac...  2020-04-11   \n",
       "4   {'follow_request_sent': None, 'profile_use_bac...  2020-04-11   \n",
       "5   {'follow_request_sent': None, 'profile_use_bac...  2020-04-11   \n",
       "6   {'follow_request_sent': None, 'profile_use_bac...  2020-04-11   \n",
       "7   {'follow_request_sent': None, 'profile_use_bac...  2020-04-11   \n",
       "8   {'follow_request_sent': None, 'profile_use_bac...  2020-04-11   \n",
       "9   {'follow_request_sent': None, 'profile_use_bac...  2020-04-11   \n",
       "10  {'follow_request_sent': None, 'profile_use_bac...  2020-04-11   \n",
       "11  {'follow_request_sent': None, 'profile_use_bac...  2020-04-11   \n",
       "12  {'follow_request_sent': None, 'profile_use_bac...  2020-04-11   \n",
       "13  {'follow_request_sent': None, 'profile_use_bac...  2020-04-11   \n",
       "14  {'follow_request_sent': None, 'profile_use_bac...  2020-04-11   \n",
       "15  {'follow_request_sent': None, 'profile_use_bac...  2020-04-11   \n",
       "16  {'follow_request_sent': None, 'profile_use_bac...  2020-04-11   \n",
       "17  {'follow_request_sent': None, 'profile_use_bac...  2020-04-11   \n",
       "18  {'follow_request_sent': None, 'profile_use_bac...  2020-04-11   \n",
       "19  {'follow_request_sent': None, 'profile_use_bac...  2020-04-11   \n",
       "\n",
       "           Username  \n",
       "0      andreeyreiis  \n",
       "1       madutargino  \n",
       "2        jbonif4cio  \n",
       "3         jorge_wam  \n",
       "4       naoehamamae  \n",
       "5            JhinWP  \n",
       "6         falavc_dn  \n",
       "7          DOPEPAYN  \n",
       "8      Anderson2512  \n",
       "9           AureaAp  \n",
       "10      petvergette  \n",
       "11     thaizamacedo  \n",
       "12         estevocp  \n",
       "13  lucas_michelini  \n",
       "14  Andrew_Spartano  \n",
       "15    monica_sofiaa  \n",
       "16      malysz_anna  \n",
       "17      maedoluccas  \n",
       "18  tratebemgestao1  \n",
       "19   luquinhassss02  "
      ]
     },
     "execution_count": 60,
     "metadata": {},
     "output_type": "execute_result"
    }
   ],
   "source": [
    "tweets.head(20)"
   ]
  },
  {
   "cell_type": "markdown",
   "metadata": {},
   "source": [
    "### Coletando dias disponíveis no conjunto de dados"
   ]
  },
  {
   "cell_type": "code",
   "execution_count": 64,
   "metadata": {},
   "outputs": [
    {
     "name": "stdout",
     "output_type": "stream",
     "text": [
      "['2020-04-11']\n"
     ]
    }
   ],
   "source": [
    "days = tweets['Day'].unique()\n",
    "print(days)"
   ]
  },
  {
   "cell_type": "markdown",
   "metadata": {},
   "source": [
    "# Obtendo X usuários que mais tweetaram em um dia Y"
   ]
  },
  {
   "cell_type": "code",
   "execution_count": 99,
   "metadata": {},
   "outputs": [
    {
     "name": "stdout",
     "output_type": "stream",
     "text": [
      "2020-04-12 não está disponível no conjunto de tweets analisados.\n",
      "Definindo y como o primeiro dia disponível no banco de dados: 2020-04-11\n"
     ]
    }
   ],
   "source": [
    "x = 3\n",
    "y = \"2020-04-12\"\n",
    "\n",
    "# AVISANDO CASO UM DIA NÃO ESTEJA DISPONÍVEL NO CONJUNTO CARREGADO\n",
    "if y not in days:\n",
    "    print(y + ' não está disponível no conjunto de tweets analisados.')\n",
    "    y = days[0]\n",
    "    print('Definindo y como o primeiro dia disponível no banco de dados: ' + y)"
   ]
  },
  {
   "cell_type": "code",
   "execution_count": 100,
   "metadata": {},
   "outputs": [
    {
     "name": "stdout",
     "output_type": "stream",
     "text": [
      "                 0  created_at  user  Day\n",
      "Username                                 \n",
      "IvaniseShakira   0          10    10   10\n",
      "BrisaBot         0           9     9    9\n",
      "ac7cbf7867e6429  0           6     6    6\n",
      "Bot_Corona_V     0           6     6    6\n",
      "Andrew_Spartano  0           6     6    6\n",
      "...             ..         ...   ...  ...\n",
      "VoltaPT13        0           1     1    1\n",
      "VrechThomas      0           1     1    1\n",
      "WHOXVOM          0           1     1    1\n",
      "WallaceMcPheel   0           1     1    1\n",
      "zzzzxxxxccccaa   0           1     1    1\n",
      "\n",
      "[4530 rows x 4 columns]\n"
     ]
    }
   ],
   "source": [
    "results = tweets.loc[tweets['Day'] == y].groupby('Username').count().sort_values(by='user', ascending = False)\n",
    "print(results)"
   ]
  },
  {
   "cell_type": "markdown",
   "metadata": {},
   "source": [
    "#### Resultado:"
   ]
  },
  {
   "cell_type": "code",
   "execution_count": 101,
   "metadata": {},
   "outputs": [
    {
     "data": {
      "text/html": [
       "<div>\n",
       "<style scoped>\n",
       "    .dataframe tbody tr th:only-of-type {\n",
       "        vertical-align: middle;\n",
       "    }\n",
       "\n",
       "    .dataframe tbody tr th {\n",
       "        vertical-align: top;\n",
       "    }\n",
       "\n",
       "    .dataframe thead th {\n",
       "        text-align: right;\n",
       "    }\n",
       "</style>\n",
       "<table border=\"1\" class=\"dataframe\">\n",
       "  <thead>\n",
       "    <tr style=\"text-align: right;\">\n",
       "      <th></th>\n",
       "      <th>0</th>\n",
       "      <th>created_at</th>\n",
       "      <th>user</th>\n",
       "      <th>Day</th>\n",
       "    </tr>\n",
       "    <tr>\n",
       "      <th>Username</th>\n",
       "      <th></th>\n",
       "      <th></th>\n",
       "      <th></th>\n",
       "      <th></th>\n",
       "    </tr>\n",
       "  </thead>\n",
       "  <tbody>\n",
       "    <tr>\n",
       "      <th>IvaniseShakira</th>\n",
       "      <td>0</td>\n",
       "      <td>10</td>\n",
       "      <td>10</td>\n",
       "      <td>10</td>\n",
       "    </tr>\n",
       "    <tr>\n",
       "      <th>BrisaBot</th>\n",
       "      <td>0</td>\n",
       "      <td>9</td>\n",
       "      <td>9</td>\n",
       "      <td>9</td>\n",
       "    </tr>\n",
       "    <tr>\n",
       "      <th>ac7cbf7867e6429</th>\n",
       "      <td>0</td>\n",
       "      <td>6</td>\n",
       "      <td>6</td>\n",
       "      <td>6</td>\n",
       "    </tr>\n",
       "  </tbody>\n",
       "</table>\n",
       "</div>"
      ],
      "text/plain": [
       "                 0  created_at  user  Day\n",
       "Username                                 \n",
       "IvaniseShakira   0          10    10   10\n",
       "BrisaBot         0           9     9    9\n",
       "ac7cbf7867e6429  0           6     6    6"
      ]
     },
     "execution_count": 101,
     "metadata": {},
     "output_type": "execute_result"
    }
   ],
   "source": [
    "results.head(x)"
   ]
  },
  {
   "cell_type": "markdown",
   "metadata": {},
   "source": [
    "### Obtendo o usuário que mais tweetou nesse dia Y"
   ]
  },
  {
   "cell_type": "code",
   "execution_count": 94,
   "metadata": {},
   "outputs": [
    {
     "data": {
      "text/plain": [
       "'IvaniseShakira'"
      ]
     },
     "execution_count": 94,
     "metadata": {},
     "output_type": "execute_result"
    }
   ],
   "source": [
    "results['user'].idxmax()"
   ]
  }
 ],
 "metadata": {
  "kernelspec": {
   "display_name": "Python 3",
   "language": "python",
   "name": "python3"
  },
  "language_info": {
   "codemirror_mode": {
    "name": "ipython",
    "version": 3
   },
   "file_extension": ".py",
   "mimetype": "text/x-python",
   "name": "python",
   "nbconvert_exporter": "python",
   "pygments_lexer": "ipython3",
   "version": "3.8.3"
  }
 },
 "nbformat": 4,
 "nbformat_minor": 4
}
