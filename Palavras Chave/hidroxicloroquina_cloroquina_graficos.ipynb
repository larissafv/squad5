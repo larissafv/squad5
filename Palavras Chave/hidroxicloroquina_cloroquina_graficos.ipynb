{
 "cells": [
  {
   "cell_type": "markdown",
   "metadata": {},
   "source": [
    "# Análise Gráfica das Palavras Hidroxicloroquina e Cloroquina\n",
    "#### (Daniel)"
   ]
  },
  {
   "cell_type": "markdown",
   "metadata": {},
   "source": [
    "## Implementando Funções"
   ]
  },
  {
   "cell_type": "code",
   "execution_count": 80,
   "metadata": {},
   "outputs": [],
   "source": [
    "import nltk\n",
    "import re\n",
    "import pandas as pd\n",
    "from IPython.display import clear_output\n",
    "from collections import defaultdict\n",
    "from string import punctuation\n",
    "import numpy as np\n",
    "#stopwords em portugues\n",
    "from nltk.corpus import stopwords\n",
    "stopwords = set(stopwords.words('portuguese') + list(punctuation) + ['“','”'])\n",
    "\n",
    "#funçao pra limpeza de texto\n",
    "from nltk.tokenize import TweetTokenizer\n",
    "tweet_tokenizer = TweetTokenizer(strip_handles=True, reduce_len=True, preserve_case=False)"
   ]
  },
  {
   "cell_type": "code",
   "execution_count": 81,
   "metadata": {},
   "outputs": [],
   "source": [
    "#funçao pra leitura de dados e criaçao de dataframe\n",
    "def json_to_dataframe(nome_json, colunas, chunk):\n",
    "    dados = pd.read_json(nome_json, convert_dates = False, lines = True, chunksize = chunk)    \n",
    "    \n",
    "    for df_tweets_retweets in dados:\n",
    "        yield df_tweets_retweets[colunas]"
   ]
  },
  {
   "cell_type": "code",
   "execution_count": 82,
   "metadata": {},
   "outputs": [],
   "source": [
    "#funçao pra leitura de dados e criaçao de dataframe\n",
    "def json_to_dataframe_retweets(nome_json, colunas, chunk):\n",
    "    dados = pd.read_json(nome_json, convert_dates = False, lines = True, chunksize = chunk)    \n",
    "    \n",
    "    for df_tweets_retweets in dados:\n",
    "        yield df_tweets_retweets.dropna(subset=['retweeted_status'])[colunas]"
   ]
  },
  {
   "cell_type": "code",
   "execution_count": 83,
   "metadata": {},
   "outputs": [],
   "source": [
    "#funçao pra limpar texto e retirar stopwords\n",
    "def tokenizar_texto(texto_tweet):\n",
    "    texto_tokenizado = tweet_tokenizer.tokenize(texto_tweet)\n",
    "\n",
    "    if texto_tokenizado[0] == \"rt\" and texto_tokenizado[1] == \":\":\n",
    "        del texto_tokenizado[0]\n",
    "    \n",
    "    palavras_sem_stopwords = [palavra for palavra in texto_tokenizado if palavra not in stopwords] \n",
    "    return palavras_sem_stopwords"
   ]
  },
  {
   "cell_type": "code",
   "execution_count": 84,
   "metadata": {},
   "outputs": [],
   "source": [
    "#funçao pra criar dicionario com a data e quantidade das palavras chaves\n",
    "def contagem_pchaves_data(pchaves_lista, gerador,destino):\n",
    "    \n",
    "    dict_datas_pchaves = defaultdict(dict)            \n",
    "    \n",
    "    for dataframe in gerador:        \n",
    "        for linha in dataframe.values:            \n",
    "            texto_tweet = list(tokenizar_texto(linha[0]))\n",
    "\n",
    "            for palavra in texto_tweet:                \n",
    "                if palavra in pchaves_lista:\n",
    "                    data = linha[1]['$date'][:10]\n",
    "                    if data not in dict_datas_pchaves or palavra not in dict_datas_pchaves[data]:\n",
    "                        dict_datas_pchaves[data][palavra] = 0\n",
    "                    dict_datas_pchaves[data][palavra] += 1 \n",
    "            clear_output()\n",
    "            \n",
    "    escrever_arq_csv(dict_datas_pchaves,destino)"
   ]
  },
  {
   "cell_type": "code",
   "execution_count": 85,
   "metadata": {},
   "outputs": [],
   "source": [
    "#funcao que conta a quantidade e proporção de retweets nos tweets\n",
    "def prop_retweets(arquivo):\n",
    "    retweets=0\n",
    "    tweets=0\n",
    "    gerador = json_to_dataframe(arquivo,['retweeted_status'],2000)\n",
    "    for dataframe in gerador:\n",
    "        for linha in dataframe.values:\n",
    "            if type(linha[0])==dict:\n",
    "                retweets+=1\n",
    "            tweets+=1\n",
    "    return retweets,retweets/tweets"
   ]
  },
  {
   "cell_type": "code",
   "execution_count": 96,
   "metadata": {},
   "outputs": [],
   "source": [
    "#funcao que conta a quantidade e proporção de DIAS nos tweets\n",
    "def prop_dias(arquivo):\n",
    "    datas_tts = {}\n",
    "    datas_rtts = {}\n",
    "    tweets = 0\n",
    "    retweets = 0\n",
    "    gerador = json_to_dataframe(arquivo,['created_at','retweeted_status'],2000)\n",
    "    for dataframe in gerador:\n",
    "        for linha in dataframe.values:\n",
    "            data = linha[0]['$date'].split('T')[0]\n",
    "            if data not in datas_tts:#[:2] == 'RT':\n",
    "                datas_tts[data] =0\n",
    "            datas_tts[data] += 1\n",
    "            tweets+=1\n",
    "            if type(linha[1])==dict:\n",
    "                if data not in datas_rtts:\n",
    "                    datas_rtts[data] = 0\n",
    "                datas_rtts[data] +=1\n",
    "                retweets+=1\n",
    "    return datas_tts,datas_rtts,tweets,retweets"
   ]
  },
  {
   "cell_type": "code",
   "execution_count": 87,
   "metadata": {},
   "outputs": [],
   "source": [
    "#funçao pra escrever os resultados no arquivo csv\n",
    "def escrever_arq_csv(dict_datas_pchaves,destino):\n",
    "    with open(destino, 'w', encoding=\"utf-8\") as f:\n",
    "        f.write(\"Data;Palavra;Ocorrencias\\n\")\n",
    "    \n",
    "        for key in dict_datas_pchaves.keys():\n",
    "            for palavra in dict_datas_pchaves[key].keys():\n",
    "                f.write(\"%s;%s;%s\\n\"%(key, palavra, dict_datas_pchaves[key][palavra]))\n",
    "            \n",
    "    print('A contagem de palavras chaves por data foi salva com sucesso no arquivo')"
   ]
  },
  {
   "cell_type": "code",
   "execution_count": 88,
   "metadata": {},
   "outputs": [],
   "source": [
    "def escrever_datas_arq(datas,destino):\n",
    "    with open(destino, 'w', encoding=\"utf-8\") as f:\n",
    "        f.write(\"Data;Ocorrencias\\n\")\n",
    "        for data in datas:\n",
    "            f.write(\"%s;%s\\n\"%(data,datas[data]))"
   ]
  },
  {
   "cell_type": "markdown",
   "metadata": {},
   "source": [
    "## Execução"
   ]
  },
  {
   "cell_type": "markdown",
   "metadata": {},
   "source": [
    "### Gerar csv's com os dados das palavras em tweets e retweets"
   ]
  },
  {
   "cell_type": "code",
   "execution_count": null,
   "metadata": {},
   "outputs": [],
   "source": [
    "#execuçao do codigo para tweets\n",
    "gerador = json_to_dataframe('tweets_222_23abr2020.json',[\"text\",\"created_at\"], 30)\n",
    "\n",
    "contagem_pchaves_data(['hidroxicloroquina', 'cloroquina'], gerador,'cont_hidro_cloro_data.csv')"
   ]
  },
  {
   "cell_type": "code",
   "execution_count": null,
   "metadata": {},
   "outputs": [],
   "source": [
    "#execuçao do codigo para retweets\n",
    "gerador = json_to_dataframe_retweets('tweets_222_23abr2020.json',[\"text\",\"created_at\"], 30)\n",
    "\n",
    "contagem_pchaves_data(['hidroxicloroquina', 'cloroquina'], gerador,'cont_hidro_cloro_data_retweets.csv')"
   ]
  },
  {
   "cell_type": "markdown",
   "metadata": {},
   "source": [
    "### Calcular proporções de retweets e datas no arquivo analisado"
   ]
  },
  {
   "cell_type": "code",
   "execution_count": null,
   "metadata": {},
   "outputs": [],
   "source": [
    "#execução prop_retweets\n",
    "rtts,prop = prop_retweets(\"tweets_222_23abr2020.json\")\n",
    "rtts,prop"
   ]
  },
  {
   "cell_type": "code",
   "execution_count": 97,
   "metadata": {},
   "outputs": [
    {
     "data": {
      "text/plain": [
       "({'2020-04-11': 260502,\n",
       "  '2020-04-12': 1316303,\n",
       "  '2020-04-13': 1157405,\n",
       "  '2020-04-14': 1361567,\n",
       "  '2020-04-15': 1396492,\n",
       "  '2020-04-16': 383271,\n",
       "  '2020-04-22': 832755,\n",
       "  '2020-04-23': 280609},\n",
       " {'2020-04-11': 166189,\n",
       "  '2020-04-12': 872865,\n",
       "  '2020-04-13': 739556,\n",
       "  '2020-04-14': 854663,\n",
       "  '2020-04-15': 887176,\n",
       "  '2020-04-16': 251201,\n",
       "  '2020-04-22': 517023,\n",
       "  '2020-04-23': 169156},\n",
       " 6988904,\n",
       " 4457829)"
      ]
     },
     "execution_count": 97,
     "metadata": {},
     "output_type": "execute_result"
    }
   ],
   "source": [
    "#execução prop_retweets\n",
    "datas_tt,datas_rtt,tweets,retweets = prop_dias(\"tweets_222_23abr2020.json\")\n",
    "datas_tt,datas_rtt,tweets,retweets "
   ]
  },
  {
   "cell_type": "markdown",
   "metadata": {},
   "source": [
    "### Escevendo ocoências das datas no arquivo"
   ]
  },
  {
   "cell_type": "code",
   "execution_count": null,
   "metadata": {},
   "outputs": [],
   "source": [
    "escrever_datas_arq(datas_tt,'datas_23abr.csv')\n",
    "escrever_datas_arq(datas_rtt,'datas_rtt_23abr.csv')"
   ]
  },
  {
   "cell_type": "markdown",
   "metadata": {},
   "source": [
    "### Ler csv's e gerar DataFrame agregado com todos os valores para análise"
   ]
  },
  {
   "cell_type": "code",
   "execution_count": 92,
   "metadata": {
    "scrolled": false
   },
   "outputs": [
    {
     "data": {
      "text/html": [
       "<div>\n",
       "<style scoped>\n",
       "    .dataframe tbody tr th:only-of-type {\n",
       "        vertical-align: middle;\n",
       "    }\n",
       "\n",
       "    .dataframe tbody tr th {\n",
       "        vertical-align: top;\n",
       "    }\n",
       "\n",
       "    .dataframe thead th {\n",
       "        text-align: right;\n",
       "    }\n",
       "</style>\n",
       "<table border=\"1\" class=\"dataframe\">\n",
       "  <thead>\n",
       "    <tr style=\"text-align: right;\">\n",
       "      <th></th>\n",
       "      <th></th>\n",
       "      <th>Ocorrencias</th>\n",
       "    </tr>\n",
       "    <tr>\n",
       "      <th>Data</th>\n",
       "      <th>Palavra</th>\n",
       "      <th></th>\n",
       "    </tr>\n",
       "  </thead>\n",
       "  <tbody>\n",
       "    <tr>\n",
       "      <th rowspan=\"2\" valign=\"top\">2020-04-11</th>\n",
       "      <th>cloroquina</th>\n",
       "      <td>11520.0</td>\n",
       "    </tr>\n",
       "    <tr>\n",
       "      <th>hidroxicloroquina</th>\n",
       "      <td>3486.0</td>\n",
       "    </tr>\n",
       "    <tr>\n",
       "      <th rowspan=\"2\" valign=\"top\">2020-04-12</th>\n",
       "      <th>cloroquina</th>\n",
       "      <td>65272.0</td>\n",
       "    </tr>\n",
       "    <tr>\n",
       "      <th>hidroxicloroquina</th>\n",
       "      <td>14723.0</td>\n",
       "    </tr>\n",
       "    <tr>\n",
       "      <th rowspan=\"2\" valign=\"top\">2020-04-13</th>\n",
       "      <th>cloroquina</th>\n",
       "      <td>45901.0</td>\n",
       "    </tr>\n",
       "    <tr>\n",
       "      <th>hidroxicloroquina</th>\n",
       "      <td>13897.0</td>\n",
       "    </tr>\n",
       "    <tr>\n",
       "      <th rowspan=\"2\" valign=\"top\">2020-04-14</th>\n",
       "      <th>cloroquina</th>\n",
       "      <td>64621.0</td>\n",
       "    </tr>\n",
       "    <tr>\n",
       "      <th>hidroxicloroquina</th>\n",
       "      <td>24931.0</td>\n",
       "    </tr>\n",
       "    <tr>\n",
       "      <th rowspan=\"2\" valign=\"top\">2020-04-15</th>\n",
       "      <th>hidroxicloroquina</th>\n",
       "      <td>16042.0</td>\n",
       "    </tr>\n",
       "    <tr>\n",
       "      <th>cloroquina</th>\n",
       "      <td>62765.0</td>\n",
       "    </tr>\n",
       "    <tr>\n",
       "      <th rowspan=\"2\" valign=\"top\">2020-04-16</th>\n",
       "      <th>cloroquina</th>\n",
       "      <td>24653.0</td>\n",
       "    </tr>\n",
       "    <tr>\n",
       "      <th>hidroxicloroquina</th>\n",
       "      <td>4933.0</td>\n",
       "    </tr>\n",
       "    <tr>\n",
       "      <th rowspan=\"2\" valign=\"top\">2020-04-22</th>\n",
       "      <th>hidroxicloroquina</th>\n",
       "      <td>10195.0</td>\n",
       "    </tr>\n",
       "    <tr>\n",
       "      <th>cloroquina</th>\n",
       "      <td>14953.0</td>\n",
       "    </tr>\n",
       "    <tr>\n",
       "      <th rowspan=\"2\" valign=\"top\">2020-04-23</th>\n",
       "      <th>cloroquina</th>\n",
       "      <td>8376.0</td>\n",
       "    </tr>\n",
       "    <tr>\n",
       "      <th>hidroxicloroquina</th>\n",
       "      <td>5523.0</td>\n",
       "    </tr>\n",
       "  </tbody>\n",
       "</table>\n",
       "</div>"
      ],
      "text/plain": [
       "                              Ocorrencias\n",
       "Data       Palavra                       \n",
       "2020-04-11 cloroquina             11520.0\n",
       "           hidroxicloroquina       3486.0\n",
       "2020-04-12 cloroquina             65272.0\n",
       "           hidroxicloroquina      14723.0\n",
       "2020-04-13 cloroquina             45901.0\n",
       "           hidroxicloroquina      13897.0\n",
       "2020-04-14 cloroquina             64621.0\n",
       "           hidroxicloroquina      24931.0\n",
       "2020-04-15 hidroxicloroquina      16042.0\n",
       "           cloroquina             62765.0\n",
       "2020-04-16 cloroquina             24653.0\n",
       "           hidroxicloroquina       4933.0\n",
       "2020-04-22 hidroxicloroquina      10195.0\n",
       "           cloroquina             14953.0\n",
       "2020-04-23 cloroquina              8376.0\n",
       "           hidroxicloroquina       5523.0"
      ]
     },
     "execution_count": 92,
     "metadata": {},
     "output_type": "execute_result"
    }
   ],
   "source": [
    "import matplotlib.pyplot as plt\n",
    "import pandas as pd\n",
    "\n",
    "pd.set_option('display.max_colwidth', None)\n",
    "cont_tweets = pd.read_csv('cont_hidro_cloro_data.csv',sep=';',dtype={'Data':'str','Palavra':'str','Ocorrencias':'float'}) # Ler dados coletados dos tweets\n",
    "cont_tweets = cont_tweets.sort_values(by='Data').set_index(['Data','Palavra']) # Indexação para garantir correta associação dos DataFrames\n",
    "cont_retweets = pd.read_csv('cont_hidro_cloro_data_retweets.csv',sep=';',dtype={'Data':'str','Palavra':'str','Ocorrencias':'float'}) # ler dados coletados dos retweets\n",
    "cont_retweets = cont_retweets.sort_values(by='Data').set_index(['Data','Palavra']) # Indexação para garantir correta associação dos DataFrames\n",
    "cont_tweets # Visualizar DataFrame com os valores de tweets"
   ]
  },
  {
   "cell_type": "code",
   "execution_count": 100,
   "metadata": {},
   "outputs": [
    {
     "data": {
      "text/plain": [
       "2020-04-11    166189\n",
       "2020-04-12    872865\n",
       "2020-04-13    739556\n",
       "2020-04-14    854663\n",
       "2020-04-15    887176\n",
       "2020-04-16    251201\n",
       "2020-04-22    517023\n",
       "2020-04-23    169156\n",
       "dtype: int64"
      ]
     },
     "execution_count": 100,
     "metadata": {},
     "output_type": "execute_result"
    }
   ],
   "source": [
    "datas_tt = pd.Series(datas_tt)\n",
    "datas_rtt = pd.Series(datas_rtt)"
   ]
  },
  {
   "cell_type": "code",
   "execution_count": 120,
   "metadata": {},
   "outputs": [
    {
     "data": {
      "text/html": [
       "<div>\n",
       "<style scoped>\n",
       "    .dataframe tbody tr th:only-of-type {\n",
       "        vertical-align: middle;\n",
       "    }\n",
       "\n",
       "    .dataframe tbody tr th {\n",
       "        vertical-align: top;\n",
       "    }\n",
       "\n",
       "    .dataframe thead th {\n",
       "        text-align: right;\n",
       "    }\n",
       "</style>\n",
       "<table border=\"1\" class=\"dataframe\">\n",
       "  <thead>\n",
       "    <tr style=\"text-align: right;\">\n",
       "      <th></th>\n",
       "      <th>Tweets</th>\n",
       "      <th>Retweets</th>\n",
       "    </tr>\n",
       "  </thead>\n",
       "  <tbody>\n",
       "    <tr>\n",
       "      <th>2020-04-11</th>\n",
       "      <td>260502</td>\n",
       "      <td>166189</td>\n",
       "    </tr>\n",
       "    <tr>\n",
       "      <th>2020-04-12</th>\n",
       "      <td>1316303</td>\n",
       "      <td>872865</td>\n",
       "    </tr>\n",
       "    <tr>\n",
       "      <th>2020-04-13</th>\n",
       "      <td>1157405</td>\n",
       "      <td>739556</td>\n",
       "    </tr>\n",
       "    <tr>\n",
       "      <th>2020-04-14</th>\n",
       "      <td>1361567</td>\n",
       "      <td>854663</td>\n",
       "    </tr>\n",
       "    <tr>\n",
       "      <th>2020-04-15</th>\n",
       "      <td>1396492</td>\n",
       "      <td>887176</td>\n",
       "    </tr>\n",
       "    <tr>\n",
       "      <th>2020-04-16</th>\n",
       "      <td>383271</td>\n",
       "      <td>251201</td>\n",
       "    </tr>\n",
       "    <tr>\n",
       "      <th>2020-04-22</th>\n",
       "      <td>832755</td>\n",
       "      <td>517023</td>\n",
       "    </tr>\n",
       "    <tr>\n",
       "      <th>2020-04-23</th>\n",
       "      <td>280609</td>\n",
       "      <td>169156</td>\n",
       "    </tr>\n",
       "  </tbody>\n",
       "</table>\n",
       "</div>"
      ],
      "text/plain": [
       "             Tweets  Retweets\n",
       "2020-04-11   260502    166189\n",
       "2020-04-12  1316303    872865\n",
       "2020-04-13  1157405    739556\n",
       "2020-04-14  1361567    854663\n",
       "2020-04-15  1396492    887176\n",
       "2020-04-16   383271    251201\n",
       "2020-04-22   832755    517023\n",
       "2020-04-23   280609    169156"
      ]
     },
     "execution_count": 120,
     "metadata": {},
     "output_type": "execute_result"
    }
   ],
   "source": [
    "datas = pd.DataFrame(columns=['Tweets','Retweets'])\n",
    "datas['Retweets'] = datas_rtt\n",
    "datas['Tweets'] = datas_tt\n",
    "datas.index.rename('Data')\n",
    "datas"
   ]
  },
  {
   "cell_type": "code",
   "execution_count": 101,
   "metadata": {
    "scrolled": true
   },
   "outputs": [],
   "source": [
    "for data in datas_tt.index:\n",
    "    cont_tweets['Ocorrencias'][(data,'cloroquina')] = (cont_tweets['Ocorrencias'][(data,'cloroquina')]/datas_tt[data] )*100\n",
    "    cont_tweets['Ocorrencias'][(data,'hidroxicloroquina')] = (cont_tweets['Ocorrencias'][(data,'hidroxicloroquina')]/datas_tt[data] )*100\n",
    "for data in datas_rtt.index:\n",
    "    cont_retweets['Ocorrencias'][(data,'cloroquina')] = (cont_retweets['Ocorrencias'][(data,'cloroquina')]/datas_rtt[data] )*100\n",
    "    cont_retweets['Ocorrencias'][(data,'hidroxicloroquina')] = (cont_retweets['Ocorrencias'][(data,'hidroxicloroquina')]/datas_rtt[data] )*100"
   ]
  },
  {
   "cell_type": "code",
   "execution_count": 78,
   "metadata": {},
   "outputs": [
    {
     "data": {
      "text/html": [
       "<div>\n",
       "<style scoped>\n",
       "    .dataframe tbody tr th:only-of-type {\n",
       "        vertical-align: middle;\n",
       "    }\n",
       "\n",
       "    .dataframe tbody tr th {\n",
       "        vertical-align: top;\n",
       "    }\n",
       "\n",
       "    .dataframe thead th {\n",
       "        text-align: right;\n",
       "    }\n",
       "</style>\n",
       "<table border=\"1\" class=\"dataframe\">\n",
       "  <thead>\n",
       "    <tr style=\"text-align: right;\">\n",
       "      <th></th>\n",
       "      <th></th>\n",
       "      <th>Ocorrencias</th>\n",
       "    </tr>\n",
       "    <tr>\n",
       "      <th>Data</th>\n",
       "      <th>Palavra</th>\n",
       "      <th></th>\n",
       "    </tr>\n",
       "  </thead>\n",
       "  <tbody>\n",
       "    <tr>\n",
       "      <th rowspan=\"2\" valign=\"top\">2020-04-11</th>\n",
       "      <th>cloroquina</th>\n",
       "      <td>3.852562</td>\n",
       "    </tr>\n",
       "    <tr>\n",
       "      <th>hidroxicloroquina</th>\n",
       "      <td>1.231468</td>\n",
       "    </tr>\n",
       "    <tr>\n",
       "      <th rowspan=\"2\" valign=\"top\">2020-04-12</th>\n",
       "      <th>cloroquina</th>\n",
       "      <td>4.360014</td>\n",
       "    </tr>\n",
       "    <tr>\n",
       "      <th>hidroxicloroquina</th>\n",
       "      <td>0.990805</td>\n",
       "    </tr>\n",
       "    <tr>\n",
       "      <th rowspan=\"2\" valign=\"top\">2020-04-13</th>\n",
       "      <th>cloroquina</th>\n",
       "      <td>3.325543</td>\n",
       "    </tr>\n",
       "    <tr>\n",
       "      <th>hidroxicloroquina</th>\n",
       "      <td>1.078793</td>\n",
       "    </tr>\n",
       "    <tr>\n",
       "      <th rowspan=\"2\" valign=\"top\">2020-04-14</th>\n",
       "      <th>cloroquina</th>\n",
       "      <td>3.852106</td>\n",
       "    </tr>\n",
       "    <tr>\n",
       "      <th>hidroxicloroquina</th>\n",
       "      <td>1.624378</td>\n",
       "    </tr>\n",
       "    <tr>\n",
       "      <th rowspan=\"2\" valign=\"top\">2020-04-15</th>\n",
       "      <th>cloroquina</th>\n",
       "      <td>3.655660</td>\n",
       "    </tr>\n",
       "    <tr>\n",
       "      <th>hidroxicloroquina</th>\n",
       "      <td>1.006164</td>\n",
       "    </tr>\n",
       "    <tr>\n",
       "      <th rowspan=\"2\" valign=\"top\">2020-04-16</th>\n",
       "      <th>cloroquina</th>\n",
       "      <td>5.738759</td>\n",
       "    </tr>\n",
       "    <tr>\n",
       "      <th>hidroxicloroquina</th>\n",
       "      <td>1.201239</td>\n",
       "    </tr>\n",
       "    <tr>\n",
       "      <th rowspan=\"2\" valign=\"top\">2020-04-22</th>\n",
       "      <th>hidroxicloroquina</th>\n",
       "      <td>1.087715</td>\n",
       "    </tr>\n",
       "    <tr>\n",
       "      <th>cloroquina</th>\n",
       "      <td>1.433435</td>\n",
       "    </tr>\n",
       "    <tr>\n",
       "      <th rowspan=\"2\" valign=\"top\">2020-04-23</th>\n",
       "      <th>cloroquina</th>\n",
       "      <td>2.550524</td>\n",
       "    </tr>\n",
       "    <tr>\n",
       "      <th>hidroxicloroquina</th>\n",
       "      <td>1.785046</td>\n",
       "    </tr>\n",
       "  </tbody>\n",
       "</table>\n",
       "</div>"
      ],
      "text/plain": [
       "                              Ocorrencias\n",
       "Data       Palavra                       \n",
       "2020-04-11 cloroquina            3.852562\n",
       "           hidroxicloroquina     1.231468\n",
       "2020-04-12 cloroquina            4.360014\n",
       "           hidroxicloroquina     0.990805\n",
       "2020-04-13 cloroquina            3.325543\n",
       "           hidroxicloroquina     1.078793\n",
       "2020-04-14 cloroquina            3.852106\n",
       "           hidroxicloroquina     1.624378\n",
       "2020-04-15 cloroquina            3.655660\n",
       "           hidroxicloroquina     1.006164\n",
       "2020-04-16 cloroquina            5.738759\n",
       "           hidroxicloroquina     1.201239\n",
       "2020-04-22 hidroxicloroquina     1.087715\n",
       "           cloroquina            1.433435\n",
       "2020-04-23 cloroquina            2.550524\n",
       "           hidroxicloroquina     1.785046"
      ]
     },
     "execution_count": 78,
     "metadata": {},
     "output_type": "execute_result"
    }
   ],
   "source": [
    "cont_retweets"
   ]
  },
  {
   "cell_type": "code",
   "execution_count": 102,
   "metadata": {},
   "outputs": [
    {
     "data": {
      "text/html": [
       "<div>\n",
       "<style scoped>\n",
       "    .dataframe tbody tr th:only-of-type {\n",
       "        vertical-align: middle;\n",
       "    }\n",
       "\n",
       "    .dataframe tbody tr th {\n",
       "        vertical-align: top;\n",
       "    }\n",
       "\n",
       "    .dataframe thead th {\n",
       "        text-align: right;\n",
       "    }\n",
       "</style>\n",
       "<table border=\"1\" class=\"dataframe\">\n",
       "  <thead>\n",
       "    <tr style=\"text-align: right;\">\n",
       "      <th></th>\n",
       "      <th>Data</th>\n",
       "      <th>Palavra</th>\n",
       "      <th>Tweets</th>\n",
       "      <th>Retweets</th>\n",
       "    </tr>\n",
       "  </thead>\n",
       "  <tbody>\n",
       "    <tr>\n",
       "      <th>0</th>\n",
       "      <td>2020-04-11</td>\n",
       "      <td>cloroquina</td>\n",
       "      <td>4.422231</td>\n",
       "      <td>6.038908</td>\n",
       "    </tr>\n",
       "    <tr>\n",
       "      <th>1</th>\n",
       "      <td>2020-04-11</td>\n",
       "      <td>hidroxicloroquina</td>\n",
       "      <td>1.338186</td>\n",
       "      <td>1.930332</td>\n",
       "    </tr>\n",
       "    <tr>\n",
       "      <th>2</th>\n",
       "      <td>2020-04-12</td>\n",
       "      <td>cloroquina</td>\n",
       "      <td>4.958737</td>\n",
       "      <td>6.575014</td>\n",
       "    </tr>\n",
       "    <tr>\n",
       "      <th>3</th>\n",
       "      <td>2020-04-12</td>\n",
       "      <td>hidroxicloroquina</td>\n",
       "      <td>1.118511</td>\n",
       "      <td>1.494160</td>\n",
       "    </tr>\n",
       "    <tr>\n",
       "      <th>4</th>\n",
       "      <td>2020-04-13</td>\n",
       "      <td>cloroquina</td>\n",
       "      <td>3.965855</td>\n",
       "      <td>5.204474</td>\n",
       "    </tr>\n",
       "    <tr>\n",
       "      <th>5</th>\n",
       "      <td>2020-04-13</td>\n",
       "      <td>hidroxicloroquina</td>\n",
       "      <td>1.200703</td>\n",
       "      <td>1.688310</td>\n",
       "    </tr>\n",
       "    <tr>\n",
       "      <th>6</th>\n",
       "      <td>2020-04-14</td>\n",
       "      <td>cloroquina</td>\n",
       "      <td>4.746076</td>\n",
       "      <td>6.136805</td>\n",
       "    </tr>\n",
       "    <tr>\n",
       "      <th>7</th>\n",
       "      <td>2020-04-14</td>\n",
       "      <td>hidroxicloroquina</td>\n",
       "      <td>1.831052</td>\n",
       "      <td>2.587804</td>\n",
       "    </tr>\n",
       "    <tr>\n",
       "      <th>8</th>\n",
       "      <td>2020-04-15</td>\n",
       "      <td>hidroxicloroquina</td>\n",
       "      <td>1.148736</td>\n",
       "      <td>1.583789</td>\n",
       "    </tr>\n",
       "    <tr>\n",
       "      <th>9</th>\n",
       "      <td>2020-04-15</td>\n",
       "      <td>cloroquina</td>\n",
       "      <td>4.494476</td>\n",
       "      <td>5.754326</td>\n",
       "    </tr>\n",
       "    <tr>\n",
       "      <th>10</th>\n",
       "      <td>2020-04-16</td>\n",
       "      <td>cloroquina</td>\n",
       "      <td>6.432263</td>\n",
       "      <td>8.755936</td>\n",
       "    </tr>\n",
       "    <tr>\n",
       "      <th>11</th>\n",
       "      <td>2020-04-16</td>\n",
       "      <td>hidroxicloroquina</td>\n",
       "      <td>1.287079</td>\n",
       "      <td>1.832795</td>\n",
       "    </tr>\n",
       "    <tr>\n",
       "      <th>12</th>\n",
       "      <td>2020-04-22</td>\n",
       "      <td>hidroxicloroquina</td>\n",
       "      <td>1.224250</td>\n",
       "      <td>1.751953</td>\n",
       "    </tr>\n",
       "    <tr>\n",
       "      <th>13</th>\n",
       "      <td>2020-04-22</td>\n",
       "      <td>cloroquina</td>\n",
       "      <td>1.795606</td>\n",
       "      <td>2.308795</td>\n",
       "    </tr>\n",
       "    <tr>\n",
       "      <th>14</th>\n",
       "      <td>2020-04-23</td>\n",
       "      <td>cloroquina</td>\n",
       "      <td>2.984936</td>\n",
       "      <td>4.231006</td>\n",
       "    </tr>\n",
       "    <tr>\n",
       "      <th>15</th>\n",
       "      <td>2020-04-23</td>\n",
       "      <td>hidroxicloroquina</td>\n",
       "      <td>1.968219</td>\n",
       "      <td>2.961172</td>\n",
       "    </tr>\n",
       "  </tbody>\n",
       "</table>\n",
       "</div>"
      ],
      "text/plain": [
       "          Data            Palavra    Tweets  Retweets\n",
       "0   2020-04-11         cloroquina  4.422231  6.038908\n",
       "1   2020-04-11  hidroxicloroquina  1.338186  1.930332\n",
       "2   2020-04-12         cloroquina  4.958737  6.575014\n",
       "3   2020-04-12  hidroxicloroquina  1.118511  1.494160\n",
       "4   2020-04-13         cloroquina  3.965855  5.204474\n",
       "5   2020-04-13  hidroxicloroquina  1.200703  1.688310\n",
       "6   2020-04-14         cloroquina  4.746076  6.136805\n",
       "7   2020-04-14  hidroxicloroquina  1.831052  2.587804\n",
       "8   2020-04-15  hidroxicloroquina  1.148736  1.583789\n",
       "9   2020-04-15         cloroquina  4.494476  5.754326\n",
       "10  2020-04-16         cloroquina  6.432263  8.755936\n",
       "11  2020-04-16  hidroxicloroquina  1.287079  1.832795\n",
       "12  2020-04-22  hidroxicloroquina  1.224250  1.751953\n",
       "13  2020-04-22         cloroquina  1.795606  2.308795\n",
       "14  2020-04-23         cloroquina  2.984936  4.231006\n",
       "15  2020-04-23  hidroxicloroquina  1.968219  2.961172"
      ]
     },
     "execution_count": 102,
     "metadata": {},
     "output_type": "execute_result"
    }
   ],
   "source": [
    "cont = cont_tweets.copy()\n",
    "cont[\"Retweets\"] = cont_retweets.Ocorrencias\n",
    "cont.rename(columns={'Ocorrencias':'Tweets'},inplace=True)\n",
    "cont = cont.reset_index()\n",
    "cont # Visualizar DataFrame gerado com os valores de retweets e tweets"
   ]
  },
  {
   "cell_type": "markdown",
   "metadata": {},
   "source": [
    "### Reestruturação dos Dados para geração dos Gráficos"
   ]
  },
  {
   "cell_type": "code",
   "execution_count": 103,
   "metadata": {},
   "outputs": [
    {
     "data": {
      "text/plain": [
       "['cloroquina-Tweet',\n",
       " 'cloroquina-Retweet',\n",
       " 'hidroxicloroquina-Tweet',\n",
       " 'hidroxicloroquina-Retweet']"
      ]
     },
     "execution_count": 103,
     "metadata": {},
     "output_type": "execute_result"
    }
   ],
   "source": [
    "index = []\n",
    "for i in cont.Palavra[:2].values:\n",
    "    i_t = i+'-Tweet'\n",
    "    i_r = i+'-Retweet'\n",
    "    index.append(i_t)\n",
    "    index.append(i_r)\n",
    "index"
   ]
  },
  {
   "cell_type": "code",
   "execution_count": 104,
   "metadata": {},
   "outputs": [
    {
     "data": {
      "text/plain": [
       "Tweets      4.422231\n",
       "Retweets    6.038908\n",
       "Name: (2020-04-11, cloroquina), dtype: float64"
      ]
     },
     "execution_count": 104,
     "metadata": {},
     "output_type": "execute_result"
    }
   ],
   "source": [
    "new = pd.DataFrame(index=index,columns=cont.Data[::2].values)\n",
    "df = cont.set_index(['Data','Palavra']).T.copy()\n",
    "df[('2020-04-11', 'cloroquina')]"
   ]
  },
  {
   "cell_type": "code",
   "execution_count": 105,
   "metadata": {},
   "outputs": [
    {
     "data": {
      "text/html": [
       "<div>\n",
       "<style scoped>\n",
       "    .dataframe tbody tr th:only-of-type {\n",
       "        vertical-align: middle;\n",
       "    }\n",
       "\n",
       "    .dataframe tbody tr th {\n",
       "        vertical-align: top;\n",
       "    }\n",
       "\n",
       "    .dataframe thead th {\n",
       "        text-align: right;\n",
       "    }\n",
       "</style>\n",
       "<table border=\"1\" class=\"dataframe\">\n",
       "  <thead>\n",
       "    <tr style=\"text-align: right;\">\n",
       "      <th></th>\n",
       "      <th>2020-04-11</th>\n",
       "      <th>2020-04-12</th>\n",
       "      <th>2020-04-13</th>\n",
       "      <th>2020-04-14</th>\n",
       "      <th>2020-04-15</th>\n",
       "      <th>2020-04-16</th>\n",
       "      <th>2020-04-22</th>\n",
       "      <th>2020-04-23</th>\n",
       "    </tr>\n",
       "  </thead>\n",
       "  <tbody>\n",
       "    <tr>\n",
       "      <th>cloroquina-Tweet</th>\n",
       "      <td>4.42223</td>\n",
       "      <td>4.95874</td>\n",
       "      <td>3.96585</td>\n",
       "      <td>4.74608</td>\n",
       "      <td>4.49448</td>\n",
       "      <td>6.43226</td>\n",
       "      <td>1.79561</td>\n",
       "      <td>2.98494</td>\n",
       "    </tr>\n",
       "    <tr>\n",
       "      <th>cloroquina-Retweet</th>\n",
       "      <td>6.03891</td>\n",
       "      <td>6.57501</td>\n",
       "      <td>5.20447</td>\n",
       "      <td>6.1368</td>\n",
       "      <td>5.75433</td>\n",
       "      <td>8.75594</td>\n",
       "      <td>2.30879</td>\n",
       "      <td>4.23101</td>\n",
       "    </tr>\n",
       "    <tr>\n",
       "      <th>hidroxicloroquina-Tweet</th>\n",
       "      <td>1.33819</td>\n",
       "      <td>1.11851</td>\n",
       "      <td>1.2007</td>\n",
       "      <td>1.83105</td>\n",
       "      <td>1.14874</td>\n",
       "      <td>1.28708</td>\n",
       "      <td>1.22425</td>\n",
       "      <td>1.96822</td>\n",
       "    </tr>\n",
       "    <tr>\n",
       "      <th>hidroxicloroquina-Retweet</th>\n",
       "      <td>1.93033</td>\n",
       "      <td>1.49416</td>\n",
       "      <td>1.68831</td>\n",
       "      <td>2.5878</td>\n",
       "      <td>1.58379</td>\n",
       "      <td>1.8328</td>\n",
       "      <td>1.75195</td>\n",
       "      <td>2.96117</td>\n",
       "    </tr>\n",
       "  </tbody>\n",
       "</table>\n",
       "</div>"
      ],
      "text/plain": [
       "                          2020-04-11 2020-04-12 2020-04-13 2020-04-14  \\\n",
       "cloroquina-Tweet             4.42223    4.95874    3.96585    4.74608   \n",
       "cloroquina-Retweet           6.03891    6.57501    5.20447     6.1368   \n",
       "hidroxicloroquina-Tweet      1.33819    1.11851     1.2007    1.83105   \n",
       "hidroxicloroquina-Retweet    1.93033    1.49416    1.68831     2.5878   \n",
       "\n",
       "                          2020-04-15 2020-04-16 2020-04-22 2020-04-23  \n",
       "cloroquina-Tweet             4.49448    6.43226    1.79561    2.98494  \n",
       "cloroquina-Retweet           5.75433    8.75594    2.30879    4.23101  \n",
       "hidroxicloroquina-Tweet      1.14874    1.28708    1.22425    1.96822  \n",
       "hidroxicloroquina-Retweet    1.58379     1.8328    1.75195    2.96117  "
      ]
     },
     "execution_count": 105,
     "metadata": {},
     "output_type": "execute_result"
    }
   ],
   "source": [
    "for data_palavra in df.columns:\n",
    "    new[data_palavra[0]][data_palavra[1]+'-Tweet'] = df[data_palavra]['Tweets']\n",
    "    new[data_palavra[0]][data_palavra[1]+'-Retweet'] = df[data_palavra]['Retweets']    \n",
    "new # Visualização dos Dados após Reestruturação"
   ]
  },
  {
   "cell_type": "markdown",
   "metadata": {},
   "source": [
    "## Gráficos"
   ]
  },
  {
   "cell_type": "markdown",
   "metadata": {},
   "source": [
    "### Gráfico de pizza da proporção de retweets em tweets"
   ]
  },
  {
   "cell_type": "code",
   "execution_count": 106,
   "metadata": {},
   "outputs": [
    {
     "ename": "NameError",
     "evalue": "name 'rtts' is not defined",
     "output_type": "error",
     "traceback": [
      "\u001b[1;31m---------------------------------------------------------------------------\u001b[0m",
      "\u001b[1;31mNameError\u001b[0m                                 Traceback (most recent call last)",
      "\u001b[1;32m<ipython-input-106-b2066bcf75f5>\u001b[0m in \u001b[0;36m<module>\u001b[1;34m\u001b[0m\n\u001b[1;32m----> 1\u001b[1;33m \u001b[0mproporcao\u001b[0m \u001b[1;33m=\u001b[0m \u001b[0mpd\u001b[0m\u001b[1;33m.\u001b[0m\u001b[0mSeries\u001b[0m\u001b[1;33m(\u001b[0m\u001b[1;33m{\u001b[0m\u001b[1;34m'retweets'\u001b[0m\u001b[1;33m:\u001b[0m\u001b[0mrtts\u001b[0m\u001b[1;33m,\u001b[0m\u001b[1;34m'não retweets'\u001b[0m\u001b[1;33m:\u001b[0m\u001b[0mrtts\u001b[0m\u001b[1;33m/\u001b[0m\u001b[0mprop\u001b[0m\u001b[1;33m-\u001b[0m\u001b[0mrtts\u001b[0m\u001b[1;33m}\u001b[0m\u001b[1;33m,\u001b[0m\u001b[0mname\u001b[0m\u001b[1;33m=\u001b[0m\u001b[1;34m'Tweets'\u001b[0m\u001b[1;33m)\u001b[0m\u001b[1;33m\u001b[0m\u001b[1;33m\u001b[0m\u001b[0m\n\u001b[0m\u001b[0;32m      2\u001b[0m \u001b[0mproporcao\u001b[0m\u001b[1;33m.\u001b[0m\u001b[0mplot\u001b[0m\u001b[1;33m(\u001b[0m\u001b[0mkind\u001b[0m\u001b[1;33m=\u001b[0m\u001b[1;34m'pie'\u001b[0m\u001b[1;33m,\u001b[0m\u001b[0mautopct\u001b[0m\u001b[1;33m=\u001b[0m\u001b[1;34m'%1.1f%%'\u001b[0m\u001b[1;33m,\u001b[0m\u001b[0mstartangle\u001b[0m\u001b[1;33m=\u001b[0m\u001b[1;36m90\u001b[0m\u001b[1;33m,\u001b[0m\u001b[0mlegend\u001b[0m\u001b[1;33m=\u001b[0m\u001b[1;32mFalse\u001b[0m\u001b[1;33m)\u001b[0m\u001b[1;31m#,xticks=[(str(prop*100)+'%'),(str((1-prop)*100)+'%')]\u001b[0m\u001b[1;33m\u001b[0m\u001b[1;33m\u001b[0m\u001b[0m\n",
      "\u001b[1;31mNameError\u001b[0m: name 'rtts' is not defined"
     ]
    }
   ],
   "source": [
    "proporcao = pd.Series({'retweets':rtts,'não retweets':rtts/prop-rtts},name='Tweets')\n",
    "proporcao.plot(kind='pie',autopct='%1.1f%%',startangle=90,legend=False)#,xticks=[(str(prop*100)+'%'),(str((1-prop)*100)+'%')]"
   ]
  },
  {
   "cell_type": "markdown",
   "metadata": {},
   "source": [
    "### Gráfico de pizza da proporção de datas dos tweets no arquivo"
   ]
  },
  {
   "cell_type": "code",
   "execution_count": null,
   "metadata": {},
   "outputs": [],
   "source": [
    "prop_dts = pd.Series(datas,name='Tweets')\n",
    "prop_dts.plot(kind='pie',autopct='%1.1f%%',startangle=50,legend=False)"
   ]
  },
  {
   "cell_type": "markdown",
   "metadata": {},
   "source": [
    "### Gráfico de linhas da ocorrência das palavras no tempo decorrido no arquivo"
   ]
  },
  {
   "cell_type": "code",
   "execution_count": 112,
   "metadata": {},
   "outputs": [
    {
     "data": {
      "image/png": "[encoded data removed]",
      "text/plain": [
       "<Figure size 720x360 with 1 Axes>"
      ]
     },
     "metadata": {
      "needs_background": "light"
     },
     "output_type": "display_data"
    }
   ],
   "source": [
    "grafico_barras = new.T.plot(kind='line', title =\"Ocorrências no arquivo tweet_222_23abr2020.json\",figsize=(10,5),legend=True, fontsize=12)\n",
    "grafico_barras.set_ylabel(\"Ocorrências (%)\",fontsize=16)\n",
    "\n",
    "plt.xticks(rotation=45)\n",
    "\n",
    "plt.legend(frameon=False, loc=0)\n",
    "\n",
    "plt.gca().spines['top'].set_visible(False)\n",
    "plt.gca().spines['right'].set_visible(False)\n",
    "plt.show()\n"
   ]
  },
  {
   "cell_type": "markdown",
   "metadata": {},
   "source": [
    "### Gráfico de barras da ocorrência das palavras no tempo decorrido no arquivo"
   ]
  },
  {
   "cell_type": "code",
   "execution_count": 113,
   "metadata": {},
   "outputs": [
    {
     "data": {
      "image/png": "[encoded data removed]",
      "text/plain": [
       "<Figure size 720x360 with 1 Axes>"
      ]
     },
     "metadata": {
      "needs_background": "light"
     },
     "output_type": "display_data"
    }
   ],
   "source": [
    "grafico_barras = new.T.plot( kind='bar', title =\"Ocorrências no arquivo tweet_222_23abr2020.json\",figsize=(10,5),legend=True, fontsize=12)\n",
    "grafico_barras.set_ylabel(\"Ocorrências (%)\",fontsize=16)\n",
    "\n",
    "plt.xticks(rotation=45)\n",
    "\n",
    "plt.legend(frameon=False, loc=0)\n",
    "\n",
    "plt.gca().spines['top'].set_visible(False)\n",
    "plt.gca().spines['right'].set_visible(False)\n",
    "plt.show()\n"
   ]
  }
 ],
 "metadata": {
  "kernelspec": {
   "display_name": "Python 3",
   "language": "python",
   "name": "python3"
  },
  "language_info": {
   "codemirror_mode": {
    "name": "ipython",
    "version": 3
   },
   "file_extension": ".py",
   "mimetype": "text/x-python",
   "name": "python",
   "nbconvert_exporter": "python",
   "pygments_lexer": "ipython3",
   "version": "3.7.3"
  }
 },
 "nbformat": 4,
 "nbformat_minor": 4
}
