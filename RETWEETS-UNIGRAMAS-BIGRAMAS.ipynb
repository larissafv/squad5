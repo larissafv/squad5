{
 "cells": [
  {
   "cell_type": "code",
   "execution_count": 32,
   "metadata": {},
   "outputs": [],
   "source": [
    "import pandas as pd\n",
    "# ler dados do arquivo seccionados a cada 200 tweets\n",
    "dados = pd.read_json('tweets_222_23abr2020.json',convert_dates=False,lines=True,chunksize=2000)"
   ]
  },
  {
   "cell_type": "code",
   "execution_count": 33,
   "metadata": {},
   "outputs": [
    {
     "name": "stderr",
     "output_type": "stream",
     "text": [
      "C:\\Users\\vicda\\Anaconda3\\lib\\site-packages\\ipykernel_launcher.py:2: DeprecationWarning: The default dtype for empty Series will be 'object' instead of 'float64' in a future version. Specify a dtype explicitly to silence this warning.\n",
      "  \n"
     ]
    },
    {
     "data": {
      "text/plain": [
       "62913"
      ]
     },
     "execution_count": 33,
     "metadata": {},
     "output_type": "execute_result"
    }
   ],
   "source": [
    "# Criar Serie com os retweets dos 20000 primeiros tweets do arquivo\n",
    "retweets = pd.Series(name = 'ID')\n",
    "num = 0\n",
    "for i in dados:\n",
    "    num=num+1\n",
    "    if(num<=50):\n",
    "        retweets=retweets.append(i.dropna(subset=['retweeted_status'])['text'])\n",
    "    else:\n",
    "        break\n",
    "retweets.size# 127121 retweets nos 200000 tweets # 12482 para 20000 # 62913 para 100000"
   ]
  },
  {
   "cell_type": "code",
   "execution_count": 34,
   "metadata": {},
   "outputs": [],
   "source": [
    "#criar Serie com a frequencia dos Bigramas nos tweets\n",
    "freq_bi = pd.Series(dtype=str,name = 'Palavras')\n",
    "num_tweets_bi = pd.Series(dtype=str,name = 'num_tweets')\n",
    "\n",
    "#criar Serie com a frequencia dos unigramas nos tweets\n",
    "freq_uni = pd.Series(dtype=str,name = 'Palavras')\n",
    "num_tweets_uni = pd.Series(dtype=str,name = 'num_tweets')\n",
    "\n",
    "add_uni = []# list para auxiliar na contagem de tweets em que aparece\n",
    "add_bi = []# list para auxiliar na contagem de tweets em que aparece\n",
    "for tweet in retweets.values:\n",
    "    palavras = tweet.split()\n",
    "    palavras = list(filter(('\"').__ne__, palavras))# retitar strings '\"' da lista\n",
    "    palavras = list(filter(('RT').__ne__, palavras))# retitar strings '\"' da lista\n",
    "    num_pal = len(palavras)\n",
    "    add_uni.clear()\n",
    "    add_bi.clear()\n",
    "    for indice in range(0,num_pal-1):\n",
    "        # retirar \",:?!\\n'. das palavras\n",
    "        palavra = palavras[indice].strip('./;:,.?!\"\"<>')\n",
    "        unigrama = palavra\n",
    "        proxima = palavras[indice+1].strip('./;\"\":,.?!<>')\n",
    "        bigrama = palavra + ' ' + proxima\n",
    "        if unigrama in freq_uni:\n",
    "            freq_uni[unigrama] += 1\n",
    "            if unigrama not in add_uni:\n",
    "                num_tweets_uni[unigrama] += 1\n",
    "                add_uni.append(unigrama)\n",
    "        else:\n",
    "            freq_uni[unigrama] = 1\n",
    "            num_tweets_uni[unigrama] = 1\n",
    "            add_uni.append(unigrama)\n",
    "        if bigrama in freq_bi:\n",
    "            freq_bi[bigrama] += 1\n",
    "            if bigrama not in add_bi:\n",
    "                num_tweets_bi[bigrama] += 1\n",
    "                add_bi.append(bigrama)\n",
    "        else:\n",
    "            freq_bi[bigrama] = 1\n",
    "            num_tweets_bi[bigrama] = 1\n",
    "            add_bi.append(bigrama)"
   ]
  },
  {
   "cell_type": "code",
   "execution_count": 35,
   "metadata": {},
   "outputs": [
    {
     "data": {
      "text/plain": [
       "de            24410\n",
       "quarentena    22105\n",
       "a             19833\n",
       "que           16182\n",
       "e             16044\n",
       "o             15465\n",
       "da            13499\n",
       "em            10394\n",
       "do             8980\n",
       "é              7700\n",
       "Name: num_tweets, dtype: int64"
      ]
     },
     "execution_count": 35,
     "metadata": {},
     "output_type": "execute_result"
    }
   ],
   "source": [
    "# 50 unigramas que aparecem no maior numero de tweets nos 127121 retweets\n",
    "num_tweets_uni.sort_values(ascending = False)[:10]"
   ]
  },
  {
   "cell_type": "code",
   "execution_count": 36,
   "metadata": {},
   "outputs": [
    {
     "data": {
      "text/plain": [
       "a quarentena                          4002\n",
       "da quarentena                         3459\n",
       "Minha quarentena                      3158\n",
       "quarentena https://t.co/Bputjo9mS5    3140\n",
       "@Kayzascar Minha                      3140\n",
       "na quarentena                         2942\n",
       "que o                                 2745\n",
       "de quarentena                         2039\n",
       "nessa quarentena                      1819\n",
       "que a                                 1576\n",
       "Name: num_tweets, dtype: int64"
      ]
     },
     "execution_count": 36,
     "metadata": {},
     "output_type": "execute_result"
    }
   ],
   "source": [
    "# 50 bigramas que aparecem no maior numero de tweets nos 127121 retweets\n",
    "num_tweets_bi.sort_values(ascending = False)[:10]"
   ]
  },
  {
   "cell_type": "code",
   "execution_count": 37,
   "metadata": {},
   "outputs": [
    {
     "data": {
      "text/plain": [
       "de            32870\n",
       "a             24596\n",
       "quarentena    22659\n",
       "que           19715\n",
       "e             19319\n",
       "o             19164\n",
       "da            15124\n",
       "em            11265\n",
       "do             9754\n",
       "é              8349\n",
       "Name: Palavras, dtype: int64"
      ]
     },
     "execution_count": 37,
     "metadata": {},
     "output_type": "execute_result"
    }
   ],
   "source": [
    "# 50 unigramas mais ocorrentes nos tweets\n",
    "freq_uni.sort_values(ascending = False)[:10]"
   ]
  },
  {
   "cell_type": "code",
   "execution_count": 38,
   "metadata": {
    "scrolled": true
   },
   "outputs": [
    {
     "data": {
      "text/plain": [
       "a quarentena                          4039\n",
       "da quarentena                         3518\n",
       "na quarentena                         3349\n",
       "Minha quarentena                      3158\n",
       "@Kayzascar Minha                      3140\n",
       "quarentena https://t.co/Bputjo9mS5    3140\n",
       "que o                                 2756\n",
       "de quarentena                         2039\n",
       "nessa quarentena                      1819\n",
       "que a                                 1580\n",
       "Name: Palavras, dtype: int64"
      ]
     },
     "execution_count": 38,
     "metadata": {},
     "output_type": "execute_result"
    }
   ],
   "source": [
    "# 50 bigramas mais ocorrentes nos tweets\n",
    "freq_bi.sort_values(ascending = False)[:10]"
   ]
  },
  {
   "cell_type": "code",
   "execution_count": 41,
   "metadata": {},
   "outputs": [],
   "source": [
    "freq_uni.to_csv('num_ocorrencia_unigramas.csv',sep=';')\n",
    "num_tweets_uni.to_csv('num_tweets_unigrama_apararece.csv',sep=';')\n",
    "freq_bi.to_csv('num_ocorrencia_bigramas.csv',sep=';')\n",
    "num_tweets_bi.to_csv('num_tweets_bigrama_apararece.csv',sep=';')"
   ]
  }
 ],
 "metadata": {
  "kernelspec": {
   "display_name": "Python 3",
   "language": "python",
   "name": "python3"
  },
  "language_info": {
   "codemirror_mode": {
    "name": "ipython",
    "version": 3
   },
   "file_extension": ".py",
   "mimetype": "text/x-python",
   "name": "python",
   "nbconvert_exporter": "python",
   "pygments_lexer": "ipython3",
   "version": "3.7.3"
  }
 },
 "nbformat": 4,
 "nbformat_minor": 4
}
