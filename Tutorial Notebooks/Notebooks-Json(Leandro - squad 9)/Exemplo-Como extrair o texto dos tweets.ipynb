{
 "cells": [
  {
   "cell_type": "code",
   "execution_count": null,
   "metadata": {},
   "outputs": [],
   "source": [
    "import json\n",
    "\n",
    "# O arquivo tweet2 contém os dois primeiros tweets do arquivo reduzido2.json\n",
    "\n",
    "tweet_file = open(\"tweet2.json\",\"r\") # Abra o arquivo tweet2.json em modo de leitura e\n",
    "                                    # armazene seu conteúdo na variavel tweet_file\n",
    "\n",
    "tweet_file"
   ]
  },
  {
   "cell_type": "code",
   "execution_count": null,
   "metadata": {},
   "outputs": [],
   "source": [
    "conteudo = json.load(tweet_file) # Armazene o que esta escrito em tweet2.json na variavel conteudo\n",
    "conteudo # A saída será os dois tweets contidos em tweet2.json"
   ]
  },
  {
   "cell_type": "code",
   "execution_count": null,
   "metadata": {},
   "outputs": [],
   "source": [
    "# A variavel conteudo funciona como uma matriz de tweets de dimensões 1xi, em que i é o número de tweets do arquivo json.\n",
    "# conteudo[i] são as informações referentes ao i-ésimo tweet.\n",
    "\n",
    "conteudo[0] # Por exemplo, a saída nesse caso será o conteudo do primeiro tweet."
   ]
  },
  {
   "cell_type": "code",
   "execution_count": null,
   "metadata": {},
   "outputs": [],
   "source": [
    "conteudo[1] # Já aqui a saída será o conteúdo do segundo tweet."
   ]
  },
  {
   "cell_type": "code",
   "execution_count": null,
   "metadata": {},
   "outputs": [],
   "source": [
    "# Analisando os tweets você verá que cada um deles é, na verdade, uma matriz ou array com vários objetos que armazenam\n",
    "# informações referentes ao tweet, desde 'id','url' até aquilo que desejamos - o campo 'text'.\n",
    "\n",
    "# conteudo[i]['text'] Com esse comando selecionamos o texto do i-ésimo tweet armazenado no json utilizado.\n",
    "\n",
    "print(\"Texto do primeiro tweet :\\n\",conteudo[0]['text'])\n",
    "print(\"-----------------------------------------------------------------------------------------------------------------------\")\n",
    "print(\"Texto do segundo tweet:\\n\",conteudo[1]['text'])"
   ]
  },
  {
   "cell_type": "code",
   "execution_count": null,
   "metadata": {},
   "outputs": [],
   "source": [
    "# Agora que sabemos como selecionar os textos de cada tweet podemos armazenar todos os tweets presentes no arquivo \n",
    "# em um array de strings.\n",
    "\n",
    "textos = [] # Criamos o array\n",
    "\n",
    "# Nesse casos sabemos que o arquivo json só tem 2 tweets. Porém podemos utilizar o seguinte comando para descobrir o \n",
    "# número de tweets presentes no arquivo\n",
    "\n",
    "num_tweets = len(conteudo) # nesse caso num_tweets = 2\n",
    "\n",
    "for i in range (num_tweets):\n",
    "    textos.append(conteudo[i]['text'])\n",
    "    \n",
    "# Agora o array textos tem todos os textos de cada tweet da fonte de dados. "
   ]
  },
  {
   "cell_type": "code",
   "execution_count": null,
   "metadata": {},
   "outputs": [],
   "source": [
    "print(textos)"
   ]
  },
  {
   "cell_type": "code",
   "execution_count": null,
   "metadata": {},
   "outputs": [],
   "source": []
  }
 ],
 "metadata": {
  "kernelspec": {
   "display_name": "Python 3",
   "language": "python",
   "name": "python3"
  },
  "language_info": {
   "codemirror_mode": {
    "name": "ipython",
    "version": 3
   },
   "file_extension": ".py",
   "mimetype": "text/x-python",
   "name": "python",
   "nbconvert_exporter": "python",
   "pygments_lexer": "ipython3",
   "version": "3.7.3"
  }
 },
 "nbformat": 4,
 "nbformat_minor": 2
}
