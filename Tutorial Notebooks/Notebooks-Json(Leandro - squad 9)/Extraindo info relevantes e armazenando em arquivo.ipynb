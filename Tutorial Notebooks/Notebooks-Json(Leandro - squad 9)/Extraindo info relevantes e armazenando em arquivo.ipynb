{
 "cells": [
  {
   "cell_type": "code",
   "execution_count": null,
   "metadata": {},
   "outputs": [],
   "source": [
    "import json\n",
    "\n",
    "# Abrindo o arquivo json e armazenando seu conteudo em uma variavel\n",
    "tweet_file = open(\"reduzido5(5k).json\")\n",
    "\n",
    "content = json.load(tweet_file)"
   ]
  },
  {
   "cell_type": "code",
   "execution_count": null,
   "metadata": {},
   "outputs": [],
   "source": [
    "# Calculando o numero de tweets\n",
    "\n",
    "num_tweets = len(content)\n",
    "num_tweets"
   ]
  },
  {
   "cell_type": "code",
   "execution_count": null,
   "metadata": {},
   "outputs": [],
   "source": [
    "# Criando um array para armazenar o conteudo relevante de cada tweet\n",
    "\n",
    "textos = []\n",
    "\n",
    "for i in range(num_tweets):\n",
    "    textos.append(content[i]['created_at']['$date']+\"<END>\"+content[i]['user']['screen_name']+\"<END>\"+content[i]['text'])\n",
    "\n",
    "# content[i]['created_at']['$date'] me da a data do i-ésimo tweet\n",
    "# content[i]['user']['screen_name'] me da o nome do usuário do i-ésimo tweet"
   ]
  },
  {
   "cell_type": "code",
   "execution_count": null,
   "metadata": {},
   "outputs": [],
   "source": [
    "# Caso exemplo - abaixo temos as informações relevantes, sendo cada campo (data,nome de usuario, texto) \n",
    "# separado por um delimitador qualquer - no caso do codigo acima usei o delimitador <END>\n",
    "\n",
    "textos[0]"
   ]
  },
  {
   "cell_type": "code",
   "execution_count": null,
   "metadata": {},
   "outputs": [],
   "source": [
    "textos[1]"
   ]
  },
  {
   "cell_type": "code",
   "execution_count": null,
   "metadata": {},
   "outputs": [],
   "source": [
    "# Colocando as informações relevantes num arquivo\n",
    "\n",
    "with open('teste.txt', 'w') as fp:\n",
    "    json.dump(textos, fp)"
   ]
  },
  {
   "cell_type": "code",
   "execution_count": null,
   "metadata": {},
   "outputs": [],
   "source": []
  }
 ],
 "metadata": {
  "kernelspec": {
   "display_name": "Python 3",
   "language": "python",
   "name": "python3"
  },
  "language_info": {
   "codemirror_mode": {
    "name": "ipython",
    "version": 3
   },
   "file_extension": ".py",
   "mimetype": "text/x-python",
   "name": "python",
   "nbconvert_exporter": "python",
   "pygments_lexer": "ipython3",
   "version": "3.7.3"
  }
 },
 "nbformat": 4,
 "nbformat_minor": 2
}
