{
 "cells": [
  {
   "cell_type": "markdown",
   "metadata": {},
   "source": [
    "# Identificando frequência das palavras-chave"
   ]
  },
  {
   "cell_type": "code",
   "execution_count": 2,
   "metadata": {},
   "outputs": [],
   "source": [
    "# Imports\n",
    "import pandas as pd\n",
    "import datetime\n",
    "import matplotlib.pyplot as plt\n",
    "from IPython.display import clear_output\n",
    "import nltk\n",
    "import re\n",
    "from collections import defaultdict, Counter\n",
    "from string import punctuation\n",
    "\n",
    "#stopwords em portugues\n",
    "from nltk.corpus import stopwords\n",
    "stopwords = set(stopwords.words('portuguese') + list(punctuation) + ['“','”'])\n",
    "\n",
    "#funçao pra limpeza de texto\n",
    "from nltk.tokenize import TweetTokenizer\n",
    "tweet_tokenizer = TweetTokenizer(strip_handles=True, reduce_len=True, preserve_case=False)"
   ]
  },
  {
   "cell_type": "markdown",
   "metadata": {},
   "source": [
    "#### Lendo CSV e limpando colunas"
   ]
  },
  {
   "cell_type": "code",
   "execution_count": 3,
   "metadata": {},
   "outputs": [],
   "source": [
    "tweetsDF = pd.read_csv('tweets.csv')"
   ]
  },
  {
   "cell_type": "code",
   "execution_count": 4,
   "metadata": {},
   "outputs": [],
   "source": [
    "tweetsDF = tweetsDF[['text', 'day']]"
   ]
  },
  {
   "cell_type": "code",
   "execution_count": 5,
   "metadata": {},
   "outputs": [],
   "source": [
    "tweetsDF.to_csv('clean.csv', index=True, sep = ';')"
   ]
  },
  {
   "cell_type": "code",
   "execution_count": 6,
   "metadata": {},
   "outputs": [],
   "source": [
    "tweets = tweetsDF"
   ]
  },
  {
   "cell_type": "markdown",
   "metadata": {},
   "source": [
    "#### Função para tokenizar strings"
   ]
  },
  {
   "cell_type": "code",
   "execution_count": 7,
   "metadata": {},
   "outputs": [],
   "source": [
    "# funçao pra limpar texto e retirar stopwords\n",
    "def tokenizar_texto(texto_tweet):\n",
    "    texto_tokenizado = tweet_tokenizer.tokenize(texto_tweet)\n",
    "\n",
    "    if texto_tokenizado[0] == \"rt\" and texto_tokenizado[1] == \":\":\n",
    "        del texto_tokenizado[0]\n",
    "    \n",
    "    palavras_sem_stopwords = [palavra for palavra in texto_tokenizado if palavra not in stopwords] \n",
    "    return palavras_sem_stopwords"
   ]
  },
  {
   "cell_type": "markdown",
   "metadata": {},
   "source": [
    "#### Tokenizando a coluna 'text'"
   ]
  },
  {
   "cell_type": "code",
   "execution_count": 8,
   "metadata": {},
   "outputs": [],
   "source": [
    "tweets['text'] = tweets['text'].apply(lambda x: tokenizar_texto(x))"
   ]
  },
  {
   "cell_type": "code",
   "execution_count": 9,
   "metadata": {},
   "outputs": [],
   "source": [
    "tweets = tweets.groupby('day').sum()"
   ]
  },
  {
   "cell_type": "code",
   "execution_count": 10,
   "metadata": {},
   "outputs": [
    {
     "data": {
      "text/html": [
       "<div>\n",
       "<style scoped>\n",
       "    .dataframe tbody tr th:only-of-type {\n",
       "        vertical-align: middle;\n",
       "    }\n",
       "\n",
       "    .dataframe tbody tr th {\n",
       "        vertical-align: top;\n",
       "    }\n",
       "\n",
       "    .dataframe thead th {\n",
       "        text-align: right;\n",
       "    }\n",
       "</style>\n",
       "<table border=\"1\" class=\"dataframe\">\n",
       "  <thead>\n",
       "    <tr style=\"text-align: right;\">\n",
       "      <th></th>\n",
       "      <th>text</th>\n",
       "    </tr>\n",
       "    <tr>\n",
       "      <th>day</th>\n",
       "      <th></th>\n",
       "    </tr>\n",
       "  </thead>\n",
       "  <tbody>\n",
       "    <tr>\n",
       "      <th>2020-07-14</th>\n",
       "      <td>[foto, 1, pedro, rico, investiu, tráfico, anim...</td>\n",
       "    </tr>\n",
       "  </tbody>\n",
       "</table>\n",
       "</div>"
      ],
      "text/plain": [
       "                                                         text\n",
       "day                                                          \n",
       "2020-07-14  [foto, 1, pedro, rico, investiu, tráfico, anim..."
      ]
     },
     "execution_count": 10,
     "metadata": {},
     "output_type": "execute_result"
    }
   ],
   "source": [
    "tweets.head()"
   ]
  },
  {
   "cell_type": "markdown",
   "metadata": {},
   "source": [
    "#### Contando frequências na coluna tokenizada"
   ]
  },
  {
   "cell_type": "code",
   "execution_count": 11,
   "metadata": {},
   "outputs": [],
   "source": [
    "freq = Counter(tweets['text'][0]) # Lista do primeiro dia."
   ]
  },
  {
   "cell_type": "code",
   "execution_count": 12,
   "metadata": {},
   "outputs": [],
   "source": [
    "word_freq = pd.DataFrame.from_dict(freq, orient='index')"
   ]
  },
  {
   "cell_type": "code",
   "execution_count": 13,
   "metadata": {},
   "outputs": [],
   "source": [
    "word_freq['freq'] = word_freq[0] # Renomeando coluna \"0\"\n",
    "word_freq = word_freq['freq']"
   ]
  },
  {
   "cell_type": "markdown",
   "metadata": {},
   "source": [
    "### Removendo palavras indesejadas"
   ]
  },
  {
   "cell_type": "code",
   "execution_count": 14,
   "metadata": {},
   "outputs": [],
   "source": [
    "undesired_words = ['…', '...', 'q', 'pra', '1']\n",
    "undesired_starts = ['http']"
   ]
  },
  {
   "cell_type": "code",
   "execution_count": 15,
   "metadata": {},
   "outputs": [],
   "source": [
    "length = len(word_freq) # Isso precisa ser definido fora do for, uma vez que, dentro dele, word_freq muda de tamanho"
   ]
  },
  {
   "cell_type": "code",
   "execution_count": 16,
   "metadata": {},
   "outputs": [],
   "source": [
    "for i in range(length):\n",
    "    if i < len(word_freq):\n",
    "        if word_freq.index[i] in undesired_words or word_freq.index[i].startswith(tuple(undesired_starts)): # O método startswith não aceita listas, apenas strings e tuples.\n",
    "            word_freq = word_freq.drop(word_freq.index[i])\n",
    "    else:\n",
    "        break"
   ]
  },
  {
   "cell_type": "code",
   "execution_count": 17,
   "metadata": {},
   "outputs": [
    {
     "data": {
      "text/plain": [
       "foto                                           114\n",
       "pedro                                           38\n",
       "rico                                            27\n",
       "investiu                                        37\n",
       "tráfico                                         16\n",
       "                                              ... \n",
       "ligaria                                          1\n",
       "oximetro                                         1\n",
       "http://a.msn.com/01/pt-br/BB16IJaC?ocid=st2      1\n",
       "opep                                             1\n",
       "produtores                                       1\n",
       "Name: freq, Length: 42712, dtype: int64"
      ]
     },
     "execution_count": 17,
     "metadata": {},
     "output_type": "execute_result"
    }
   ],
   "source": [
    "word_freq"
   ]
  },
  {
   "cell_type": "markdown",
   "metadata": {},
   "source": [
    "#### Lista com as cinco palavras mais frequentes"
   ]
  },
  {
   "cell_type": "code",
   "execution_count": 18,
   "metadata": {},
   "outputs": [],
   "source": [
    "top5 = word_freq.index[:5].tolist()"
   ]
  },
  {
   "cell_type": "code",
   "execution_count": 19,
   "metadata": {},
   "outputs": [
    {
     "data": {
      "text/plain": [
       "['foto', 'pedro', 'rico', 'investiu', 'tráfico']"
      ]
     },
     "execution_count": 19,
     "metadata": {},
     "output_type": "execute_result"
    }
   ],
   "source": [
    "top5"
   ]
  },
  {
   "cell_type": "markdown",
   "metadata": {},
   "source": [
    "### Fazendo a tarefa acima para cada dia:"
   ]
  },
  {
   "cell_type": "code",
   "execution_count": 20,
   "metadata": {},
   "outputs": [],
   "source": [
    "days = tweets.index.tolist()"
   ]
  },
  {
   "cell_type": "code",
   "execution_count": 11,
   "metadata": {},
   "outputs": [],
   "source": [
    "freq = Counter(tweets['text'][0]) # Lista do primeiro dia."
   ]
  },
  {
   "cell_type": "code",
   "execution_count": 12,
   "metadata": {},
   "outputs": [],
   "source": [
    "word_freq = pd.DataFrame.from_dict(freq, orient='index')"
   ]
  },
  {
   "cell_type": "code",
   "execution_count": 13,
   "metadata": {},
   "outputs": [],
   "source": [
    "word_freq['freq'] = word_freq[0] # Renomeando coluna \"0\"\n",
    "word_freq = word_freq['freq']"
   ]
  },
  {
   "cell_type": "code",
   "execution_count": 28,
   "metadata": {},
   "outputs": [
    {
     "data": {
      "image/png": "[encoded data removed]",
      "text/plain": [
       "<Figure size 432x288 with 1 Axes>"
      ]
     },
     "metadata": {
      "needs_background": "light"
     },
     "output_type": "display_data"
    }
   ],
   "source": [
    "for day in range(len(days)): # Iterando pelas linhas do DataFrame agrupado em dias.\n",
    "    freq = Counter(tweets['text'][day])\n",
    "    word_freq = pd.DataFrame.from_dict(freq, orient='index')\n",
    "    word_freq['freq'] = word_freq[0] # Renomeando coluna \"0\"\n",
    "    word_freq = word_freq['freq']\n",
    "    \n",
    "    length = len(word_freq) # Isso precisa ser definido fora do for, uma vez que, dentro dele, word_freq muda de tamanho\n",
    "    for i in range(length): # Iterando pelo DataFrame com a frequência de palavras para remover as indesejadas.\n",
    "        if i < len(word_freq):\n",
    "            if word_freq.index[i] in undesired_words or word_freq.index[i].startswith(tuple(undesired_starts)): # O método startswith não aceita listas, apenas strings e tuples.\n",
    "                word_freq = word_freq.drop(word_freq.index[i])\n",
    "        else:\n",
    "            break\n",
    "            \n",
    "    top5 = word_freq.index[:5].tolist()\n",
    "    freq_top5 = word_freq[:5].tolist()\n",
    "    \n",
    "    plt.barh(top5, freq_top5, color=(129/255, 203/255, 223/255, 1))\n",
    "    plt.title('Frequência das palavras-chave no dia ' + days[day])\n",
    "    plt.xlabel('Frequência')\n",
    "    plt.ylabel('Palavra')\n",
    "    plt.show()"
   ]
  },
  {
   "cell_type": "markdown",
   "metadata": {},
   "source": [
    "# Avaliando frequência das palavras-chave escolhidas em cada dia"
   ]
  },
  {
   "cell_type": "code",
   "execution_count": 68,
   "metadata": {},
   "outputs": [],
   "source": [
    "days = tweets.index.tolist()"
   ]
  },
  {
   "cell_type": "code",
   "execution_count": 69,
   "metadata": {},
   "outputs": [
    {
     "data": {
      "image/png": "[encoded data removed]",
      "text/plain": [
       "<Figure size 432x288 with 1 Axes>"
      ]
     },
     "metadata": {
      "needs_background": "light"
     },
     "output_type": "display_data"
    }
   ],
   "source": [
    "for day in days:\n",
    "    keywords = ['corona', 'covid', 'coronavirus', 'covid19', 'covid-19', 'sars', 'coronavírus'] # Lista de palavras chave\n",
    "    i = days.index(day)\n",
    "    frequency = Counter(tweets['text'][i])\n",
    "    frequency = {k: v for k, v in frequency.items() if k in keywords}\n",
    "    frequency['coronavirus'] += frequency.get('coronavírus')\n",
    "    del frequency['coronavírus']\n",
    "    \n",
    "    frequency = pd.DataFrame.from_dict(frequency, orient='index')\n",
    "    \n",
    "    frequency['freq'] = frequency[0]\n",
    "    frequency = frequency.drop(columns = 0)\n",
    "    frequency = frequency.sort_values(by='freq', ascending = False)\n",
    "    \n",
    "    top5 = frequency.index[:5].tolist() # Lista com as 10 palavras mais frequentes\n",
    "    freq_top5 = frequency['freq'][:5].tolist() # Lista com a frequência dessas palavras\n",
    "    \n",
    "    # Plotando o gráfico\n",
    "    plt.barh(top5, freq_top5, color=(129/255, 203/255, 223/255, 1))\n",
    "    plt.title('Frequência das palavras-chave no dia ' + day)\n",
    "    plt.xlabel('Frequência')\n",
    "    plt.ylabel('Palavra')\n",
    "    plt.show()"
   ]
  },
  {
   "cell_type": "code",
   "execution_count": 70,
   "metadata": {},
   "outputs": [
    {
     "data": {
      "text/html": [
       "<div>\n",
       "<style scoped>\n",
       "    .dataframe tbody tr th:only-of-type {\n",
       "        vertical-align: middle;\n",
       "    }\n",
       "\n",
       "    .dataframe tbody tr th {\n",
       "        vertical-align: top;\n",
       "    }\n",
       "\n",
       "    .dataframe thead th {\n",
       "        text-align: right;\n",
       "    }\n",
       "</style>\n",
       "<table border=\"1\" class=\"dataframe\">\n",
       "  <thead>\n",
       "    <tr style=\"text-align: right;\">\n",
       "      <th></th>\n",
       "      <th>text</th>\n",
       "    </tr>\n",
       "    <tr>\n",
       "      <th>day</th>\n",
       "      <th></th>\n",
       "    </tr>\n",
       "  </thead>\n",
       "  <tbody>\n",
       "    <tr>\n",
       "      <th>2020-07-14</th>\n",
       "      <td>[foto, 1, pedro, rico, investiu, tráfico, anim...</td>\n",
       "    </tr>\n",
       "  </tbody>\n",
       "</table>\n",
       "</div>"
      ],
      "text/plain": [
       "                                                         text\n",
       "day                                                          \n",
       "2020-07-14  [foto, 1, pedro, rico, investiu, tráfico, anim..."
      ]
     },
     "execution_count": 70,
     "metadata": {},
     "output_type": "execute_result"
    }
   ],
   "source": [
    "tweets.head()"
   ]
  },
  {
   "cell_type": "code",
   "execution_count": 71,
   "metadata": {},
   "outputs": [],
   "source": [
    "def frequency(wordlist):\n",
    "    wordlist = Counter(wordlist)\n",
    "    wordlist = {k: v for k, v in wordlist.items() if k in keywords}\n",
    "    wordlist['coronavirus'] += wordlist.get('coronavírus')\n",
    "    del wordlist['coronavírus']\n",
    "    \n",
    "    return wordlist"
   ]
  },
  {
   "cell_type": "code",
   "execution_count": 72,
   "metadata": {},
   "outputs": [],
   "source": [
    "tweets['text'] = tweets['text'].apply(lambda x: frequency(x))"
   ]
  },
  {
   "cell_type": "code",
   "execution_count": 73,
   "metadata": {},
   "outputs": [
    {
     "data": {
      "text/html": [
       "<div>\n",
       "<style scoped>\n",
       "    .dataframe tbody tr th:only-of-type {\n",
       "        vertical-align: middle;\n",
       "    }\n",
       "\n",
       "    .dataframe tbody tr th {\n",
       "        vertical-align: top;\n",
       "    }\n",
       "\n",
       "    .dataframe thead th {\n",
       "        text-align: right;\n",
       "    }\n",
       "</style>\n",
       "<table border=\"1\" class=\"dataframe\">\n",
       "  <thead>\n",
       "    <tr style=\"text-align: right;\">\n",
       "      <th></th>\n",
       "      <th>text</th>\n",
       "    </tr>\n",
       "    <tr>\n",
       "      <th>day</th>\n",
       "      <th></th>\n",
       "    </tr>\n",
       "  </thead>\n",
       "  <tbody>\n",
       "    <tr>\n",
       "      <th>2020-07-14</th>\n",
       "      <td>{'covid': 30254, 'corona': 128, 'coronavirus':...</td>\n",
       "    </tr>\n",
       "  </tbody>\n",
       "</table>\n",
       "</div>"
      ],
      "text/plain": [
       "                                                         text\n",
       "day                                                          \n",
       "2020-07-14  {'covid': 30254, 'corona': 128, 'coronavirus':..."
      ]
     },
     "execution_count": 73,
     "metadata": {},
     "output_type": "execute_result"
    }
   ],
   "source": [
    "tweets.head()"
   ]
  },
  {
   "cell_type": "code",
   "execution_count": 74,
   "metadata": {},
   "outputs": [
    {
     "name": "stdout",
     "output_type": "stream",
     "text": [
      "covid\n",
      "corona\n",
      "coronavirus\n",
      "sars\n"
     ]
    }
   ],
   "source": [
    "for i in range(len(tweets)):\n",
    "    lista = []\n",
    "    for key in tweets['text'][i]:\n",
    "        if key not in lista:\n",
    "            print(key)\n",
    "            lista.append(key)\n",
    "            tweets[key] = 0\n",
    "    "
   ]
  },
  {
   "cell_type": "code",
   "execution_count": 75,
   "metadata": {},
   "outputs": [
    {
     "data": {
      "text/html": [
       "<div>\n",
       "<style scoped>\n",
       "    .dataframe tbody tr th:only-of-type {\n",
       "        vertical-align: middle;\n",
       "    }\n",
       "\n",
       "    .dataframe tbody tr th {\n",
       "        vertical-align: top;\n",
       "    }\n",
       "\n",
       "    .dataframe thead th {\n",
       "        text-align: right;\n",
       "    }\n",
       "</style>\n",
       "<table border=\"1\" class=\"dataframe\">\n",
       "  <thead>\n",
       "    <tr style=\"text-align: right;\">\n",
       "      <th></th>\n",
       "      <th>text</th>\n",
       "      <th>covid</th>\n",
       "      <th>corona</th>\n",
       "      <th>coronavirus</th>\n",
       "      <th>sars</th>\n",
       "    </tr>\n",
       "    <tr>\n",
       "      <th>day</th>\n",
       "      <th></th>\n",
       "      <th></th>\n",
       "      <th></th>\n",
       "      <th></th>\n",
       "      <th></th>\n",
       "    </tr>\n",
       "  </thead>\n",
       "  <tbody>\n",
       "    <tr>\n",
       "      <th>2020-07-14</th>\n",
       "      <td>{'covid': 30254, 'corona': 128, 'coronavirus':...</td>\n",
       "      <td>0</td>\n",
       "      <td>0</td>\n",
       "      <td>0</td>\n",
       "      <td>0</td>\n",
       "    </tr>\n",
       "  </tbody>\n",
       "</table>\n",
       "</div>"
      ],
      "text/plain": [
       "                                                         text  covid  corona  \\\n",
       "day                                                                            \n",
       "2020-07-14  {'covid': 30254, 'corona': 128, 'coronavirus':...      0       0   \n",
       "\n",
       "            coronavirus  sars  \n",
       "day                            \n",
       "2020-07-14            0     0  "
      ]
     },
     "execution_count": 75,
     "metadata": {},
     "output_type": "execute_result"
    }
   ],
   "source": [
    "tweets.head()"
   ]
  },
  {
   "cell_type": "code",
   "execution_count": 76,
   "metadata": {},
   "outputs": [
    {
     "name": "stderr",
     "output_type": "stream",
     "text": [
      "<ipython-input-76-406fd4c06bb3>:4: SettingWithCopyWarning: \n",
      "A value is trying to be set on a copy of a slice from a DataFrame\n",
      "\n",
      "See the caveats in the documentation: https://pandas.pydata.org/pandas-docs/stable/user_guide/indexing.html#returning-a-view-versus-a-copy\n",
      "  tweets[key][i] = tweets['text'][i][key]\n"
     ]
    }
   ],
   "source": [
    "for column in tweets.columns:\n",
    "    for i in range(len(tweets)):\n",
    "        for key in tweets['text'][i]:\n",
    "            tweets[key][i] = tweets['text'][i][key]"
   ]
  },
  {
   "cell_type": "code",
   "execution_count": 77,
   "metadata": {},
   "outputs": [],
   "source": [
    "tweets = tweets.drop(columns='text')"
   ]
  },
  {
   "cell_type": "code",
   "execution_count": 78,
   "metadata": {},
   "outputs": [
    {
     "data": {
      "text/html": [
       "<div>\n",
       "<style scoped>\n",
       "    .dataframe tbody tr th:only-of-type {\n",
       "        vertical-align: middle;\n",
       "    }\n",
       "\n",
       "    .dataframe tbody tr th {\n",
       "        vertical-align: top;\n",
       "    }\n",
       "\n",
       "    .dataframe thead th {\n",
       "        text-align: right;\n",
       "    }\n",
       "</style>\n",
       "<table border=\"1\" class=\"dataframe\">\n",
       "  <thead>\n",
       "    <tr style=\"text-align: right;\">\n",
       "      <th></th>\n",
       "      <th>covid</th>\n",
       "      <th>corona</th>\n",
       "      <th>coronavirus</th>\n",
       "      <th>sars</th>\n",
       "    </tr>\n",
       "    <tr>\n",
       "      <th>day</th>\n",
       "      <th></th>\n",
       "      <th></th>\n",
       "      <th></th>\n",
       "      <th></th>\n",
       "    </tr>\n",
       "  </thead>\n",
       "  <tbody>\n",
       "    <tr>\n",
       "      <th>2020-07-14</th>\n",
       "      <td>30254</td>\n",
       "      <td>128</td>\n",
       "      <td>490</td>\n",
       "      <td>13</td>\n",
       "    </tr>\n",
       "  </tbody>\n",
       "</table>\n",
       "</div>"
      ],
      "text/plain": [
       "            covid  corona  coronavirus  sars\n",
       "day                                         \n",
       "2020-07-14  30254     128          490    13"
      ]
     },
     "execution_count": 78,
     "metadata": {},
     "output_type": "execute_result"
    }
   ],
   "source": [
    "tweets.head()"
   ]
  },
  {
   "cell_type": "code",
   "execution_count": 79,
   "metadata": {},
   "outputs": [],
   "source": [
    "tweets.to_csv('frequency.csv', sep=';')"
   ]
  },
  {
   "cell_type": "code",
   "execution_count": null,
   "metadata": {},
   "outputs": [],
   "source": []
  }
 ],
 "metadata": {
  "kernelspec": {
   "display_name": "Python 3",
   "language": "python",
   "name": "python3"
  },
  "language_info": {
   "codemirror_mode": {
    "name": "ipython",
    "version": 3
   },
   "file_extension": ".py",
   "mimetype": "text/x-python",
   "name": "python",
   "nbconvert_exporter": "python",
   "pygments_lexer": "ipython3",
   "version": "3.8.3"
  }
 },
 "nbformat": 4,
 "nbformat_minor": 4
}
