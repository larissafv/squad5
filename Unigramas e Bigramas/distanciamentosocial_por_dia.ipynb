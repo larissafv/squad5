{
 "cells": [
  {
   "cell_type": "markdown",
   "metadata": {},
   "source": [
    "# CSV 4 - número de repetições do termo \"distanciamento social\" por dia"
   ]
  },
  {
   "cell_type": "markdown",
   "metadata": {},
   "source": [
    "### Importações necessárias"
   ]
  },
  {
   "cell_type": "code",
   "execution_count": 12,
   "metadata": {},
   "outputs": [],
   "source": [
    "#--------------------------------------------------------------------------\n",
    "\n",
    "#para a função json_to_dataframe\n",
    "import nltk\n",
    "import pandas as pd\n",
    "from IPython.display import clear_output\n",
    "\n",
    "#--------------------------------------------------------------------------\n",
    "\n",
    "#para a função contagem_bigramas_data\n",
    "from collections import defaultdict\n",
    "\n",
    "#--------------------------------------------------------------------------\n",
    "\n",
    "#para a função tokenizar_texto\n",
    "from string import punctuation\n",
    "\n",
    "from nltk.corpus import stopwords #-----> talvez seja necessário baixar as stopwords com o comando no CMD: python -m nltk.downloader stopwords\n",
    "stopwords = set(stopwords.words('portuguese') + list(punctuation) + ['“','”', '…']) #definição das stopwords (inclui pontuação para eliminá-la, caso apareça)\n",
    "\n",
    "from nltk.tokenize import TweetTokenizer\n",
    "tweet_tokenizer = TweetTokenizer(strip_handles=True, reduce_len=True, preserve_case=False)\n",
    "\n",
    "import re\n",
    "\n",
    "#--------------------------------------------------------------------------\n"
   ]
  },
  {
   "cell_type": "markdown",
   "metadata": {},
   "source": [
    "### Função que lê um json e retorna um dataframe reduzido\n",
    "##### OBS: o arquivo json é lido por pedaços, que são conjuntos delimitados de linhas (devem ser passados no parâmetro \"chunk\")"
   ]
  },
  {
   "cell_type": "code",
   "execution_count": 13,
   "metadata": {},
   "outputs": [],
   "source": [
    "### É preciso passar como parâmetro o nome do arquivo Json, o tamanho do chunk e uma lista com o nome das colunas que se quer obter\n",
    "def json_to_dataframe(nome_json, colunas, chunk):\n",
    "    \n",
    "    contador = 0\n",
    "    dados = pd.read_json(nome_json, convert_dates= False, lines=True, chunksize=chunk)\n",
    "    pd.set_option(\"display.max_colwidth\", 100000) #Não deixa trazer visualizações de dataframe truncadas (não interfere no resultado)\n",
    "    \n",
    "    \n",
    "    for df_tweets_retweets in dados: ##->> Acessa os dados dos tweets e retweets de um chunk, gerando um dataframe do tamanho do chunk.                         \n",
    "        \n",
    "        #contador += 1\n",
    "        #print(\"%s chunks processados...\" %(str(contador))) ## Mostra o número de tweets processados a cada chunk que passa\n",
    "\n",
    "        \n",
    "        yield df_tweets_retweets[colunas] ##cria um generator, que continua retornando dataframes enquanto o loop existir\n",
    "    "
   ]
  },
  {
   "cell_type": "markdown",
   "metadata": {},
   "source": [
    "### Função que conta ocorrências de bigramas por data\n",
    "##### obs: Precisa receber uma lista de bigramas e um generator de dataframe que contenha as colunas \"text\" e \"created_at\" (uma de texto e outra de data)"
   ]
  },
  {
   "cell_type": "code",
   "execution_count": 53,
   "metadata": {},
   "outputs": [],
   "source": [
    "def contagem_bigramas_data(bigrama_lst, generator_df):   #bigrama precisa ser uma string contendo duas palavras separadas por espaço ex: 'distanciamento social'\n",
    "    \n",
    "    dfldict_cont_bigramas = defaultdict(int)        ##Criação de um tipo diferente de dicionário...\n",
    "    defaultdict_datas_bigramas = defaultdict(dict)               \n",
    "\n",
    "    contador = 0\n",
    "    \n",
    "    data = \"\"\n",
    "    \n",
    "    for dataframe in generator_df: #'Percorre' o generator, extraindo os dataframes \n",
    "        \n",
    "        for linha in dataframe.values: #percorre as linhas do dataframe (as operações principais vão aqui)\n",
    "            \n",
    "            \n",
    "            bigramas_tweet = list(nltk.bigrams(tokenizar_texto(linha[0]))) #tratamento de textos                                \n",
    "            \n",
    "            for bigrama in bigrama_lst:\n",
    "                \n",
    "                bigrama_tlp = tuple(bigrama.lower().split()) #transforma o bigrama em tupla\n",
    "                \n",
    "                if bigrama_tlp in bigramas_tweet: ##imprime só os tweets que contenham o bigrama ('distanciamento', 'social')\n",
    "                    \n",
    "                    if data != linha[1]['$date'][:10]:\n",
    "                        dfldict_cont_bigramas[bigrama_tlp] = 0  #zera a contagem de bigramas caso a data mude\n",
    "                    \n",
    "                    \n",
    "                    dfldict_cont_bigramas[bigrama_tlp] += 1\n",
    "                    data = linha[1]['$date'][:10]                             #essa linha deixa a data e tira a hora\n",
    "                    defaultdict_datas_bigramas[data] = dict(dfldict_cont_bigramas)\n",
    "                    #EXEMPLO DE DICIONARIO GERADO\n",
    "                    #{data1: {'bigrama1': repetições, 'bigrama2': repetições, etc...}, data2: {...}}\n",
    "            \n",
    "            clear_output()\n",
    "            contador += 1        \n",
    "            print(\"%s tweets processados\" %(contador))\n",
    "            \n",
    "            print(dict(defaultdict_datas_bigramas))  # ative para ver em tempo real os dados que estão sendo agrupados\n",
    "        \n",
    "        #df_texto_data.close()     ## fecha o generator (tire para pegar todos os dados)\n",
    "        \n",
    "    \n",
    "    #-----------------------------Parte de fora do loop-------------------------                \n",
    "    \n",
    "    with open('Contagem_bigramas_data.csv', 'w', encoding=\"utf-8\") as f:\n",
    "        f.write(\"Data;Ocorrências do Bigrama 'Distanciamento Social'\\n\")\n",
    "        \n",
    "        for key in defaultdict_datas_bigramas.keys():\n",
    "            f.write(\"%s;%s\\n\"%(key,defaultdict_datas_bigramas[key].get(('distanciamento', 'social'))))\n",
    "            \n",
    "    print('A contagem de bigramas por data foi salva com sucesso no arquivo')\n",
    "                          "
   ]
  },
  {
   "cell_type": "markdown",
   "metadata": {},
   "source": [
    "### Função que trata e tokeniza textos\n",
    "#### obs: já possui eliminação de stopwords"
   ]
  },
  {
   "cell_type": "code",
   "execution_count": 54,
   "metadata": {},
   "outputs": [],
   "source": [
    "#Instância um objeto do tipo TweetTokenizer que já deixa tudo em minúsculo, trata espaços,  \n",
    "# e elimina menções (mas não tira números). \n",
    "def tokenizar_texto(texto_completo):\n",
    "    texto_tokenizado_lst = tweet_tokenizer.tokenize(texto_completo)\n",
    "    \n",
    "    if texto_tokenizado_lst[0] == \"rt\" and texto_tokenizado_lst[1] == \":\": #Tira o \"RT\" caso ele esteja no inicio do tweet\n",
    "        del texto_tokenizado_lst[0]\n",
    "    \n",
    "    palavras_sem_stopwords = [palavra for palavra in texto_tokenizado_lst if palavra not in stopwords]\n",
    "    \n",
    "    return palavras_sem_stopwords"
   ]
  },
  {
   "cell_type": "markdown",
   "metadata": {},
   "source": [
    "# EXECUÇÃO"
   ]
  },
  {
   "cell_type": "code",
   "execution_count": 55,
   "metadata": {
    "scrolled": false
   },
   "outputs": [
    {
     "name": "stdout",
     "output_type": "stream",
     "text": [
      "5000 tweets processados\n",
      "{'2020-03-20': {('distanciamento', 'social'): 2}}\n",
      "A contagem de bigramas por data foi salva com sucesso no arquivo\n"
     ]
    }
   ],
   "source": [
    "##Recebe o noe do arquivo json, as colunas que se quer e o tamanho do chunk\n",
    "##Retorna um generator (no formato de dataframe)\n",
    "df_texto_data = json_to_dataframe('5k_origin.json',[\"text\",\"created_at\"], 300)\n",
    "\n",
    "\n",
    "# Recebe uma lista de bigramas e um generator de dataframe que contenha as colunas \"text\" e \"created_at\"\n",
    "contagem_bigramas_data([\"distanciamento social\"], df_texto_data) \n",
    "\n",
    "\n",
    "##ATENÇÃO: Se você interromper o programa no meio, vai demorar alguns segundos até que ele pare realmente de executar!!!"
   ]
  },
  {
   "cell_type": "code",
   "execution_count": null,
   "metadata": {},
   "outputs": [],
   "source": [
    "#POSSÍVEIS FUTURAS MELHORIAS\n",
    "\n",
    "#criar parâmetro na função contagem_bigramas_data que estabelece um numero limitado ou aberto de iterações sobre o generator\n",
    "#Criar verificação dentro da função contagem_bigramas_data para saber se o dataframe recebido está no formato correto\n",
    "#OBS = O CÓDIGO ATUAL ASSUME QUE OS TWEETS ESTEJAM ORDENADOS POR DATA"
   ]
  },
  {
   "cell_type": "code",
   "execution_count": null,
   "metadata": {},
   "outputs": [],
   "source": []
  }
 ],
 "metadata": {
  "kernelspec": {
   "display_name": "Python 3",
   "language": "python",
   "name": "python3"
  },
  "language_info": {
   "codemirror_mode": {
    "name": "ipython",
    "version": 3
   },
   "file_extension": ".py",
   "mimetype": "text/x-python",
   "name": "python",
   "nbconvert_exporter": "python",
   "pygments_lexer": "ipython3",
   "version": "3.7.3"
  }
 },
 "nbformat": 4,
 "nbformat_minor": 4
}
