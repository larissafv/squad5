{
 "cells": [
  {
   "cell_type": "code",
   "execution_count": 1,
   "metadata": {},
   "outputs": [],
   "source": [
    "from nltk.corpus import stopwords\n",
    "#talvez seja necessário baixar as stopwords com o comando no CMD: python -m nltk.downloader stopwords\n",
    "from string import punctuation\n",
    "from nltk.tokenize import TweetTokenizer\n",
    "import re\n",
    "\n",
    "#______________________________________________________________________________________________________________________#\n",
    "\n",
    "#Instância um objeto do tipo TweetTokenizer que já deixa tudo em minúsculo, trata espaços,  \n",
    "# e elimina menções (mas não tira números).\n",
    "tweet_tokenizer = TweetTokenizer(strip_handles=True, reduce_len=True, preserve_case=False) \n",
    "\n",
    "#definição das stopwords (inclui pontuação para eliminá-la, caso apareça)\n",
    "stopwords = set(stopwords.words('portuguese') + list(punctuation))\n",
    "\n",
    "def tokenizar_texto(texto_completo):\n",
    "    texto_tokenizado_lst = tweet_tokenizer.tokenize(texto_completo)\n",
    "    palavras_sem_stopwords = [palavra for palavra in texto_tokenizado_lst if palavra not in stopwords]\n",
    "    return palavras_sem_stopwords"
   ]
  },
  {
   "cell_type": "code",
   "execution_count": 2,
   "metadata": {},
   "outputs": [
    {
     "name": "stdout",
     "output_type": "stream",
     "text": [
      "                                                 text  \\\n",
      "0   @gerlainesouza @andeersonreis Efeitos da quare...   \n",
      "1   RT @viiih2906: \" A quarentena acabou, Já pode ...   \n",
      "2   RT @rubbgc: 2020 tinha tudo p ser meu ano 😖 co...   \n",
      "3   O representante da província de Xangai - MARCO...   \n",
      "4   RT @andreawerner_: “A fome vai matar muito mai...   \n",
      "..                                                ...   \n",
      "95  RT @desiretodie: não consigo entender pq vc es...   \n",
      "96        RT @pqplaurina: quando a quarentena acabar:   \n",
      "97  RT @EnockFormiga: Letalidade do Covid-19\\nTaxa...   \n",
      "98  @Tropa_Furacao Dos msm criadores de \"acabei de...   \n",
      "99  @allantercalivre @realDonaldTrump Leandro, pub...   \n",
      "\n",
      "                                   created_at  \n",
      "0   {'$date': '2020-04-11T20:40:10.000-0300'}  \n",
      "1   {'$date': '2020-04-11T20:40:10.000-0300'}  \n",
      "2   {'$date': '2020-04-11T20:40:10.000-0300'}  \n",
      "3   {'$date': '2020-04-11T20:40:10.000-0300'}  \n",
      "4   {'$date': '2020-04-11T20:40:10.000-0300'}  \n",
      "..                                        ...  \n",
      "95  {'$date': '2020-04-11T20:40:16.000-0300'}  \n",
      "96  {'$date': '2020-04-11T20:40:16.000-0300'}  \n",
      "97  {'$date': '2020-04-11T20:40:16.000-0300'}  \n",
      "98  {'$date': '2020-04-11T20:40:16.000-0300'}  \n",
      "99  {'$date': '2020-04-11T20:40:16.000-0300'}  \n",
      "\n",
      "[100 rows x 2 columns]\n"
     ]
    },
    {
     "name": "stderr",
     "output_type": "stream",
     "text": [
      "C:\\Users\\vicda\\Anaconda3\\lib\\site-packages\\ipykernel_launcher.py:27: DeprecationWarning: The default dtype for empty Series will be 'object' instead of 'float64' in a future version. Specify a dtype explicitly to silence this warning.\n"
     ]
    },
    {
     "data": {
      "text/plain": [
       "2020-04-11    1\n",
       "Name: ocorrencias bigrama, dtype: int64"
      ]
     },
     "execution_count": 2,
     "metadata": {},
     "output_type": "execute_result"
    }
   ],
   "source": [
    "import nltk\n",
    "import pandas as pd\n",
    "from collections import defaultdict\n",
    "from IPython.display import clear_output\n",
    "\n",
    "#______________________________________________________________________________________________________________________________#\n",
    "\n",
    "def processar_tweets(arquivo,size,colunas,chunk_size = 10):#retorna um dataframe com size tweets\n",
    "    # parametros: \n",
    "    # arquivo = str, path/nome do arquivo para leitura dos tweets\n",
    "    # size = int, numero de tweets a serem lidos\n",
    "    # columns = list, lista de strings com nome das colunas a serem lidas\n",
    "    # chunk_size = int,tamanho dos chunks\n",
    "    contador = 0\n",
    "    num = size/chunk_size\n",
    "    dados = pd.read_json(arquivo, convert_dates=False, lines=True, chunksize=chunk_size)\n",
    "    tweets = pd.DataFrame(columns=colunas)\n",
    "    for df_tweets_retweets in dados: ##->> Acessa os dados dos tweets e retweets de um chunk, gerando um dataframe do tamanho do chunk.                         \n",
    "        contador += 1\n",
    "        if contador<=num:\n",
    "            tweets=tweets.append(df_tweets_retweets[colunas])\n",
    "        else:\n",
    "            return tweets\n",
    "def bigrama_em_data(bigrama,df_tweets):#retorna uma serie com dia associado a num de ocorrencias\n",
    "    df_tweets['date'] = [d.get('$date').split('T')[0] for d in df_tweets['created_at']]\n",
    "    df_tweets.set_index('date',inplace=True)\n",
    "    ocorrencias = pd.Series(name='ocorrencias bigrama')\n",
    "    for data in df_tweets.index: #Percorre esse dataframe agrupado por data selecionando apenas o texto de cada tweet .\n",
    "        ocorrencias[data] = 0\n",
    "        for text_tweet in df_tweets['text'][data]:\n",
    "            bigramas_tweet = list(nltk.bigrams(tokenizar_texto(text_tweet))) \n",
    "            if bigrama in bigramas_tweet: #só os tweets que contenham o bigrama ('distanciamento', 'social')\n",
    "                ocorrencias[data] += bigramas_tweet.count(bigrama)\n",
    "    return ocorrencias\n",
    "print(processar_tweets('tweets_222_23abr2020.json',100,['text','created_at']))\n",
    "bigrama_em_data(('distanciamento', 'social'),processar_tweets('tweets_222_23abr2020.json',100,['text','created_at']))"
   ]
  },
  {
   "cell_type": "code",
   "execution_count": null,
   "metadata": {},
   "outputs": [],
   "source": []
  }
 ],
 "metadata": {
  "kernelspec": {
   "display_name": "Python 3",
   "language": "python",
   "name": "python3"
  },
  "language_info": {
   "codemirror_mode": {
    "name": "ipython",
    "version": 3
   },
   "file_extension": ".py",
   "mimetype": "text/x-python",
   "name": "python",
   "nbconvert_exporter": "python",
   "pygments_lexer": "ipython3",
   "version": "3.7.3"
  }
 },
 "nbformat": 4,
 "nbformat_minor": 4
}
