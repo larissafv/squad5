{
 "cells": [
  {
   "cell_type": "code",
   "execution_count": 1,
   "metadata": {},
   "outputs": [],
   "source": [
    "from nltk.corpus import stopwords\n",
    "#talvez seja necessário baixar as stopwords com o comando no CMD: python -m nltk.downloader stopwords\n",
    "from string import punctuation\n",
    "from nltk.tokenize import TweetTokenizer\n",
    "import re\n",
    "\n",
    "#______________________________________________________________________________________________________________________#\n",
    "\n",
    "#Instância um objeto do tipo TweetTokenizer que já deixa tudo em minúsculo, trata espaços,  \n",
    "# e elimina menções (mas não tira números).\n",
    "tweet_tokenizer = TweetTokenizer(strip_handles=True, reduce_len=True, preserve_case=False) \n",
    "\n",
    "#definição das stopwords (inclui pontuação para eliminá-la, caso apareça)\n",
    "stopwords = set(stopwords.words('portuguese') + list(punctuation)+ ['“','”','…','rt'])\n",
    "\n",
    "def tokenizar_texto(texto_completo):\n",
    "    texto_tokenizado_lst = tweet_tokenizer.tokenize(texto_completo)\n",
    "    palavras_sem_stopwords = [palavra for palavra in texto_tokenizado_lst if palavra not in stopwords]\n",
    "    return palavras_sem_stopwords"
   ]
  },
  {
   "cell_type": "code",
   "execution_count": 2,
   "metadata": {},
   "outputs": [],
   "source": [
    "import nltk\n",
    "import pandas as pd\n",
    "\n",
    "# ler dados do arquivo seccionados a cada 200 tweets\n",
    "dados = pd.read_json('tweets_222_23abr2020.json',convert_dates=False,lines=True,chunksize=2000)"
   ]
  },
  {
   "cell_type": "code",
   "execution_count": 3,
   "metadata": {},
   "outputs": [
    {
     "name": "stderr",
     "output_type": "stream",
     "text": [
      "C:\\Users\\vicda\\Anaconda3\\lib\\site-packages\\ipykernel_launcher.py:2: DeprecationWarning: The default dtype for empty Series will be 'object' instead of 'float64' in a future version. Specify a dtype explicitly to silence this warning.\n",
      "  \n"
     ]
    },
    {
     "data": {
      "text/plain": [
       "62913"
      ]
     },
     "execution_count": 3,
     "metadata": {},
     "output_type": "execute_result"
    }
   ],
   "source": [
    "# Criar Serie com os retweets dos 20000 primeiros tweets do arquivo\n",
    "retweets = pd.Series(name = 'ID')\n",
    "\n",
    "num = 0\n",
    "for i in dados:\n",
    "    num=num+1\n",
    "    if(num<=50):\n",
    "        retweets=retweets.append(i.dropna(subset=['retweeted_status'])['text'])\n",
    "    else:\n",
    "        break\n",
    "retweets.size# 127121 retweets nos 200000 tweets # 12482 para 20000 # 62913 para 100000"
   ]
  },
  {
   "cell_type": "code",
   "execution_count": 19,
   "metadata": {
    "scrolled": false
   },
   "outputs": [],
   "source": [
    "#criar dict para a ocorrencia e num_tweets dos Bigramas nos tweets\n",
    "freq_bi = {}\n",
    "num_tweets_bi = {}\n",
    "\n",
    "#criar dict para a ocorrencia e num_tweets dos unigramas nos tweets\n",
    "freq_uni = {}\n",
    "num_tweets_uni = {}\n",
    "\n",
    "add_uni = []# list para auxiliar na contagem de tweets em que aparece\n",
    "add_bi = []# list para auxiliar na contagem de tweets em que aparece\n",
    "for tweet in retweets.values:\n",
    "    \n",
    "    palavras = tokenizar_texto(tweet)\n",
    "    bigramas_tweet = list(nltk.bigrams(palavras))\n",
    "    add_uni.clear()\n",
    "    add_bi.clear()\n",
    "    \n",
    "    for unigrama in palavras:\n",
    "        if unigrama in freq_uni:\n",
    "            freq_uni[unigrama] += 1\n",
    "            if unigrama not in add_uni:\n",
    "                num_tweets_uni[unigrama] += 1\n",
    "                add_uni.append(unigrama)\n",
    "        else:\n",
    "            freq_uni[unigrama] = 1\n",
    "            num_tweets_uni[unigrama] = 1\n",
    "            add_uni.append(unigrama)\n",
    "            \n",
    "    for bigrama in bigramas_tweet:\n",
    "        if bigrama in freq_bi:\n",
    "            freq_bi[bigrama] += 1\n",
    "            if bigrama not in add_bi:\n",
    "                num_tweets_bi[bigrama] += 1\n",
    "                add_bi.append(bigrama)\n",
    "        else:\n",
    "            freq_bi[bigrama] = 1\n",
    "            num_tweets_bi[bigrama] = 1\n",
    "            add_bi.append(bigrama)\n"
   ]
  },
  {
   "cell_type": "code",
   "execution_count": 30,
   "metadata": {},
   "outputs": [],
   "source": [
    "# Criar Dataframe com os dict, associando as palavras ao index e ocorrencia e numero de tweeta presentes às colunas\n",
    "Unigram = pd.DataFrame([freq_uni,num_tweets_uni]).T.rename(columns={0:'Ocorrências',1:'Tweets_Presente'})\n",
    "Bigram = pd.DataFrame([freq_bi,num_tweets_bi]).T.rename(columns={0:'Ocorrências',1:'Tweets_Presente'})\n",
    "Bigram.index.name = 'Bigramas'\n",
    "Unigram.index.name = 'Unigramas'"
   ]
  },
  {
   "cell_type": "code",
   "execution_count": 31,
   "metadata": {},
   "outputs": [
    {
     "data": {
      "text/html": [
       "<div>\n",
       "<style scoped>\n",
       "    .dataframe tbody tr th:only-of-type {\n",
       "        vertical-align: middle;\n",
       "    }\n",
       "\n",
       "    .dataframe tbody tr th {\n",
       "        vertical-align: top;\n",
       "    }\n",
       "\n",
       "    .dataframe thead th {\n",
       "        text-align: right;\n",
       "    }\n",
       "</style>\n",
       "<table border=\"1\" class=\"dataframe\">\n",
       "  <thead>\n",
       "    <tr style=\"text-align: right;\">\n",
       "      <th></th>\n",
       "      <th>Ocorrências</th>\n",
       "      <th>Tweets_Presente</th>\n",
       "    </tr>\n",
       "    <tr>\n",
       "      <th>Unigramas</th>\n",
       "      <th></th>\n",
       "      <th></th>\n",
       "    </tr>\n",
       "  </thead>\n",
       "  <tbody>\n",
       "    <tr>\n",
       "      <th>quarentena</th>\n",
       "      <td>26858</td>\n",
       "      <td>26280</td>\n",
       "    </tr>\n",
       "    <tr>\n",
       "      <th>covid</th>\n",
       "      <td>9649</td>\n",
       "      <td>9617</td>\n",
       "    </tr>\n",
       "    <tr>\n",
       "      <th>19</th>\n",
       "      <td>7290</td>\n",
       "      <td>7112</td>\n",
       "    </tr>\n",
       "    <tr>\n",
       "      <th>cloroquina</th>\n",
       "      <td>4578</td>\n",
       "      <td>4568</td>\n",
       "    </tr>\n",
       "    <tr>\n",
       "      <th>pra</th>\n",
       "      <td>4476</td>\n",
       "      <td>4296</td>\n",
       "    </tr>\n",
       "  </tbody>\n",
       "</table>\n",
       "</div>"
      ],
      "text/plain": [
       "            Ocorrências  Tweets_Presente\n",
       "Unigramas                               \n",
       "quarentena        26858            26280\n",
       "covid              9649             9617\n",
       "19                 7290             7112\n",
       "cloroquina         4578             4568\n",
       "pra                4476             4296"
      ]
     },
     "execution_count": 31,
     "metadata": {},
     "output_type": "execute_result"
    }
   ],
   "source": [
    "Unigram.sort_values('Tweets_Presente',ascending=False).head()"
   ]
  },
  {
   "cell_type": "code",
   "execution_count": 32,
   "metadata": {},
   "outputs": [
    {
     "data": {
      "text/html": [
       "<div>\n",
       "<style scoped>\n",
       "    .dataframe tbody tr th:only-of-type {\n",
       "        vertical-align: middle;\n",
       "    }\n",
       "\n",
       "    .dataframe tbody tr th {\n",
       "        vertical-align: top;\n",
       "    }\n",
       "\n",
       "    .dataframe thead th {\n",
       "        text-align: right;\n",
       "    }\n",
       "</style>\n",
       "<table border=\"1\" class=\"dataframe\">\n",
       "  <thead>\n",
       "    <tr style=\"text-align: right;\">\n",
       "      <th></th>\n",
       "      <th>Ocorrências</th>\n",
       "      <th>Tweets_Presente</th>\n",
       "    </tr>\n",
       "    <tr>\n",
       "      <th>Bigramas</th>\n",
       "      <th></th>\n",
       "      <th></th>\n",
       "    </tr>\n",
       "  </thead>\n",
       "  <tbody>\n",
       "    <tr>\n",
       "      <th>(covid, 19)</th>\n",
       "      <td>7072</td>\n",
       "      <td>7045</td>\n",
       "    </tr>\n",
       "    <tr>\n",
       "      <th>(quarentena, https://t.co/Bputjo9mS5)</th>\n",
       "      <td>3140</td>\n",
       "      <td>3140</td>\n",
       "    </tr>\n",
       "    <tr>\n",
       "      <th>(nessa, quarentena)</th>\n",
       "      <td>1948</td>\n",
       "      <td>1948</td>\n",
       "    </tr>\n",
       "    <tr>\n",
       "      <th>(testes, covid)</th>\n",
       "      <td>1525</td>\n",
       "      <td>1502</td>\n",
       "    </tr>\n",
       "    <tr>\n",
       "      <th>(vai, matar)</th>\n",
       "      <td>1150</td>\n",
       "      <td>1150</td>\n",
       "    </tr>\n",
       "  </tbody>\n",
       "</table>\n",
       "</div>"
      ],
      "text/plain": [
       "                                       Ocorrências  Tweets_Presente\n",
       "Bigramas                                                           \n",
       "(covid, 19)                                   7072             7045\n",
       "(quarentena, https://t.co/Bputjo9mS5)         3140             3140\n",
       "(nessa, quarentena)                           1948             1948\n",
       "(testes, covid)                               1525             1502\n",
       "(vai, matar)                                  1150             1150"
      ]
     },
     "execution_count": 32,
     "metadata": {},
     "output_type": "execute_result"
    }
   ],
   "source": [
    "Bigram.sort_values('Tweets_Presente',ascending=False).head()"
   ]
  },
  {
   "cell_type": "code",
   "execution_count": 33,
   "metadata": {},
   "outputs": [],
   "source": [
    "Unigram.to_csv('Análise_Unigramas.csv',sep=';')\n",
    "Bigram.to_csv('Análise_Bigramas.csv',sep=';')"
   ]
  }
 ],
 "metadata": {
  "kernelspec": {
   "display_name": "Python 3",
   "language": "python",
   "name": "python3"
  },
  "language_info": {
   "codemirror_mode": {
    "name": "ipython",
    "version": 3
   },
   "file_extension": ".py",
   "mimetype": "text/x-python",
   "name": "python",
   "nbconvert_exporter": "python",
   "pygments_lexer": "ipython3",
   "version": "3.7.3"
  }
 },
 "nbformat": 4,
 "nbformat_minor": 4
}
