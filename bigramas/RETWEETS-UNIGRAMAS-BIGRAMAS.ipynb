{
 "cells": [
  {
   "cell_type": "code",
   "execution_count": 135,
   "metadata": {},
   "outputs": [],
   "source": [
    "from nltk.corpus import stopwords\n",
    "#talvez seja necessário baixar as stopwords com o comando no CMD: python -m nltk.downloader stopwords\n",
    "from string import punctuation\n",
    "from nltk.tokenize import TweetTokenizer\n",
    "import re\n",
    "\n",
    "#______________________________________________________________________________________________________________________#\n",
    "\n",
    "#Instância um objeto do tipo TweetTokenizer que já deixa tudo em minúsculo, trata espaços,  \n",
    "# e elimina menções (mas não tira números).\n",
    "tweet_tokenizer = TweetTokenizer(strip_handles=True, reduce_len=True, preserve_case=False) \n",
    "\n",
    "#definição das stopwords (inclui pontuação para eliminá-la, caso apareça)\n",
    "stopwords = set(stopwords.words('portuguese') + list(punctuation))\n",
    "\n",
    "def tokenizar_texto(texto_completo):\n",
    "    texto_tokenizado_lst = tweet_tokenizer.tokenize(texto_completo)\n",
    "    palavras_sem_stopwords = [palavra for palavra in texto_tokenizado_lst if palavra not in stopwords]\n",
    "    return palavras_sem_stopwords"
   ]
  },
  {
   "cell_type": "code",
   "execution_count": 136,
   "metadata": {},
   "outputs": [],
   "source": [
    "import nltk\n",
    "import pandas as pd\n",
    "\n",
    "# ler dados do arquivo seccionados a cada 200 tweets\n",
    "dados = pd.read_json('tweets_222_23abr2020.json',convert_dates=False,lines=True,chunksize=2000)"
   ]
  },
  {
   "cell_type": "code",
   "execution_count": 137,
   "metadata": {},
   "outputs": [
    {
     "name": "stderr",
     "output_type": "stream",
     "text": [
      "C:\\Users\\vicda\\Anaconda3\\lib\\site-packages\\ipykernel_launcher.py:2: DeprecationWarning: The default dtype for empty Series will be 'object' instead of 'float64' in a future version. Specify a dtype explicitly to silence this warning.\n",
      "  \n"
     ]
    },
    {
     "data": {
      "text/plain": [
       "62913"
      ]
     },
     "execution_count": 137,
     "metadata": {},
     "output_type": "execute_result"
    }
   ],
   "source": [
    "# Criar Serie com os retweets dos 20000 primeiros tweets do arquivo\n",
    "retweets = pd.Series(name = 'ID')\n",
    "\n",
    "num = 0\n",
    "for i in dados:\n",
    "    num=num+1\n",
    "    if(num<=50):\n",
    "        retweets=retweets.append(i.dropna(subset=['retweeted_status'])['text'])\n",
    "    else:\n",
    "        break\n",
    "retweets.size# 127121 retweets nos 200000 tweets # 12482 para 20000 # 62913 para 100000"
   ]
  },
  {
   "cell_type": "code",
   "execution_count": 138,
   "metadata": {},
   "outputs": [],
   "source": [
    "#criar Serie com a frequencia dos Bigramas nos tweets\n",
    "freq_bi = {}#pd.Series(name = 'Palavras')\n",
    "num_tweets_bi = {}#pd.Series(name = 'num_tweets')\n",
    "\n",
    "#criar Serie com a frequencia dos unigramas nos tweets\n",
    "freq_unigram = pd.Series(dtype=str,name = 'Palavras')\n",
    "num_tweets_unigram = pd.Series(dtype=str,name = 'num_tweets')\n",
    "\n",
    "add_uni = []# list para auxiliar na contagem de tweets em que aparece\n",
    "add_bi = []# list para auxiliar na contagem de tweets em que aparece\n",
    "for tweet in retweets.values:\n",
    "    \n",
    "    palavras = tokenizar_texto(tweet)\n",
    "    palavras.remove('rt')\n",
    "    bigramas_tweet = list(nltk.bigrams(palavras))\n",
    "    add_uni.clear()\n",
    "    add_bi.clear()\n",
    "    \n",
    "    for unigrama in palavras:\n",
    "        if unigrama in freq_unigram:\n",
    "            freq_unigram[unigrama] += 1\n",
    "            if unigrama not in add_uni:\n",
    "                num_tweets_unigram[unigrama] += 1\n",
    "                add_uni.append(unigrama)\n",
    "        else:\n",
    "            freq_unigram[unigrama] = 1\n",
    "            num_tweets_unigram[unigrama] = 1\n",
    "            add_uni.append(unigrama)\n",
    "            \n",
    "    for bigrama in bigramas_tweet:\n",
    "        if bigrama in freq_bi:\n",
    "            freq_bi[bigrama] += 1\n",
    "            if bigrama not in add_bi:\n",
    "                num_tweets_bi[bigrama] += 1\n",
    "                add_bi.append(bigrama)\n",
    "        else:\n",
    "            freq_bi[bigrama] = 1\n",
    "            num_tweets_bi[bigrama] = 1\n",
    "            add_bi.append(bigrama)\n",
    "            \n",
    "freq_bigram = pd.Series(freq_bi,name = 'Palavras')\n",
    "num_tweets_bigram = pd.Series(num_tweets_bi,name = 'num_tweets')"
   ]
  },
  {
   "cell_type": "code",
   "execution_count": 139,
   "metadata": {},
   "outputs": [
    {
     "data": {
      "text/plain": [
       "…                          27722\n",
       "quarentena                 26280\n",
       "covid                       9617\n",
       "19                          7112\n",
       "cloroquina                  4568\n",
       "pra                         4296\n",
       "contra                      3503\n",
       "brasil                      3405\n",
       "corona                      3154\n",
       "https://t.co/Bputjo9mS5     3140\n",
       "Name: num_tweets, dtype: int64"
      ]
     },
     "execution_count": 139,
     "metadata": {},
     "output_type": "execute_result"
    }
   ],
   "source": [
    "# 50 unigramas que aparecem no maior numero de tweets nos 127121 retweets\n",
    "num_tweets_unigram.sort_values(ascending = False)[:10]"
   ]
  },
  {
   "cell_type": "code",
   "execution_count": 140,
   "metadata": {},
   "outputs": [
    {
     "data": {
      "text/plain": [
       "covid       19                         7045\n",
       "quarentena  https://t.co/Bputjo9mS5    3140\n",
       "nessa       quarentena                 1948\n",
       "testes      covid                      1502\n",
       "vai         matar                      1150\n",
       "”           diz                        1001\n",
       "fome        vai                         973\n",
       "covid       ”                           973\n",
       "matar       covid                       973\n",
       "bolsa       família                     972\n",
       "Name: num_tweets, dtype: int64"
      ]
     },
     "execution_count": 140,
     "metadata": {},
     "output_type": "execute_result"
    }
   ],
   "source": [
    "# 50 bigramas que aparecem no maior numero de tweets nos 127121 retweets\n",
    "num_tweets_bigram.sort_values(ascending = False)[:10]"
   ]
  },
  {
   "cell_type": "code",
   "execution_count": 141,
   "metadata": {},
   "outputs": [
    {
     "data": {
      "text/plain": [
       "…                          27722\n",
       "quarentena                 26858\n",
       "covid                       9649\n",
       "19                          7290\n",
       "cloroquina                  4578\n",
       "pra                         4476\n",
       "contra                      3534\n",
       "brasil                      3430\n",
       "corona                      3158\n",
       "https://t.co/Bputjo9mS5     3140\n",
       "Name: Palavras, dtype: int64"
      ]
     },
     "execution_count": 141,
     "metadata": {},
     "output_type": "execute_result"
    }
   ],
   "source": [
    "# 50 unigramas mais ocorrentes nos tweets\n",
    "freq_unigram.sort_values(ascending = False)[:10]"
   ]
  },
  {
   "cell_type": "code",
   "execution_count": 142,
   "metadata": {
    "scrolled": true
   },
   "outputs": [
    {
     "data": {
      "text/plain": [
       "covid       19                         7072\n",
       "quarentena  https://t.co/Bputjo9mS5    3140\n",
       "nessa       quarentena                 1948\n",
       "testes      covid                      1525\n",
       "vai         matar                      1150\n",
       "”           diz                        1001\n",
       "covid       ”                           973\n",
       "fome        vai                         973\n",
       "matar       covid                       973\n",
       "bolsa       família                     972\n",
       "Name: Palavras, dtype: int64"
      ]
     },
     "execution_count": 142,
     "metadata": {},
     "output_type": "execute_result"
    }
   ],
   "source": [
    "# 50 bigramas mais ocorrentes nos tweets\n",
    "freq_bigram.sort_values(ascending = False)[:10]"
   ]
  },
  {
   "cell_type": "code",
   "execution_count": 134,
   "metadata": {},
   "outputs": [
    {
     "ename": "PermissionError",
     "evalue": "[Errno 13] Permission denied: 'num_ocorrencia_unigramas.csv'",
     "output_type": "error",
     "traceback": [
      "\u001b[1;31m---------------------------------------------------------------------------\u001b[0m",
      "\u001b[1;31mPermissionError\u001b[0m                           Traceback (most recent call last)",
      "\u001b[1;32m<ipython-input-134-dcbf74b4dc9c>\u001b[0m in \u001b[0;36m<module>\u001b[1;34m\u001b[0m\n\u001b[1;32m----> 1\u001b[1;33m \u001b[0mfreq_unigram\u001b[0m\u001b[1;33m.\u001b[0m\u001b[0mto_csv\u001b[0m\u001b[1;33m(\u001b[0m\u001b[1;34m'num_ocorrencia_unigramas.csv'\u001b[0m\u001b[1;33m,\u001b[0m\u001b[0msep\u001b[0m\u001b[1;33m=\u001b[0m\u001b[1;34m';'\u001b[0m\u001b[1;33m)\u001b[0m\u001b[1;33m\u001b[0m\u001b[1;33m\u001b[0m\u001b[0m\n\u001b[0m\u001b[0;32m      2\u001b[0m \u001b[0mnum_tweets_unigram\u001b[0m\u001b[1;33m.\u001b[0m\u001b[0mto_csv\u001b[0m\u001b[1;33m(\u001b[0m\u001b[1;34m'num_tweets_unigrama_apararece.csv'\u001b[0m\u001b[1;33m,\u001b[0m\u001b[0msep\u001b[0m\u001b[1;33m=\u001b[0m\u001b[1;34m';'\u001b[0m\u001b[1;33m)\u001b[0m\u001b[1;33m\u001b[0m\u001b[1;33m\u001b[0m\u001b[0m\n\u001b[0;32m      3\u001b[0m \u001b[0mfreq_bigram\u001b[0m\u001b[1;33m.\u001b[0m\u001b[0mto_csv\u001b[0m\u001b[1;33m(\u001b[0m\u001b[1;34m'num_ocorrencia_bigramas.csv'\u001b[0m\u001b[1;33m,\u001b[0m\u001b[0msep\u001b[0m\u001b[1;33m=\u001b[0m\u001b[1;34m';'\u001b[0m\u001b[1;33m)\u001b[0m\u001b[1;33m\u001b[0m\u001b[1;33m\u001b[0m\u001b[0m\n\u001b[0;32m      4\u001b[0m \u001b[0mnum_tweets_bigram\u001b[0m\u001b[1;33m.\u001b[0m\u001b[0mto_csv\u001b[0m\u001b[1;33m(\u001b[0m\u001b[1;34m'num_tweets_bigrama_apararece.csv'\u001b[0m\u001b[1;33m,\u001b[0m\u001b[0msep\u001b[0m\u001b[1;33m=\u001b[0m\u001b[1;34m';'\u001b[0m\u001b[1;33m)\u001b[0m\u001b[1;33m\u001b[0m\u001b[1;33m\u001b[0m\u001b[0m\n",
      "\u001b[1;32m~\\Anaconda3\\lib\\site-packages\\pandas\\core\\generic.py\u001b[0m in \u001b[0;36mto_csv\u001b[1;34m(self, path_or_buf, sep, na_rep, float_format, columns, header, index, index_label, mode, encoding, compression, quoting, quotechar, line_terminator, chunksize, date_format, doublequote, escapechar, decimal)\u001b[0m\n\u001b[0;32m   3202\u001b[0m             \u001b[0mdecimal\u001b[0m\u001b[1;33m=\u001b[0m\u001b[0mdecimal\u001b[0m\u001b[1;33m,\u001b[0m\u001b[1;33m\u001b[0m\u001b[1;33m\u001b[0m\u001b[0m\n\u001b[0;32m   3203\u001b[0m         )\n\u001b[1;32m-> 3204\u001b[1;33m         \u001b[0mformatter\u001b[0m\u001b[1;33m.\u001b[0m\u001b[0msave\u001b[0m\u001b[1;33m(\u001b[0m\u001b[1;33m)\u001b[0m\u001b[1;33m\u001b[0m\u001b[1;33m\u001b[0m\u001b[0m\n\u001b[0m\u001b[0;32m   3205\u001b[0m \u001b[1;33m\u001b[0m\u001b[0m\n\u001b[0;32m   3206\u001b[0m         \u001b[1;32mif\u001b[0m \u001b[0mpath_or_buf\u001b[0m \u001b[1;32mis\u001b[0m \u001b[1;32mNone\u001b[0m\u001b[1;33m:\u001b[0m\u001b[1;33m\u001b[0m\u001b[1;33m\u001b[0m\u001b[0m\n",
      "\u001b[1;32m~\\Anaconda3\\lib\\site-packages\\pandas\\io\\formats\\csvs.py\u001b[0m in \u001b[0;36msave\u001b[1;34m(self)\u001b[0m\n\u001b[0;32m    186\u001b[0m                 \u001b[0mself\u001b[0m\u001b[1;33m.\u001b[0m\u001b[0mmode\u001b[0m\u001b[1;33m,\u001b[0m\u001b[1;33m\u001b[0m\u001b[1;33m\u001b[0m\u001b[0m\n\u001b[0;32m    187\u001b[0m                 \u001b[0mencoding\u001b[0m\u001b[1;33m=\u001b[0m\u001b[0mself\u001b[0m\u001b[1;33m.\u001b[0m\u001b[0mencoding\u001b[0m\u001b[1;33m,\u001b[0m\u001b[1;33m\u001b[0m\u001b[1;33m\u001b[0m\u001b[0m\n\u001b[1;32m--> 188\u001b[1;33m                 \u001b[0mcompression\u001b[0m\u001b[1;33m=\u001b[0m\u001b[0mdict\u001b[0m\u001b[1;33m(\u001b[0m\u001b[0mself\u001b[0m\u001b[1;33m.\u001b[0m\u001b[0mcompression_args\u001b[0m\u001b[1;33m,\u001b[0m \u001b[0mmethod\u001b[0m\u001b[1;33m=\u001b[0m\u001b[0mself\u001b[0m\u001b[1;33m.\u001b[0m\u001b[0mcompression\u001b[0m\u001b[1;33m)\u001b[0m\u001b[1;33m,\u001b[0m\u001b[1;33m\u001b[0m\u001b[1;33m\u001b[0m\u001b[0m\n\u001b[0m\u001b[0;32m    189\u001b[0m             )\n\u001b[0;32m    190\u001b[0m             \u001b[0mclose\u001b[0m \u001b[1;33m=\u001b[0m \u001b[1;32mTrue\u001b[0m\u001b[1;33m\u001b[0m\u001b[1;33m\u001b[0m\u001b[0m\n",
      "\u001b[1;32m~\\Anaconda3\\lib\\site-packages\\pandas\\io\\common.py\u001b[0m in \u001b[0;36mget_handle\u001b[1;34m(path_or_buf, mode, encoding, compression, memory_map, is_text)\u001b[0m\n\u001b[0;32m    426\u001b[0m         \u001b[1;32mif\u001b[0m \u001b[0mencoding\u001b[0m\u001b[1;33m:\u001b[0m\u001b[1;33m\u001b[0m\u001b[1;33m\u001b[0m\u001b[0m\n\u001b[0;32m    427\u001b[0m             \u001b[1;31m# Encoding\u001b[0m\u001b[1;33m\u001b[0m\u001b[1;33m\u001b[0m\u001b[1;33m\u001b[0m\u001b[0m\n\u001b[1;32m--> 428\u001b[1;33m             \u001b[0mf\u001b[0m \u001b[1;33m=\u001b[0m \u001b[0mopen\u001b[0m\u001b[1;33m(\u001b[0m\u001b[0mpath_or_buf\u001b[0m\u001b[1;33m,\u001b[0m \u001b[0mmode\u001b[0m\u001b[1;33m,\u001b[0m \u001b[0mencoding\u001b[0m\u001b[1;33m=\u001b[0m\u001b[0mencoding\u001b[0m\u001b[1;33m,\u001b[0m \u001b[0mnewline\u001b[0m\u001b[1;33m=\u001b[0m\u001b[1;34m\"\"\u001b[0m\u001b[1;33m)\u001b[0m\u001b[1;33m\u001b[0m\u001b[1;33m\u001b[0m\u001b[0m\n\u001b[0m\u001b[0;32m    429\u001b[0m         \u001b[1;32melif\u001b[0m \u001b[0mis_text\u001b[0m\u001b[1;33m:\u001b[0m\u001b[1;33m\u001b[0m\u001b[1;33m\u001b[0m\u001b[0m\n\u001b[0;32m    430\u001b[0m             \u001b[1;31m# No explicit encoding\u001b[0m\u001b[1;33m\u001b[0m\u001b[1;33m\u001b[0m\u001b[1;33m\u001b[0m\u001b[0m\n",
      "\u001b[1;31mPermissionError\u001b[0m: [Errno 13] Permission denied: 'num_ocorrencia_unigramas.csv'"
     ]
    }
   ],
   "source": [
    "freq_unigram.to_csv('num_ocorrencia_unigramas.csv',sep=';')\n",
    "num_tweets_unigram.to_csv('num_tweets_unigrama_apararece.csv',sep=';')\n",
    "freq_bigram.to_csv('num_ocorrencia_bigramas.csv',sep=';')\n",
    "num_tweets_bigram.to_csv('num_tweets_bigrama_apararece.csv',sep=';')"
   ]
  }
 ],
 "metadata": {
  "kernelspec": {
   "display_name": "Python 3",
   "language": "python",
   "name": "python3"
  },
  "language_info": {
   "codemirror_mode": {
    "name": "ipython",
    "version": 3
   },
   "file_extension": ".py",
   "mimetype": "text/x-python",
   "name": "python",
   "nbconvert_exporter": "python",
   "pygments_lexer": "ipython3",
   "version": "3.7.3"
  }
 },
 "nbformat": 4,
 "nbformat_minor": 4
}
