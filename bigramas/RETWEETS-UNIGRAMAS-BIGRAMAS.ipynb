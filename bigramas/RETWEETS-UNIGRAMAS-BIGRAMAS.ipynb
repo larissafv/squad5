{
 "cells": [
  {
   "cell_type": "code",
   "execution_count": 117,
   "metadata": {},
   "outputs": [],
   "source": [
    "from nltk.corpus import stopwords\n",
    "#talvez seja necessário baixar as stopwords com o comando no CMD: python -m nltk.downloader stopwords\n",
    "from string import punctuation\n",
    "from nltk.tokenize import TweetTokenizer\n",
    "import re\n",
    "\n",
    "#______________________________________________________________________________________________________________________#\n",
    "\n",
    "#Instância um objeto do tipo TweetTokenizer que já deixa tudo em minúsculo, trata espaços,  \n",
    "# e elimina menções (mas não tira números).\n",
    "tweet_tokenizer = TweetTokenizer(strip_handles=True, reduce_len=True, preserve_case=False) \n",
    "\n",
    "#definição das stopwords (inclui pontuação para eliminá-la, caso apareça)\n",
    "stopwords = set(stopwords.words('portuguese') + list(punctuation))\n",
    "\n",
    "def tokenizar_texto(texto_completo):\n",
    "    texto_tokenizado_lst = tweet_tokenizer.tokenize(texto_completo)\n",
    "    palavras_sem_stopwords = [palavra for palavra in texto_tokenizado_lst if palavra not in stopwords]\n",
    "    return palavras_sem_stopwords"
   ]
  },
  {
   "cell_type": "code",
   "execution_count": 125,
   "metadata": {},
   "outputs": [
    {
     "data": {
      "text/plain": [
       "'!\"#$%&\\'()*+,-./:;<=>?@[\\\\]^_`{|}~'"
      ]
     },
     "execution_count": 125,
     "metadata": {},
     "output_type": "execute_result"
    }
   ],
   "source": []
  },
  {
   "cell_type": "code",
   "execution_count": 118,
   "metadata": {},
   "outputs": [],
   "source": [
    "import nltk\n",
    "import pandas as pd\n",
    "\n",
    "# ler dados do arquivo seccionados a cada 200 tweets\n",
    "dados = pd.read_json('tweets_222_23abr2020.json',convert_dates=False,lines=True,chunksize=100)"
   ]
  },
  {
   "cell_type": "code",
   "execution_count": 119,
   "metadata": {},
   "outputs": [
    {
     "name": "stderr",
     "output_type": "stream",
     "text": [
      "C:\\Users\\vicda\\Anaconda3\\lib\\site-packages\\ipykernel_launcher.py:2: DeprecationWarning: The default dtype for empty Series will be 'object' instead of 'float64' in a future version. Specify a dtype explicitly to silence this warning.\n",
      "  \n"
     ]
    },
    {
     "data": {
      "text/plain": [
       "61"
      ]
     },
     "execution_count": 119,
     "metadata": {},
     "output_type": "execute_result"
    }
   ],
   "source": [
    "# Criar Serie com os retweets dos 20000 primeiros tweets do arquivo\n",
    "retweets = pd.Series(name = 'ID')\n",
    "\n",
    "num = 0\n",
    "for i in dados:\n",
    "    num=num+1\n",
    "    if(num<=1):\n",
    "        retweets=retweets.append(i.dropna(subset=['retweeted_status'])['text'])\n",
    "    else:\n",
    "        break\n",
    "retweets.size# 127121 retweets nos 200000 tweets # 12482 para 20000 # 62913 para 100000"
   ]
  },
  {
   "cell_type": "code",
   "execution_count": 120,
   "metadata": {},
   "outputs": [],
   "source": [
    "#criar Serie com a frequencia dos Bigramas nos tweets\n",
    "freq_bi = {}#pd.Series(name = 'Palavras')\n",
    "num_tweets_bi = {}#pd.Series(name = 'num_tweets')\n",
    "\n",
    "#criar Serie com a frequencia dos unigramas nos tweets\n",
    "freq_unigram = pd.Series(dtype=str,name = 'Palavras')\n",
    "num_tweets_unigram = pd.Series(dtype=str,name = 'num_tweets')\n",
    "\n",
    "add_uni = []# list para auxiliar na contagem de tweets em que aparece\n",
    "add_bi = []# list para auxiliar na contagem de tweets em que aparece\n",
    "for tweet in retweets.values:\n",
    "    \n",
    "    palavras = tokenizar_texto(tweet)\n",
    "    palavras.remove('rt')\n",
    "    bigramas_tweet = list(nltk.bigrams(palavras))\n",
    "    add_uni.clear()\n",
    "    add_bi.clear()\n",
    "    \n",
    "    for unigrama in palavras:\n",
    "        if unigrama in freq_unigram:\n",
    "            freq_unigram[unigrama] += 1\n",
    "            if unigrama not in add_uni:\n",
    "                num_tweets_unigram[unigrama] += 1\n",
    "                add_uni.append(unigrama)\n",
    "        else:\n",
    "            freq_unigram[unigrama] = 1\n",
    "            num_tweets_unigram[unigrama] = 1\n",
    "            add_uni.append(unigrama)\n",
    "            \n",
    "    for bigrama in bigramas_tweet:\n",
    "        if bigrama in freq_bi:\n",
    "            freq_bi[bigrama] += 1\n",
    "            if bigrama not in add_bi:\n",
    "                num_tweets_bi[bigrama] += 1\n",
    "                add_bi.append(bigrama)\n",
    "        else:\n",
    "            freq_bi[bigrama] = 1\n",
    "            num_tweets_bi[bigrama] = 1\n",
    "            add_bi.append(bigrama)\n",
    "            \n",
    "freq_bigram = pd.Series(freq_bi,name = 'Palavras')\n",
    "num_tweets_bigram = pd.Series(num_tweets_bi,name = 'num_tweets')"
   ]
  },
  {
   "cell_type": "code",
   "execution_count": 121,
   "metadata": {},
   "outputs": [
    {
     "data": {
      "text/plain": [
       "quarentena    27\n",
       "…             22\n",
       "covid         12\n",
       "19             7\n",
       "pra            7\n",
       "vai            5\n",
       "família        5\n",
       "corona         5\n",
       "casa           4\n",
       "“              4\n",
       "Name: num_tweets, dtype: int64"
      ]
     },
     "execution_count": 121,
     "metadata": {},
     "output_type": "execute_result"
    }
   ],
   "source": [
    "# 50 unigramas que aparecem no maior numero de tweets nos 127121 retweets\n",
    "num_tweets_unigram.sort_values(ascending = False)[:10]"
   ]
  },
  {
   "cell_type": "code",
   "execution_count": 122,
   "metadata": {},
   "outputs": [
    {
     "data": {
      "text/plain": [
       "covid   19        7\n",
       "vai     matar     4\n",
       "testes  covid     3\n",
       "covid   ”         3\n",
       "matar   covid     3\n",
       "povo    sempre    3\n",
       "fome    vai       3\n",
       "“       fome      3\n",
       "sempre  contra    3\n",
       "contra  bolsa     3\n",
       "Name: num_tweets, dtype: int64"
      ]
     },
     "execution_count": 122,
     "metadata": {},
     "output_type": "execute_result"
    }
   ],
   "source": [
    "# 50 bigramas que aparecem no maior numero de tweets nos 127121 retweets\n",
    "num_tweets_bigram.sort_values(ascending = False)[:10]"
   ]
  },
  {
   "cell_type": "code",
   "execution_count": 123,
   "metadata": {},
   "outputs": [
    {
     "data": {
      "text/plain": [
       "quarentena    28\n",
       "…             22\n",
       "covid         12\n",
       "19             7\n",
       "pra            7\n",
       "vai            6\n",
       "família        5\n",
       "china          5\n",
       "brasil         5\n",
       "corona         5\n",
       "Name: Palavras, dtype: int64"
      ]
     },
     "execution_count": 123,
     "metadata": {},
     "output_type": "execute_result"
    }
   ],
   "source": [
    "# 50 unigramas mais ocorrentes nos tweets\n",
    "freq_unigram.sort_values(ascending = False)[:10]"
   ]
  },
  {
   "cell_type": "code",
   "execution_count": 124,
   "metadata": {
    "scrolled": true
   },
   "outputs": [
    {
     "data": {
      "text/plain": [
       "covid   19        7\n",
       "vai     matar     4\n",
       "contra  bolsa     3\n",
       "covid   ”         3\n",
       "matar   covid     3\n",
       "povo    sempre    3\n",
       "fome    vai       3\n",
       "“       fome      3\n",
       "sempre  contra    3\n",
       "testes  covid     3\n",
       "Name: Palavras, dtype: int64"
      ]
     },
     "execution_count": 124,
     "metadata": {},
     "output_type": "execute_result"
    }
   ],
   "source": [
    "# 50 bigramas mais ocorrentes nos tweets\n",
    "freq_bigram.sort_values(ascending = False)[:10]"
   ]
  },
  {
   "cell_type": "code",
   "execution_count": 41,
   "metadata": {},
   "outputs": [],
   "source": [
    "freq_unigram.to_csv('num_ocorrencia_unigramas.csv',sep=';')\n",
    "num_tweets_unigram.to_csv('num_tweets_unigrama_apararece.csv',sep=';')\n",
    "freq_bigram.to_csv('num_ocorrencia_bigramas.csv',sep=';')\n",
    "num_tweets_bigram.to_csv('num_tweets_bigrama_apararece.csv',sep=';')"
   ]
  }
 ],
 "metadata": {
  "kernelspec": {
   "display_name": "Python 3",
   "language": "python",
   "name": "python3"
  },
  "language_info": {
   "codemirror_mode": {
    "name": "ipython",
    "version": 3
   },
   "file_extension": ".py",
   "mimetype": "text/x-python",
   "name": "python",
   "nbconvert_exporter": "python",
   "pygments_lexer": "ipython3",
   "version": "3.7.3"
  }
 },
 "nbformat": 4,
 "nbformat_minor": 4
}
