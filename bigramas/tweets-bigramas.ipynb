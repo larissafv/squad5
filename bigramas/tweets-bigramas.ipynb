{
 "cells": [
  {
   "cell_type": "code",
   "execution_count": 3,
   "metadata": {},
   "outputs": [],
   "source": [
    "import pandas as pd\n",
    "\n",
    "#leitura do arquivo\n",
    "dados = pd.read_json('tweets_teste2.json', convert_dates = False, lines = True, chunksize = 50)"
   ]
  },
  {
   "cell_type": "code",
   "execution_count": null,
   "metadata": {},
   "outputs": [],
   "source": [
    "freq = {}\n",
    "n_tweets = {}\n",
    "aux = []\n",
    "\n",
    "for tt_rt in dados:\n",
    "    #selecionando apenas os tweets\n",
    "    tweets = tt_rt[pd.isnull(tt_rt['retweeted_status'])]\n",
    "    \n",
    "    #acessando apenas o texto de cada tweet\n",
    "    for text in tweets['text']:\n",
    "        words = text.split()\n",
    "        words = list(filter(('\"').__ne__, words))\n",
    "        n_words = len(words)\n",
    "        \n",
    "        for i in range(1, n_words):\n",
    "            #tratamento de pontuaçoes\n",
    "            word = words[i].strip('\"').strip(\"'\").strip(\".\").strip(';').strip(\"/n\").strip(\",\").strip(':').strip('!').strip(\"?\")\n",
    "            bef_word = words[i-1].strip('\"').strip(\"'\").strip(\".\").strip(';').strip(\"/n\").strip(\",\").strip(':').strip('!').strip(\"?\")\n",
    "            \n",
    "            #formaçao do bigrama\n",
    "            bigram = bef_word + ' ' + word\n",
    "            \n",
    "            #contabilizando o bigrama\n",
    "            if bigram in freq:\n",
    "                freq[bigram] += 1\n",
    "                if bigrama not in aux:\n",
    "                    n_tweets[bigram] += 1\n",
    "                    aux.append(bigram)\n",
    "            else:\n",
    "                freq[bigram] = 1\n",
    "                n_tweets[bigram] = 1\n",
    "                aux.append(bigram)"
   ]
  },
  {
   "cell_type": "code",
   "execution_count": null,
   "metadata": {},
   "outputs": [],
   "source": [
    "#passando os dados coletados pra series\n",
    "freq_bigram = pd.Series(freq, name = 'WORD')\n",
    "n_tweets_bigram = pd.Series(n_tweets, name = 'NUMBER')"
   ]
  },
  {
   "cell_type": "code",
   "execution_count": null,
   "metadata": {},
   "outputs": [],
   "source": [
    "#apresentaçao do top 10\n",
    "n_tweets_bigram.sort_values(ascending = False)[:10]"
   ]
  },
  {
   "cell_type": "code",
   "execution_count": null,
   "metadata": {},
   "outputs": [],
   "source": [
    "freq_bigram.sort_values(ascending = False)[:10]"
   ]
  },
  {
   "cell_type": "code",
   "execution_count": null,
   "metadata": {},
   "outputs": [],
   "source": [
    "\n",
    "\n"
   ]
  },
  {
   "cell_type": "code",
   "execution_count": null,
   "metadata": {},
   "outputs": [],
   "source": []
  }
 ],
 "metadata": {
  "kernelspec": {
   "display_name": "Python 3",
   "language": "python",
   "name": "python3"
  }
 },
 "nbformat": 4,
 "nbformat_minor": 2
}
