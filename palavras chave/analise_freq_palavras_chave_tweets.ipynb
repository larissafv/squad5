{
 "cells": [
  {
   "cell_type": "markdown",
   "metadata": {},
   "source": [
    "# Analise a frequência das palavras-chave nos tweets\n",
    "\n",
    "\n",
    "##### ATENÇÃO: aparentemente durante a coleta de dados alguns dos twees foram coletados truncados (com parte do conteúdo não capturada). O atributo \"truncated\" pode ser usado para identificá-los."
   ]
  },
  {
   "cell_type": "markdown",
   "metadata": {},
   "source": [
    "------------------------------------------------------------------------------------------------------------------------"
   ]
  },
  {
   "cell_type": "markdown",
   "metadata": {},
   "source": [
    "### Função que trata e tokeniza textos\n",
    "    obs: já possui eliminação de stopwords"
   ]
  },
  {
   "cell_type": "code",
   "execution_count": 7,
   "metadata": {},
   "outputs": [],
   "source": [
    "from nltk.corpus import stopwords\n",
    "#talvez seja necessário baixar as stopwords com o comando no CMD: python -m nltk.downloader stopwords\n",
    "from string import punctuation\n",
    "from nltk.tokenize import TweetTokenizer\n",
    "import re\n",
    "\n",
    "#Instância um objeto do tipo TweetTokenizer que já deixa tudo em minúsculo, trata espaços,  \n",
    "# e elimina menções (mas não tira números).\n",
    "tweet_tokenizer = TweetTokenizer(strip_handles=True, reduce_len=True, preserve_case=False) \n",
    "\n",
    "#definição das stopwords (inclui pontuação para eliminá-la, caso apareça)\n",
    "stopwords = set(stopwords.words('portuguese') + list(punctuation))\n",
    "\n",
    "def tokenizar_texto(texto_completo):\n",
    "    texto_tokenizado_lst = tweet_tokenizer.tokenize(texto_completo)\n",
    "    palavras_sem_stopwords = [palavra for palavra in texto_tokenizado_lst if palavra not in stopwords]\n",
    "    return palavras_sem_stopwords\n",
    "   \n",
    "    #texto_tokenizado_str = ','.join(texto_tokenizado_lst) #linha usada só se o arquivo for salvo em uma tabela\n",
    "    #with open('tokens_tweets_23abr.csv','a', encoding=\"utf-8\") as fd:\n",
    "    #            fd.write(texto_tokenizado_str)                           #escreve uma linha de texto tokenizado no csv\n",
    "    #            fd.write(\"\\n\")"
   ]
  },
  {
   "cell_type": "markdown",
   "metadata": {},
   "source": [
    "### Função para salvar o dicionário de contagem de palavras-chave#"
   ]
  },
  {
   "cell_type": "code",
   "execution_count": 59,
   "metadata": {},
   "outputs": [],
   "source": [
    "from nltk.probability import FreqDist\n",
    "from collections import defaultdict\n",
    "\n",
    "def guardar_contagem(dicionario_contagem):    \n",
    "    with open('Contagem_palavras_chave.csv', 'w', encoding=\"utf-8\") as f:\n",
    "        f.write(\"Palavra-chave,Ocorrências\\n\")\n",
    "        for key in dicionario_contagem.keys():\n",
    "            f.write(\"%s,%s\\n\"%(key,dicionario_contagem[key]))\n"
   ]
  },
  {
   "cell_type": "markdown",
   "metadata": {},
   "source": [
    "### Leitura dos dados, aplicação do tratamento e da tokenização\n",
    "obs: pode demorar"
   ]
  },
  {
   "cell_type": "code",
   "execution_count": 34,
   "metadata": {},
   "outputs": [
    {
     "name": "stdout",
     "output_type": "stream",
     "text": [
      "2531075 tweets processados...\n",
      "defaultdict(<class 'int'>, {'quarentena': 1185511, 'corona': 272468, 'cloroquina': 47555, 'covid': 194604, 'hidroxicloroquina': 10155, 'distanciamento': 8943, 'confinamento': 11667, 'sars': 558})\n"
     ]
    }
   ],
   "source": [
    "## Define a função que lê os dados e retorna um dicionario com o texto de todos os tweets ##\n",
    "import pandas as pd\n",
    "from collections import defaultdict\n",
    "from IPython.display import clear_output\n",
    "\n",
    "#Lista de palavras-chave. O termo 'distanciamento social' foi alterado para 'distanciamento' porque o programa ainda não consegue lidar com bigramas\n",
    "Palavras_chave = ['corona', 'covid', 'coronavírus', 'covid19', 'quarentena', 'hidroxicloroquina', 'cloroquina', 'confinamento', 'distanciamento', 'aglomeracão', 'aglomerações', 'sars', 'covid-19']\n",
    "\n",
    "Sumario_dict = defaultdict(int)     ##Criação de um tipo diferente de dicionário, capaz de fazer contagens...\n",
    "\n",
    "def processar_tweets_23abr():\n",
    "    contador = 0\n",
    "    dados = pd.read_json('tweets_222_23abr2020.json', convert_dates=False, lines=True, chunksize=500)\n",
    "    #pd.set_option(\"display.max_colwidth\", 100000)  #Não deixa trazer visualizações truncadas (não interfere no resultado)\n",
    "    \n",
    "    for df_tweets_retweets in dados:\n",
    "       \n",
    "        #Cria um novo dataframe contendo somente os tweets (que não tem o atributo 'retweeted_status')\n",
    "        df_tweets = df_tweets_retweets[pd.isnull(df_tweets_retweets['retweeted_status'])]\n",
    "        \n",
    "        #Percorre esse novo dataframe selecionando apenas o texto de cada tweet\n",
    "        for texto_tweet in df_tweets[\"text\"]:  #aqui é possivel acessar outros atributos dos tweets ao alterar a chave \"text\"\n",
    "            \n",
    "            clear_output()\n",
    "            \n",
    "            contador += 1\n",
    "            print(\"%s tweets processados...\" %(str(contador))) ##mostra o número de tweets processados até o momento\n",
    "            \n",
    "            texto_tokenizado = tokenizar_texto(texto_tweet)   ##Aqui o texto é limpo e tokenizado\n",
    "            \n",
    "            \n",
    "            #print(texto_tokenizado)\n",
    "            \n",
    "            \n",
    "            for palavra in texto_tokenizado:                  ##Aqui as palavras-chave são contadas e colocadas em um dict\n",
    "                if palavra in Palavras_chave:                 \n",
    "                    Sumario_dict[palavra] += 1 \n",
    "            \n",
    "            #print(Sumario_dict)\n",
    "         \n",
    "        #break          #tire o break para lidar com todos os dados\n",
    "    \n",
    "    \n",
    "    print(Sumario_dict)\n",
    "    guardar_contagem(Sumario_dict)\n",
    "    \n",
    "            \n",
    "#processar_tweets_23abr()   <-------------------- use para ativar a função"
   ]
  },
  {
   "cell_type": "markdown",
   "metadata": {},
   "source": [
    "### Leitura do dicionario e plotagem"
   ]
  },
  {
   "cell_type": "code",
   "execution_count": 89,
   "metadata": {},
   "outputs": [
    {
     "name": "stdout",
     "output_type": "stream",
     "text": [
      "       Palavra-chave  Ocorrências\n",
      "0         quarentena      1185511\n",
      "1             corona       272468\n",
      "3              covid       194604\n",
      "2         cloroquina        47555\n",
      "6       confinamento        11667\n",
      "4  hidroxicloroquina        10155\n",
      "5     distanciamento         8943\n",
      "7               sars          558\n"
     ]
    },
    {
     "data": {
      "image/png": "[encoded data removed]",
      "text/plain": [
       "<Figure size 1080x720 with 1 Axes>"
      ]
     },
     "metadata": {
      "needs_background": "light"
     },
     "output_type": "display_data"
    }
   ],
   "source": [
    "##teste##\n",
    "##apesar de no CSV os emojis aparecerem desconfigurados (no excell), quando eles são lidos no pandas, são reconfigurados normalmente\"\n",
    "import matplotlib.pyplot as plt\n",
    "import pandas as pd\n",
    "\n",
    "pd.set_option('display.max_colwidth', None)\n",
    "df_contagem = pd.read_csv('Contagem_palavras_chave.csv', sep = \",\") #coloque header=None se não houver cabeçalho\n",
    "df_contagem = df_contagem.sort_values(by='Ocorrências', ascending=False)\n",
    "\n",
    "print(df_contagem)\n",
    "\n",
    "grafico_barras = df_contagem.plot(x ='Palavra-chave', y='Ocorrências', kind='barh', title =\"Ocorrência de palavras-chave nos tweets\",figsize=(15,10),legend=False, fontsize=12)\n",
    "grafico_barras.set_ylabel(\"Palavra-chave\",fontsize=18)\n",
    "grafico_barras.set_xlabel(\"Ocorrências\",fontsize=18)\n",
    "\n",
    "plt.grid()\n",
    "plt.xscale(\"log\")\n",
    "plt.show()\n",
    "\n"
   ]
  },
  {
   "cell_type": "code",
   "execution_count": null,
   "metadata": {},
   "outputs": [],
   "source": []
  }
 ],
 "metadata": {
  "kernelspec": {
   "display_name": "Python 3",
   "language": "python",
   "name": "python3"
  },
  "language_info": {
   "codemirror_mode": {
    "name": "ipython",
    "version": 3
   },
   "file_extension": ".py",
   "mimetype": "text/x-python",
   "name": "python",
   "nbconvert_exporter": "python",
   "pygments_lexer": "ipython3",
   "version": "3.7.6"
  }
 },
 "nbformat": 4,
 "nbformat_minor": 4
}
