{
 "cells": [
  {
   "cell_type": "code",
   "execution_count": 1,
   "metadata": {},
   "outputs": [],
   "source": [
    "import nltk\n",
    "import re\n",
    "import pandas as pd\n",
    "from IPython.display import clear_output\n",
    "from collections import defaultdict\n",
    "from string import punctuation\n",
    "\n",
    "#stopwords em portugues\n",
    "from nltk.corpus import stopwords\n",
    "stopwords = set(stopwords.words('portuguese') + list(punctuation) + ['“','”'])\n",
    "\n",
    "#funçao pra limpeza de texto\n",
    "from nltk.tokenize import TweetTokenizer\n",
    "tweet_tokenizer = TweetTokenizer(strip_handles=True, reduce_len=True, preserve_case=False)"
   ]
  },
  {
   "cell_type": "code",
   "execution_count": 2,
   "metadata": {},
   "outputs": [],
   "source": [
    "#funçao pra leitura de dados e criaçao de dataframe\n",
    "def json_to_dataframe(nome_json, colunas, chunk):\n",
    "    dados = pd.read_json(nome_json, convert_dates = False, lines = True, chunksize = chunk)    \n",
    "    \n",
    "    for df_tweets_retweets in dados:\n",
    "        yield df_tweets_retweets[colunas]"
   ]
  },
  {
   "cell_type": "code",
   "execution_count": 3,
   "metadata": {},
   "outputs": [],
   "source": [
    "#funçao pra limpar texto e retirar stopwords\n",
    "def tokenizar_texto(texto_tweet):\n",
    "    texto_tokenizado = tweet_tokenizer.tokenize(texto_tweet)\n",
    "\n",
    "    if texto_tokenizado[0] == \"rt\" and texto_tokenizado[1] == \":\":\n",
    "        del texto_tokenizado[0]\n",
    "    \n",
    "    palavras_sem_stopwords = [palavra for palavra in texto_tokenizado if palavra not in stopwords] \n",
    "    return palavras_sem_stopwords"
   ]
  },
  {
   "cell_type": "code",
   "execution_count": 4,
   "metadata": {},
   "outputs": [],
   "source": [
    "#funçao pra criar dicionario com a data e quantidade das palavras chaves\n",
    "def contagem_pchaves_data(pchaves_lista, gerador):\n",
    "    \n",
    "    dict_cont_pchaves = defaultdict(int)\n",
    "    dict_datas_pchaves = defaultdict(dict)            \n",
    "    \n",
    "    for dataframe in gerador:        \n",
    "        for linha in dataframe.values:            \n",
    "            texto_tweet = list(tokenizar_texto(linha[0]))\n",
    "\n",
    "            for pchave in pchaves_lista:                \n",
    "                if pchave in texto_tweet:\n",
    "                    dict_cont_pchaves[pchave] += 1\n",
    "                    data = linha[1]['$date'][:10]\n",
    "                    if data not in dict_datas_pchaves:\n",
    "                        dfldict_cont_pchaves[pchave] = 0\n",
    "                    dict_datas_pchaves[data] = dict(dict_cont_pchaves)\n",
    "            clear_output()\n",
    "            \n",
    "    escrever_arq_csv(dict_datas_pchaves)"
   ]
  },
  {
   "cell_type": "code",
   "execution_count": 5,
   "metadata": {},
   "outputs": [],
   "source": [
    "#funçao pra escrever os resultados no arquivo csv\n",
    "def escrever_arq_csv(dict_datas_pchaves):\n",
    "    with open('cont_quaren_conf_data.csv', 'w', encoding=\"utf-8\") as f:\n",
    "        f.write(\"Palavra-chave;Ocorrências\\n\")\n",
    "\n",
    "        for key in dict_datas_pchaves.keys():\n",
    "            f.write(\"%s;%s\\n\"%(key, dict_datas_pchaves[key]))\n",
    "            \n",
    "    print('A contagem de palavras chaves por data foi salva com sucesso no arquivo')"
   ]
  },
  {
   "cell_type": "code",
   "execution_count": 6,
   "metadata": {},
   "outputs": [
    {
     "name": "stdout",
     "output_type": "stream",
     "text": [
      "A contagem de palavras chaves por data foi salva com sucesso no arquivo\n"
     ]
    }
   ],
   "source": [
    "#execuçao do codigo\n",
    "gerador = json_to_dataframe('tweets_teste2.json',[\"text\",\"created_at\"], 30)\n",
    "\n",
    "contagem_pchaves_data(['hidroxicloroquina', 'cloroquina'], gerador)"
   ]
  },
  {
   "cell_type": "code",
   "execution_count": null,
   "metadata": {},
   "outputs": [],
   "source": []
  }
 ],
 "metadata": {
  "kernelspec": {
   "display_name": "Python 3",
   "language": "python",
   "name": "python3"
  },
  "language_info": {
   "codemirror_mode": {
    "name": "ipython",
    "version": 3
   },
   "file_extension": ".py",
   "mimetype": "text/x-python",
   "name": "python",
   "nbconvert_exporter": "python",
   "pygments_lexer": "ipython3",
   "version": "3.7.6"
  }
 },
 "nbformat": 4,
 "nbformat_minor": 4
}
