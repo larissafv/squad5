{
 "cells": [
  {
   "cell_type": "markdown",
   "metadata": {},
   "source": [
    "## Análise de unigramas nos Tweets"
   ]
  },
  {
   "cell_type": "code",
   "execution_count": 1,
   "metadata": {},
   "outputs": [],
   "source": [
    "#Descompactando os dados\n",
    "import gzip\n",
    "import shutil\n",
    "\n",
    "with gzip.open('tweets_222_23abr2020.gz', 'rb') as entrada:\n",
    "    with open('tweets_222_23abr2020.json', 'wb') as saida:\n",
    "        shutil.copyfileobj(entrada, saida)"
   ]
  },
  {
   "cell_type": "code",
   "execution_count": 14,
   "metadata": {},
   "outputs": [],
   "source": [
    "import pandas as pd\n",
    "import re\n",
    "import nltk\n",
    "from nltk.tokenize import TweetTokenizer\n",
    "from nltk.corpus import stopwords\n",
    "from string import punctuation"
   ]
  },
  {
   "cell_type": "code",
   "execution_count": 19,
   "metadata": {},
   "outputs": [],
   "source": [
    "#Ler dados\n",
    "df = pd.read_json('tweets_222_23abr2020.json',convert_dates=False,lines=True,chunksize=200)\n",
    "\n"
   ]
  },
  {
   "cell_type": "code",
   "execution_count": 20,
   "metadata": {},
   "outputs": [
    {
     "name": "stderr",
     "output_type": "stream",
     "text": [
      "[nltk_data] Downloading package stopwords to\n",
      "[nltk_data]     /home/gabrielapaixao/nltk_data...\n",
      "[nltk_data]   Package stopwords is already up-to-date!\n"
     ]
    },
    {
     "data": {
      "text/plain": [
       "True"
      ]
     },
     "execution_count": 20,
     "metadata": {},
     "output_type": "execute_result"
    }
   ],
   "source": [
    "nltk.download('stopwords')"
   ]
  },
  {
   "cell_type": "code",
   "execution_count": 29,
   "metadata": {},
   "outputs": [],
   "source": [
    "stop_words = stopwords.words('portuguese') + list(punctuation)+ ['“','”','…','rt']\n",
    "tweet_tokenizer = TweetTokenizer(strip_handles=True, reduce_len=True, preserve_case=False) \n",
    "\n",
    "def tokenize(text):\n",
    "    tokenized_text = tweet_tokenizer.tokenize(text)\n",
    "    filtered_words = [word for word in tokenized_text if word not in stop_words]\n",
    "    return filtered_words"
   ]
  },
  {
   "cell_type": "code",
   "execution_count": 25,
   "metadata": {},
   "outputs": [
    {
     "data": {
      "text/plain": [
       "1104000    RT @marcofeliciano: 🚨URGENTE! Estudo comprova ...\n",
       "1104001    RT @cienciausp: Para ajudara resolver o proble...\n",
       "1104002    Vou mandar o significado de quarentena pro pes...\n",
       "1104003          Quero que o corona vírus vá embora do mundo\n",
       "1104004    RT @FabioTalhari: Mas o que significa isto? É ...\n",
       "dtype: object"
      ]
     },
     "execution_count": 25,
     "metadata": {},
     "output_type": "execute_result"
    }
   ],
   "source": [
    "tweets = pd.Series(name = 'ID')\n",
    "\n",
    "#testando com 5000 tweets\n",
    "n=0\n",
    "for i in df:\n",
    "    n+=1\n",
    "    if(n<5000):\n",
    "        tweets = tweets.append(i['text'])\n",
    "    else:\n",
    "        break\n",
    "\n",
    "tweets.head()"
   ]
  },
  {
   "cell_type": "code",
   "execution_count": 40,
   "metadata": {},
   "outputs": [],
   "source": [
    "freq={} #número de ocorrências\n",
    "num_tweets={} #número de tweets em que o unigrama ocorre\n",
    "\n",
    "counts = [] #lista auxiliar de unigramas\n",
    "\n",
    "for tweet in tweets.values:\n",
    "    words = tokenize(tweet)\n",
    "    counts.clear()\n",
    "    for unigram in words:\n",
    "        if unigram in freq:\n",
    "            freq[unigram] += 1\n",
    "            if unigram not in counts:\n",
    "                num_tweets[unigram] += 1\n",
    "                counts.append(unigram)\n",
    "        else:\n",
    "            freq[unigram] = 1\n",
    "            num_tweets[unigram] = 1\n",
    "            counts.append(unigram)\n"
   ]
  },
  {
   "cell_type": "code",
   "execution_count": 49,
   "metadata": {},
   "outputs": [],
   "source": [
    "#apresentar em forma de tabela \n",
    "unigramas = pd.DataFrame([freq,num_tweets]).T.rename(columns={0:'Ocorrências',1:'Tweets'})"
   ]
  },
  {
   "cell_type": "code",
   "execution_count": 50,
   "metadata": {},
   "outputs": [
    {
     "data": {
      "text/html": [
       "<div>\n",
       "<style scoped>\n",
       "    .dataframe tbody tr th:only-of-type {\n",
       "        vertical-align: middle;\n",
       "    }\n",
       "\n",
       "    .dataframe tbody tr th {\n",
       "        vertical-align: top;\n",
       "    }\n",
       "\n",
       "    .dataframe thead th {\n",
       "        text-align: right;\n",
       "    }\n",
       "</style>\n",
       "<table border=\"1\" class=\"dataframe\">\n",
       "  <thead>\n",
       "    <tr style=\"text-align: right;\">\n",
       "      <th></th>\n",
       "      <th>Ocorrências</th>\n",
       "      <th>Tweets</th>\n",
       "    </tr>\n",
       "  </thead>\n",
       "  <tbody>\n",
       "    <tr>\n",
       "      <th>quarentena</th>\n",
       "      <td>455328</td>\n",
       "      <td>444829</td>\n",
       "    </tr>\n",
       "    <tr>\n",
       "      <th>covid</th>\n",
       "      <td>116599</td>\n",
       "      <td>116092</td>\n",
       "    </tr>\n",
       "    <tr>\n",
       "      <th>19</th>\n",
       "      <td>101746</td>\n",
       "      <td>101327</td>\n",
       "    </tr>\n",
       "    <tr>\n",
       "      <th>pra</th>\n",
       "      <td>89646</td>\n",
       "      <td>84673</td>\n",
       "    </tr>\n",
       "    <tr>\n",
       "      <th>vai</th>\n",
       "      <td>79269</td>\n",
       "      <td>74313</td>\n",
       "    </tr>\n",
       "  </tbody>\n",
       "</table>\n",
       "</div>"
      ],
      "text/plain": [
       "            Ocorrências  Tweets\n",
       "quarentena       455328  444829\n",
       "covid            116599  116092\n",
       "19               101746  101327\n",
       "pra               89646   84673\n",
       "vai               79269   74313"
      ]
     },
     "execution_count": 50,
     "metadata": {},
     "output_type": "execute_result"
    }
   ],
   "source": [
    "unigramas.sort_values('Ocorrências',ascending = False).head()"
   ]
  },
  {
   "cell_type": "code",
   "execution_count": 51,
   "metadata": {},
   "outputs": [
    {
     "data": {
      "text/html": [
       "<div>\n",
       "<style scoped>\n",
       "    .dataframe tbody tr th:only-of-type {\n",
       "        vertical-align: middle;\n",
       "    }\n",
       "\n",
       "    .dataframe tbody tr th {\n",
       "        vertical-align: top;\n",
       "    }\n",
       "\n",
       "    .dataframe thead th {\n",
       "        text-align: right;\n",
       "    }\n",
       "</style>\n",
       "<table border=\"1\" class=\"dataframe\">\n",
       "  <thead>\n",
       "    <tr style=\"text-align: right;\">\n",
       "      <th></th>\n",
       "      <th>Ocorrências</th>\n",
       "      <th>Tweets</th>\n",
       "    </tr>\n",
       "  </thead>\n",
       "  <tbody>\n",
       "    <tr>\n",
       "      <th>quarentena</th>\n",
       "      <td>455328</td>\n",
       "      <td>444829</td>\n",
       "    </tr>\n",
       "    <tr>\n",
       "      <th>covid</th>\n",
       "      <td>116599</td>\n",
       "      <td>116092</td>\n",
       "    </tr>\n",
       "    <tr>\n",
       "      <th>19</th>\n",
       "      <td>101746</td>\n",
       "      <td>101327</td>\n",
       "    </tr>\n",
       "    <tr>\n",
       "      <th>pra</th>\n",
       "      <td>89646</td>\n",
       "      <td>84673</td>\n",
       "    </tr>\n",
       "    <tr>\n",
       "      <th>corona</th>\n",
       "      <td>77648</td>\n",
       "      <td>76859</td>\n",
       "    </tr>\n",
       "  </tbody>\n",
       "</table>\n",
       "</div>"
      ],
      "text/plain": [
       "            Ocorrências  Tweets\n",
       "quarentena       455328  444829\n",
       "covid            116599  116092\n",
       "19               101746  101327\n",
       "pra               89646   84673\n",
       "corona            77648   76859"
      ]
     },
     "execution_count": 51,
     "metadata": {},
     "output_type": "execute_result"
    }
   ],
   "source": [
    "unigramas.sort_values('Tweets',ascending = False).head()"
   ]
  },
  {
   "cell_type": "code",
   "execution_count": 52,
   "metadata": {},
   "outputs": [],
   "source": [
    "#salvar resultados em um csv\n",
    "unigramas.to_csv('tweets-unigramas.csv',sep=';')"
   ]
  },
  {
   "cell_type": "code",
   "execution_count": null,
   "metadata": {},
   "outputs": [],
   "source": []
  }
 ],
 "metadata": {
  "kernelspec": {
   "display_name": "Python 3",
   "language": "python",
   "name": "python3"
  },
  "language_info": {
   "codemirror_mode": {
    "name": "ipython",
    "version": 3
   },
   "file_extension": ".py",
   "mimetype": "text/x-python",
   "name": "python",
   "nbconvert_exporter": "python",
   "pygments_lexer": "ipython3",
   "version": "3.7.3"
  }
 },
 "nbformat": 4,
 "nbformat_minor": 2
}
